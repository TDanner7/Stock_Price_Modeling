{
 "cells": [
  {
   "cell_type": "code",
   "execution_count": 1,
   "id": "bdd697ed-8cc2-4836-a7ed-ace7d83774b1",
   "metadata": {},
   "outputs": [
    {
     "name": "stdout",
     "output_type": "stream",
     "text": [
      "Requirement already satisfied: finta in c:\\users\\asia\\anaconda3\\envs\\dev\\lib\\site-packages (1.3)\n",
      "Requirement already satisfied: numpy in c:\\users\\asia\\anaconda3\\envs\\dev\\lib\\site-packages (from finta) (1.24.3)\n",
      "Requirement already satisfied: pandas in c:\\users\\asia\\anaconda3\\envs\\dev\\lib\\site-packages (from finta) (1.5.3)\n",
      "Requirement already satisfied: python-dateutil>=2.8.1 in c:\\users\\asia\\anaconda3\\envs\\dev\\lib\\site-packages (from pandas->finta) (2.8.2)\n",
      "Requirement already satisfied: pytz>=2020.1 in c:\\users\\asia\\anaconda3\\envs\\dev\\lib\\site-packages (from pandas->finta) (2023.3.post1)\n",
      "Requirement already satisfied: six>=1.5 in c:\\users\\asia\\anaconda3\\envs\\dev\\lib\\site-packages (from python-dateutil>=2.8.1->pandas->finta) (1.16.0)\n"
     ]
    }
   ],
   "source": [
    "! pip install finta"
   ]
  },
  {
   "cell_type": "code",
   "execution_count": 2,
   "id": "d6ae0eeb-457e-43b8-abea-643f75fcbab8",
   "metadata": {
    "tags": []
   },
   "outputs": [
    {
     "name": "stderr",
     "output_type": "stream",
     "text": [
      "C:\\Users\\Asia\\anaconda3\\envs\\dev\\lib\\site-packages\\yfinance\\base.py:48: FutureWarning: The default dtype for empty Series will be 'object' instead of 'float64' in a future version. Specify a dtype explicitly to silence this warning.\n",
      "  _empty_series = pd.Series()\n"
     ]
    }
   ],
   "source": [
    "import pandas as pd\n",
    "import numpy as np\n",
    "from pathlib import Path\n",
    "import matplotlib.pyplot as plt\n",
    "plt.style.use('fivethirtyeight')\n",
    "\n",
    "import yfinance as yahooFinance\n",
    "from datetime import datetime, timedelta\n",
    "from pandas.tseries.offsets import DateOffset\n",
    "from finta import TA\n",
    "\n",
    "from sklearn.preprocessing import StandardScaler\n",
    "# from sklearn.pipeline import Pipeline\n",
    "from sklearn.model_selection import GridSearchCV\n",
    "from sklearn.ensemble import RandomForestRegressor\n",
    "from sklearn.ensemble import GradientBoostingRegressor\n",
    "from sklearn.linear_model import LinearRegression\n",
    "from sklearn.linear_model import Ridge\n",
    "\n",
    "from sklearn.ensemble import StackingRegressor\n",
    "from sklearn.ensemble import VotingRegressor\n",
    "\n",
    "import xgboost as xgb\n",
    "from xgboost.sklearn import XGBRegressor\n",
    "\n",
    "import warnings\n",
    "warnings.filterwarnings(\"ignore\")\n"
   ]
  },
  {
   "cell_type": "code",
   "execution_count": 3,
   "id": "1d2d8ee1-d7d4-4ef7-aca1-301565958715",
   "metadata": {
    "tags": []
   },
   "outputs": [
    {
     "name": "stderr",
     "output_type": "stream",
     "text": [
      "[*********************100%%**********************]  1 of 1 completed\n"
     ]
    },
    {
     "data": {
      "text/html": [
       "<div>\n",
       "<style scoped>\n",
       "    .dataframe tbody tr th:only-of-type {\n",
       "        vertical-align: middle;\n",
       "    }\n",
       "\n",
       "    .dataframe tbody tr th {\n",
       "        vertical-align: top;\n",
       "    }\n",
       "\n",
       "    .dataframe thead th {\n",
       "        text-align: right;\n",
       "    }\n",
       "</style>\n",
       "<table border=\"1\" class=\"dataframe\">\n",
       "  <thead>\n",
       "    <tr style=\"text-align: right;\">\n",
       "      <th></th>\n",
       "      <th>Open</th>\n",
       "      <th>High</th>\n",
       "      <th>Low</th>\n",
       "      <th>Close</th>\n",
       "      <th>Adj Close</th>\n",
       "      <th>Volume</th>\n",
       "    </tr>\n",
       "    <tr>\n",
       "      <th>Date</th>\n",
       "      <th></th>\n",
       "      <th></th>\n",
       "      <th></th>\n",
       "      <th></th>\n",
       "      <th></th>\n",
       "      <th></th>\n",
       "    </tr>\n",
       "  </thead>\n",
       "  <tbody>\n",
       "    <tr>\n",
       "      <th>2012-03-01</th>\n",
       "      <td>56.590000</td>\n",
       "      <td>56.910000</td>\n",
       "      <td>56.200001</td>\n",
       "      <td>56.759998</td>\n",
       "      <td>40.712326</td>\n",
       "      <td>8223000</td>\n",
       "    </tr>\n",
       "    <tr>\n",
       "      <th>2012-03-02</th>\n",
       "      <td>56.590000</td>\n",
       "      <td>56.900002</td>\n",
       "      <td>56.360001</td>\n",
       "      <td>56.590000</td>\n",
       "      <td>40.590385</td>\n",
       "      <td>3462100</td>\n",
       "    </tr>\n",
       "    <tr>\n",
       "      <th>2012-03-05</th>\n",
       "      <td>56.709999</td>\n",
       "      <td>56.860001</td>\n",
       "      <td>56.119999</td>\n",
       "      <td>56.700001</td>\n",
       "      <td>40.669296</td>\n",
       "      <td>4053900</td>\n",
       "    </tr>\n",
       "    <tr>\n",
       "      <th>2012-03-06</th>\n",
       "      <td>56.240002</td>\n",
       "      <td>56.689999</td>\n",
       "      <td>56.119999</td>\n",
       "      <td>56.490002</td>\n",
       "      <td>40.518669</td>\n",
       "      <td>6344500</td>\n",
       "    </tr>\n",
       "    <tr>\n",
       "      <th>2012-03-07</th>\n",
       "      <td>56.529999</td>\n",
       "      <td>56.680000</td>\n",
       "      <td>56.259998</td>\n",
       "      <td>56.639999</td>\n",
       "      <td>40.626244</td>\n",
       "      <td>4776600</td>\n",
       "    </tr>\n",
       "  </tbody>\n",
       "</table>\n",
       "</div>"
      ],
      "text/plain": [
       "                 Open       High        Low      Close  Adj Close   Volume\n",
       "Date                                                                      \n",
       "2012-03-01  56.590000  56.910000  56.200001  56.759998  40.712326  8223000\n",
       "2012-03-02  56.590000  56.900002  56.360001  56.590000  40.590385  3462100\n",
       "2012-03-05  56.709999  56.860001  56.119999  56.700001  40.669296  4053900\n",
       "2012-03-06  56.240002  56.689999  56.119999  56.490002  40.518669  6344500\n",
       "2012-03-07  56.529999  56.680000  56.259998  56.639999  40.626244  4776600"
      ]
     },
     "metadata": {},
     "output_type": "display_data"
    },
    {
     "data": {
      "text/html": [
       "<div>\n",
       "<style scoped>\n",
       "    .dataframe tbody tr th:only-of-type {\n",
       "        vertical-align: middle;\n",
       "    }\n",
       "\n",
       "    .dataframe tbody tr th {\n",
       "        vertical-align: top;\n",
       "    }\n",
       "\n",
       "    .dataframe thead th {\n",
       "        text-align: right;\n",
       "    }\n",
       "</style>\n",
       "<table border=\"1\" class=\"dataframe\">\n",
       "  <thead>\n",
       "    <tr style=\"text-align: right;\">\n",
       "      <th></th>\n",
       "      <th>Open</th>\n",
       "      <th>High</th>\n",
       "      <th>Low</th>\n",
       "      <th>Close</th>\n",
       "      <th>Adj Close</th>\n",
       "      <th>Volume</th>\n",
       "    </tr>\n",
       "    <tr>\n",
       "      <th>Date</th>\n",
       "      <th></th>\n",
       "      <th></th>\n",
       "      <th></th>\n",
       "      <th></th>\n",
       "      <th></th>\n",
       "      <th></th>\n",
       "    </tr>\n",
       "  </thead>\n",
       "  <tbody>\n",
       "    <tr>\n",
       "      <th>2024-02-23</th>\n",
       "      <td>150.979996</td>\n",
       "      <td>152.779999</td>\n",
       "      <td>150.410004</td>\n",
       "      <td>151.479996</td>\n",
       "      <td>151.479996</td>\n",
       "      <td>3503600</td>\n",
       "    </tr>\n",
       "    <tr>\n",
       "      <th>2024-02-26</th>\n",
       "      <td>150.610001</td>\n",
       "      <td>150.949997</td>\n",
       "      <td>149.100006</td>\n",
       "      <td>150.149994</td>\n",
       "      <td>150.149994</td>\n",
       "      <td>3856900</td>\n",
       "    </tr>\n",
       "    <tr>\n",
       "      <th>2024-02-27</th>\n",
       "      <td>150.789993</td>\n",
       "      <td>152.309998</td>\n",
       "      <td>150.449997</td>\n",
       "      <td>151.990005</td>\n",
       "      <td>151.990005</td>\n",
       "      <td>2851700</td>\n",
       "    </tr>\n",
       "    <tr>\n",
       "      <th>2024-02-28</th>\n",
       "      <td>151.330002</td>\n",
       "      <td>152.250000</td>\n",
       "      <td>150.649994</td>\n",
       "      <td>151.440002</td>\n",
       "      <td>151.440002</td>\n",
       "      <td>2298300</td>\n",
       "    </tr>\n",
       "    <tr>\n",
       "      <th>2024-02-29</th>\n",
       "      <td>152.389999</td>\n",
       "      <td>153.649994</td>\n",
       "      <td>152.000000</td>\n",
       "      <td>152.919998</td>\n",
       "      <td>152.919998</td>\n",
       "      <td>4447800</td>\n",
       "    </tr>\n",
       "  </tbody>\n",
       "</table>\n",
       "</div>"
      ],
      "text/plain": [
       "                  Open        High         Low       Close   Adj Close  \\\n",
       "Date                                                                     \n",
       "2024-02-23  150.979996  152.779999  150.410004  151.479996  151.479996   \n",
       "2024-02-26  150.610001  150.949997  149.100006  150.149994  150.149994   \n",
       "2024-02-27  150.789993  152.309998  150.449997  151.990005  151.990005   \n",
       "2024-02-28  151.330002  152.250000  150.649994  151.440002  151.440002   \n",
       "2024-02-29  152.389999  153.649994  152.000000  152.919998  152.919998   \n",
       "\n",
       "             Volume  \n",
       "Date                 \n",
       "2024-02-23  3503600  \n",
       "2024-02-26  3856900  \n",
       "2024-02-27  2851700  \n",
       "2024-02-28  2298300  \n",
       "2024-02-29  4447800  "
      ]
     },
     "metadata": {},
     "output_type": "display_data"
    }
   ],
   "source": [
    "end_date= \"2024-03-01\"\n",
    "start_date=\"2012-03-01\"\n",
    "ticker= \"TGT\" # \"input('Enter ticker from the list: \"[\"AAPL\",\"MSFT\",\"S&P500\"]\"  ') \n",
    "ticker_df = yahooFinance.download(ticker, start=start_date, end=end_date, period='1d')\n",
    "display(ticker_df.head())\n",
    "display(ticker_df.tail())"
   ]
  },
  {
   "cell_type": "code",
   "execution_count": 4,
   "id": "2c625ba4-e2f2-4699-8171-ad3e4bf2b47c",
   "metadata": {
    "tags": []
   },
   "outputs": [
    {
     "data": {
      "text/plain": [
       "(3019, 6)"
      ]
     },
     "execution_count": 4,
     "metadata": {},
     "output_type": "execute_result"
    }
   ],
   "source": [
    "ticker_df.shape"
   ]
  },
  {
   "cell_type": "code",
   "execution_count": 5,
   "id": "95345cf6-c223-4023-ad9e-831db7a70618",
   "metadata": {
    "tags": []
   },
   "outputs": [],
   "source": [
    "ticker_df=ticker_df.drop(\"Adj Close\",axis=1)\n",
    "column=[\"open\",\"high\",\"low\",\"close\",\"volume\"]\n",
    "ticker_df.columns=column"
   ]
  },
  {
   "cell_type": "code",
   "execution_count": 6,
   "id": "7cce5bc7-cfcf-4307-ba7e-5a548b928e06",
   "metadata": {},
   "outputs": [],
   "source": [
    "# to determine the trend\n",
    "sma_window=[7,20,30,50,100,200]\n",
    "for i in sma_window:\n",
    "    ticker_df[f\"sma_{i}\"]=ticker_df[\"close\"].rolling(window=i).mean()\n",
    "    \n",
    "std_window=[7,20,30,50,100,200]\n",
    "for i in std_window:\n",
    "    ticker_df[f\"{i}_day_std\"]=ticker_df[\"close\"].rolling(window=i).std()\n",
    "    \n",
    "for i in sma_window:\n",
    "    ticker_df[f\"{i}_DEMA\"]=TA.DEMA(ticker_df, i)\n",
    "    \n",
    "ticker_df[[\"MACD\",\"MACD_Signal\"]]=TA.MACD(ticker_df)\n",
    "ticker_df[\"RSA\"]=TA.RSI(ticker_df,14)\n",
    "ticker_df[\"STOCH\"]=TA.STOCHRSI(ticker_df,14)\n",
    "ticker_df[\"RSI\"]=TA.RSI(ticker_df,14)\n",
    "\n"
   ]
  },
  {
   "cell_type": "code",
   "execution_count": 7,
   "id": "4e2737f8-5bf6-4875-9810-011ea6df2f68",
   "metadata": {},
   "outputs": [],
   "source": [
    "# calculate Daily Variation\n",
    "window= 1\n",
    "ticker_df[f\"close_{window}days\"]=ticker_df[\"close\"].shift(-window)"
   ]
  },
  {
   "cell_type": "code",
   "execution_count": 8,
   "id": "b7edb593-417a-4795-afc7-88437daea2cb",
   "metadata": {},
   "outputs": [
    {
     "data": {
      "text/html": [
       "<div>\n",
       "<style scoped>\n",
       "    .dataframe tbody tr th:only-of-type {\n",
       "        vertical-align: middle;\n",
       "    }\n",
       "\n",
       "    .dataframe tbody tr th {\n",
       "        vertical-align: top;\n",
       "    }\n",
       "\n",
       "    .dataframe thead th {\n",
       "        text-align: right;\n",
       "    }\n",
       "</style>\n",
       "<table border=\"1\" class=\"dataframe\">\n",
       "  <thead>\n",
       "    <tr style=\"text-align: right;\">\n",
       "      <th></th>\n",
       "      <th>open</th>\n",
       "      <th>high</th>\n",
       "      <th>low</th>\n",
       "      <th>close</th>\n",
       "      <th>volume</th>\n",
       "      <th>sma_7</th>\n",
       "      <th>sma_20</th>\n",
       "      <th>sma_30</th>\n",
       "      <th>sma_50</th>\n",
       "      <th>sma_100</th>\n",
       "      <th>...</th>\n",
       "      <th>100_DEMA</th>\n",
       "      <th>200_DEMA</th>\n",
       "      <th>MACD</th>\n",
       "      <th>MACD_Signal</th>\n",
       "      <th>RSA</th>\n",
       "      <th>STOCH</th>\n",
       "      <th>RSI</th>\n",
       "      <th>close_1days</th>\n",
       "      <th>high_close</th>\n",
       "      <th>open-low</th>\n",
       "    </tr>\n",
       "    <tr>\n",
       "      <th>Date</th>\n",
       "      <th></th>\n",
       "      <th></th>\n",
       "      <th></th>\n",
       "      <th></th>\n",
       "      <th></th>\n",
       "      <th></th>\n",
       "      <th></th>\n",
       "      <th></th>\n",
       "      <th></th>\n",
       "      <th></th>\n",
       "      <th></th>\n",
       "      <th></th>\n",
       "      <th></th>\n",
       "      <th></th>\n",
       "      <th></th>\n",
       "      <th></th>\n",
       "      <th></th>\n",
       "      <th></th>\n",
       "      <th></th>\n",
       "      <th></th>\n",
       "      <th></th>\n",
       "    </tr>\n",
       "  </thead>\n",
       "  <tbody>\n",
       "    <tr>\n",
       "      <th>2012-03-01</th>\n",
       "      <td>56.590000</td>\n",
       "      <td>56.910000</td>\n",
       "      <td>56.200001</td>\n",
       "      <td>56.759998</td>\n",
       "      <td>8223000</td>\n",
       "      <td>NaN</td>\n",
       "      <td>NaN</td>\n",
       "      <td>NaN</td>\n",
       "      <td>NaN</td>\n",
       "      <td>NaN</td>\n",
       "      <td>...</td>\n",
       "      <td>56.759998</td>\n",
       "      <td>56.759998</td>\n",
       "      <td>0.000000</td>\n",
       "      <td>0.000000</td>\n",
       "      <td>NaN</td>\n",
       "      <td>NaN</td>\n",
       "      <td>NaN</td>\n",
       "      <td>56.590000</td>\n",
       "      <td>0.150002</td>\n",
       "      <td>0.389999</td>\n",
       "    </tr>\n",
       "    <tr>\n",
       "      <th>2012-03-02</th>\n",
       "      <td>56.590000</td>\n",
       "      <td>56.900002</td>\n",
       "      <td>56.360001</td>\n",
       "      <td>56.590000</td>\n",
       "      <td>3462100</td>\n",
       "      <td>NaN</td>\n",
       "      <td>NaN</td>\n",
       "      <td>NaN</td>\n",
       "      <td>NaN</td>\n",
       "      <td>NaN</td>\n",
       "      <td>...</td>\n",
       "      <td>56.631654</td>\n",
       "      <td>56.632076</td>\n",
       "      <td>-0.003814</td>\n",
       "      <td>-0.002119</td>\n",
       "      <td>0.000000</td>\n",
       "      <td>NaN</td>\n",
       "      <td>0.000000</td>\n",
       "      <td>56.700001</td>\n",
       "      <td>0.310001</td>\n",
       "      <td>0.230000</td>\n",
       "    </tr>\n",
       "    <tr>\n",
       "      <th>2012-03-05</th>\n",
       "      <td>56.709999</td>\n",
       "      <td>56.860001</td>\n",
       "      <td>56.119999</td>\n",
       "      <td>56.700001</td>\n",
       "      <td>4053900</td>\n",
       "      <td>NaN</td>\n",
       "      <td>NaN</td>\n",
       "      <td>NaN</td>\n",
       "      <td>NaN</td>\n",
       "      <td>NaN</td>\n",
       "      <td>...</td>\n",
       "      <td>56.660695</td>\n",
       "      <td>56.660623</td>\n",
       "      <td>-0.001449</td>\n",
       "      <td>-0.001844</td>\n",
       "      <td>41.067062</td>\n",
       "      <td>NaN</td>\n",
       "      <td>41.067062</td>\n",
       "      <td>56.490002</td>\n",
       "      <td>0.160000</td>\n",
       "      <td>0.590000</td>\n",
       "    </tr>\n",
       "    <tr>\n",
       "      <th>2012-03-06</th>\n",
       "      <td>56.240002</td>\n",
       "      <td>56.689999</td>\n",
       "      <td>56.119999</td>\n",
       "      <td>56.490002</td>\n",
       "      <td>6344500</td>\n",
       "      <td>NaN</td>\n",
       "      <td>NaN</td>\n",
       "      <td>NaN</td>\n",
       "      <td>NaN</td>\n",
       "      <td>NaN</td>\n",
       "      <td>...</td>\n",
       "      <td>56.579840</td>\n",
       "      <td>56.580752</td>\n",
       "      <td>-0.007919</td>\n",
       "      <td>-0.003902</td>\n",
       "      <td>22.266928</td>\n",
       "      <td>NaN</td>\n",
       "      <td>22.266928</td>\n",
       "      <td>56.639999</td>\n",
       "      <td>0.199997</td>\n",
       "      <td>0.120003</td>\n",
       "    </tr>\n",
       "    <tr>\n",
       "      <th>2012-03-07</th>\n",
       "      <td>56.529999</td>\n",
       "      <td>56.680000</td>\n",
       "      <td>56.259998</td>\n",
       "      <td>56.639999</td>\n",
       "      <td>4776600</td>\n",
       "      <td>NaN</td>\n",
       "      <td>NaN</td>\n",
       "      <td>NaN</td>\n",
       "      <td>NaN</td>\n",
       "      <td>NaN</td>\n",
       "      <td>...</td>\n",
       "      <td>56.593470</td>\n",
       "      <td>56.593794</td>\n",
       "      <td>-0.005300</td>\n",
       "      <td>-0.004318</td>\n",
       "      <td>42.511210</td>\n",
       "      <td>NaN</td>\n",
       "      <td>42.511210</td>\n",
       "      <td>57.230000</td>\n",
       "      <td>0.040001</td>\n",
       "      <td>0.270000</td>\n",
       "    </tr>\n",
       "    <tr>\n",
       "      <th>...</th>\n",
       "      <td>...</td>\n",
       "      <td>...</td>\n",
       "      <td>...</td>\n",
       "      <td>...</td>\n",
       "      <td>...</td>\n",
       "      <td>...</td>\n",
       "      <td>...</td>\n",
       "      <td>...</td>\n",
       "      <td>...</td>\n",
       "      <td>...</td>\n",
       "      <td>...</td>\n",
       "      <td>...</td>\n",
       "      <td>...</td>\n",
       "      <td>...</td>\n",
       "      <td>...</td>\n",
       "      <td>...</td>\n",
       "      <td>...</td>\n",
       "      <td>...</td>\n",
       "      <td>...</td>\n",
       "      <td>...</td>\n",
       "      <td>...</td>\n",
       "    </tr>\n",
       "    <tr>\n",
       "      <th>2024-02-23</th>\n",
       "      <td>150.979996</td>\n",
       "      <td>152.779999</td>\n",
       "      <td>150.410004</td>\n",
       "      <td>151.479996</td>\n",
       "      <td>3503600</td>\n",
       "      <td>148.781427</td>\n",
       "      <td>145.897999</td>\n",
       "      <td>143.962000</td>\n",
       "      <td>142.538199</td>\n",
       "      <td>130.0171</td>\n",
       "      <td>...</td>\n",
       "      <td>141.310790</td>\n",
       "      <td>129.034883</td>\n",
       "      <td>2.595179</td>\n",
       "      <td>2.259615</td>\n",
       "      <td>64.405685</td>\n",
       "      <td>0.673349</td>\n",
       "      <td>64.405685</td>\n",
       "      <td>150.149994</td>\n",
       "      <td>1.300003</td>\n",
       "      <td>0.569992</td>\n",
       "    </tr>\n",
       "    <tr>\n",
       "      <th>2024-02-26</th>\n",
       "      <td>150.610001</td>\n",
       "      <td>150.949997</td>\n",
       "      <td>149.100006</td>\n",
       "      <td>150.149994</td>\n",
       "      <td>3856900</td>\n",
       "      <td>149.512854</td>\n",
       "      <td>146.278999</td>\n",
       "      <td>144.232999</td>\n",
       "      <td>142.827999</td>\n",
       "      <td>130.4517</td>\n",
       "      <td>...</td>\n",
       "      <td>141.750961</td>\n",
       "      <td>129.372358</td>\n",
       "      <td>2.570690</td>\n",
       "      <td>2.321830</td>\n",
       "      <td>60.654395</td>\n",
       "      <td>0.678406</td>\n",
       "      <td>60.654395</td>\n",
       "      <td>151.990005</td>\n",
       "      <td>0.800003</td>\n",
       "      <td>1.509995</td>\n",
       "    </tr>\n",
       "    <tr>\n",
       "      <th>2024-02-27</th>\n",
       "      <td>150.789993</td>\n",
       "      <td>152.309998</td>\n",
       "      <td>150.449997</td>\n",
       "      <td>151.990005</td>\n",
       "      <td>2851700</td>\n",
       "      <td>150.321426</td>\n",
       "      <td>146.802499</td>\n",
       "      <td>144.602333</td>\n",
       "      <td>143.100199</td>\n",
       "      <td>130.9000</td>\n",
       "      <td>...</td>\n",
       "      <td>142.249316</td>\n",
       "      <td>129.741641</td>\n",
       "      <td>2.668989</td>\n",
       "      <td>2.391262</td>\n",
       "      <td>63.796096</td>\n",
       "      <td>0.682839</td>\n",
       "      <td>63.796096</td>\n",
       "      <td>151.440002</td>\n",
       "      <td>0.319992</td>\n",
       "      <td>0.339996</td>\n",
       "    </tr>\n",
       "    <tr>\n",
       "      <th>2024-02-28</th>\n",
       "      <td>151.330002</td>\n",
       "      <td>152.250000</td>\n",
       "      <td>150.649994</td>\n",
       "      <td>151.440002</td>\n",
       "      <td>2298300</td>\n",
       "      <td>150.582855</td>\n",
       "      <td>147.348499</td>\n",
       "      <td>144.947999</td>\n",
       "      <td>143.306199</td>\n",
       "      <td>131.3482</td>\n",
       "      <td>...</td>\n",
       "      <td>142.710382</td>\n",
       "      <td>130.094925</td>\n",
       "      <td>2.671714</td>\n",
       "      <td>2.447352</td>\n",
       "      <td>62.197385</td>\n",
       "      <td>0.682937</td>\n",
       "      <td>62.197385</td>\n",
       "      <td>152.919998</td>\n",
       "      <td>0.809998</td>\n",
       "      <td>0.680008</td>\n",
       "    </tr>\n",
       "    <tr>\n",
       "      <th>2024-02-29</th>\n",
       "      <td>152.389999</td>\n",
       "      <td>153.649994</td>\n",
       "      <td>152.000000</td>\n",
       "      <td>152.919998</td>\n",
       "      <td>4447800</td>\n",
       "      <td>151.015712</td>\n",
       "      <td>148.040498</td>\n",
       "      <td>145.420665</td>\n",
       "      <td>143.597199</td>\n",
       "      <td>131.8259</td>\n",
       "      <td>...</td>\n",
       "      <td>143.214826</td>\n",
       "      <td>130.472632</td>\n",
       "      <td>2.761464</td>\n",
       "      <td>2.510174</td>\n",
       "      <td>64.756748</td>\n",
       "      <td>0.684226</td>\n",
       "      <td>64.756748</td>\n",
       "      <td>NaN</td>\n",
       "      <td>0.729996</td>\n",
       "      <td>0.389999</td>\n",
       "    </tr>\n",
       "  </tbody>\n",
       "</table>\n",
       "<p>3019 rows × 31 columns</p>\n",
       "</div>"
      ],
      "text/plain": [
       "                  open        high         low       close   volume  \\\n",
       "Date                                                                  \n",
       "2012-03-01   56.590000   56.910000   56.200001   56.759998  8223000   \n",
       "2012-03-02   56.590000   56.900002   56.360001   56.590000  3462100   \n",
       "2012-03-05   56.709999   56.860001   56.119999   56.700001  4053900   \n",
       "2012-03-06   56.240002   56.689999   56.119999   56.490002  6344500   \n",
       "2012-03-07   56.529999   56.680000   56.259998   56.639999  4776600   \n",
       "...                ...         ...         ...         ...      ...   \n",
       "2024-02-23  150.979996  152.779999  150.410004  151.479996  3503600   \n",
       "2024-02-26  150.610001  150.949997  149.100006  150.149994  3856900   \n",
       "2024-02-27  150.789993  152.309998  150.449997  151.990005  2851700   \n",
       "2024-02-28  151.330002  152.250000  150.649994  151.440002  2298300   \n",
       "2024-02-29  152.389999  153.649994  152.000000  152.919998  4447800   \n",
       "\n",
       "                 sma_7      sma_20      sma_30      sma_50   sma_100  ...  \\\n",
       "Date                                                                  ...   \n",
       "2012-03-01         NaN         NaN         NaN         NaN       NaN  ...   \n",
       "2012-03-02         NaN         NaN         NaN         NaN       NaN  ...   \n",
       "2012-03-05         NaN         NaN         NaN         NaN       NaN  ...   \n",
       "2012-03-06         NaN         NaN         NaN         NaN       NaN  ...   \n",
       "2012-03-07         NaN         NaN         NaN         NaN       NaN  ...   \n",
       "...                ...         ...         ...         ...       ...  ...   \n",
       "2024-02-23  148.781427  145.897999  143.962000  142.538199  130.0171  ...   \n",
       "2024-02-26  149.512854  146.278999  144.232999  142.827999  130.4517  ...   \n",
       "2024-02-27  150.321426  146.802499  144.602333  143.100199  130.9000  ...   \n",
       "2024-02-28  150.582855  147.348499  144.947999  143.306199  131.3482  ...   \n",
       "2024-02-29  151.015712  148.040498  145.420665  143.597199  131.8259  ...   \n",
       "\n",
       "              100_DEMA    200_DEMA      MACD  MACD_Signal        RSA  \\\n",
       "Date                                                                   \n",
       "2012-03-01   56.759998   56.759998  0.000000     0.000000        NaN   \n",
       "2012-03-02   56.631654   56.632076 -0.003814    -0.002119   0.000000   \n",
       "2012-03-05   56.660695   56.660623 -0.001449    -0.001844  41.067062   \n",
       "2012-03-06   56.579840   56.580752 -0.007919    -0.003902  22.266928   \n",
       "2012-03-07   56.593470   56.593794 -0.005300    -0.004318  42.511210   \n",
       "...                ...         ...       ...          ...        ...   \n",
       "2024-02-23  141.310790  129.034883  2.595179     2.259615  64.405685   \n",
       "2024-02-26  141.750961  129.372358  2.570690     2.321830  60.654395   \n",
       "2024-02-27  142.249316  129.741641  2.668989     2.391262  63.796096   \n",
       "2024-02-28  142.710382  130.094925  2.671714     2.447352  62.197385   \n",
       "2024-02-29  143.214826  130.472632  2.761464     2.510174  64.756748   \n",
       "\n",
       "               STOCH        RSI  close_1days  high_close  open-low  \n",
       "Date                                                                \n",
       "2012-03-01       NaN        NaN    56.590000    0.150002  0.389999  \n",
       "2012-03-02       NaN   0.000000    56.700001    0.310001  0.230000  \n",
       "2012-03-05       NaN  41.067062    56.490002    0.160000  0.590000  \n",
       "2012-03-06       NaN  22.266928    56.639999    0.199997  0.120003  \n",
       "2012-03-07       NaN  42.511210    57.230000    0.040001  0.270000  \n",
       "...              ...        ...          ...         ...       ...  \n",
       "2024-02-23  0.673349  64.405685   150.149994    1.300003  0.569992  \n",
       "2024-02-26  0.678406  60.654395   151.990005    0.800003  1.509995  \n",
       "2024-02-27  0.682839  63.796096   151.440002    0.319992  0.339996  \n",
       "2024-02-28  0.682937  62.197385   152.919998    0.809998  0.680008  \n",
       "2024-02-29  0.684226  64.756748          NaN    0.729996  0.389999  \n",
       "\n",
       "[3019 rows x 31 columns]"
      ]
     },
     "execution_count": 8,
     "metadata": {},
     "output_type": "execute_result"
    }
   ],
   "source": [
    "# calculate downward pressure on index\n",
    "ticker_df[\"high_close\"]=ticker_df[\"high\"]-ticker_df[\"close\"]\n",
    "# calculate upward pressure on index\n",
    "ticker_df[\"open-low\"]=ticker_df[\"open\"]-ticker_df[\"low\"]\n",
    "ticker_df"
   ]
  },
  {
   "cell_type": "code",
   "execution_count": 9,
   "id": "d1416a4a-0201-4a11-a3a9-1c377c301f32",
   "metadata": {
    "tags": []
   },
   "outputs": [],
   "source": [
    "\n",
    "lagging= [30,45,60,90,120,150,200]\n",
    "for lag in lagging:\n",
    "    ticker_df[f\"lag_{lag}\"]=ticker_df[\"close\"].shift((lag))"
   ]
  },
  {
   "cell_type": "code",
   "execution_count": 10,
   "id": "30125429-4b2e-4f83-8328-f78d38b4ed44",
   "metadata": {},
   "outputs": [],
   "source": [
    "ticker_df[\"vol_change\"]=ticker_df[\"volume\"].pct_change()"
   ]
  },
  {
   "cell_type": "code",
   "execution_count": 11,
   "id": "a5917e5e-f33a-421a-a628-dd3dd5461a31",
   "metadata": {
    "tags": []
   },
   "outputs": [
    {
     "data": {
      "text/html": [
       "<div>\n",
       "<style scoped>\n",
       "    .dataframe tbody tr th:only-of-type {\n",
       "        vertical-align: middle;\n",
       "    }\n",
       "\n",
       "    .dataframe tbody tr th {\n",
       "        vertical-align: top;\n",
       "    }\n",
       "\n",
       "    .dataframe thead th {\n",
       "        text-align: right;\n",
       "    }\n",
       "</style>\n",
       "<table border=\"1\" class=\"dataframe\">\n",
       "  <thead>\n",
       "    <tr style=\"text-align: right;\">\n",
       "      <th></th>\n",
       "      <th>open</th>\n",
       "      <th>high</th>\n",
       "      <th>low</th>\n",
       "      <th>close</th>\n",
       "      <th>volume</th>\n",
       "      <th>sma_7</th>\n",
       "      <th>sma_20</th>\n",
       "      <th>sma_30</th>\n",
       "      <th>sma_50</th>\n",
       "      <th>sma_100</th>\n",
       "      <th>...</th>\n",
       "      <th>high_close</th>\n",
       "      <th>open-low</th>\n",
       "      <th>lag_30</th>\n",
       "      <th>lag_45</th>\n",
       "      <th>lag_60</th>\n",
       "      <th>lag_90</th>\n",
       "      <th>lag_120</th>\n",
       "      <th>lag_150</th>\n",
       "      <th>lag_200</th>\n",
       "      <th>vol_change</th>\n",
       "    </tr>\n",
       "    <tr>\n",
       "      <th>Date</th>\n",
       "      <th></th>\n",
       "      <th></th>\n",
       "      <th></th>\n",
       "      <th></th>\n",
       "      <th></th>\n",
       "      <th></th>\n",
       "      <th></th>\n",
       "      <th></th>\n",
       "      <th></th>\n",
       "      <th></th>\n",
       "      <th></th>\n",
       "      <th></th>\n",
       "      <th></th>\n",
       "      <th></th>\n",
       "      <th></th>\n",
       "      <th></th>\n",
       "      <th></th>\n",
       "      <th></th>\n",
       "      <th></th>\n",
       "      <th></th>\n",
       "      <th></th>\n",
       "    </tr>\n",
       "  </thead>\n",
       "  <tbody>\n",
       "    <tr>\n",
       "      <th>2012-03-01</th>\n",
       "      <td>56.590000</td>\n",
       "      <td>56.910000</td>\n",
       "      <td>56.200001</td>\n",
       "      <td>56.759998</td>\n",
       "      <td>8223000</td>\n",
       "      <td>NaN</td>\n",
       "      <td>NaN</td>\n",
       "      <td>NaN</td>\n",
       "      <td>NaN</td>\n",
       "      <td>NaN</td>\n",
       "      <td>...</td>\n",
       "      <td>0.150002</td>\n",
       "      <td>0.389999</td>\n",
       "      <td>NaN</td>\n",
       "      <td>NaN</td>\n",
       "      <td>NaN</td>\n",
       "      <td>NaN</td>\n",
       "      <td>NaN</td>\n",
       "      <td>NaN</td>\n",
       "      <td>NaN</td>\n",
       "      <td>NaN</td>\n",
       "    </tr>\n",
       "    <tr>\n",
       "      <th>2012-03-02</th>\n",
       "      <td>56.590000</td>\n",
       "      <td>56.900002</td>\n",
       "      <td>56.360001</td>\n",
       "      <td>56.590000</td>\n",
       "      <td>3462100</td>\n",
       "      <td>NaN</td>\n",
       "      <td>NaN</td>\n",
       "      <td>NaN</td>\n",
       "      <td>NaN</td>\n",
       "      <td>NaN</td>\n",
       "      <td>...</td>\n",
       "      <td>0.310001</td>\n",
       "      <td>0.230000</td>\n",
       "      <td>NaN</td>\n",
       "      <td>NaN</td>\n",
       "      <td>NaN</td>\n",
       "      <td>NaN</td>\n",
       "      <td>NaN</td>\n",
       "      <td>NaN</td>\n",
       "      <td>NaN</td>\n",
       "      <td>-0.578974</td>\n",
       "    </tr>\n",
       "    <tr>\n",
       "      <th>2012-03-05</th>\n",
       "      <td>56.709999</td>\n",
       "      <td>56.860001</td>\n",
       "      <td>56.119999</td>\n",
       "      <td>56.700001</td>\n",
       "      <td>4053900</td>\n",
       "      <td>NaN</td>\n",
       "      <td>NaN</td>\n",
       "      <td>NaN</td>\n",
       "      <td>NaN</td>\n",
       "      <td>NaN</td>\n",
       "      <td>...</td>\n",
       "      <td>0.160000</td>\n",
       "      <td>0.590000</td>\n",
       "      <td>NaN</td>\n",
       "      <td>NaN</td>\n",
       "      <td>NaN</td>\n",
       "      <td>NaN</td>\n",
       "      <td>NaN</td>\n",
       "      <td>NaN</td>\n",
       "      <td>NaN</td>\n",
       "      <td>0.170937</td>\n",
       "    </tr>\n",
       "    <tr>\n",
       "      <th>2012-03-06</th>\n",
       "      <td>56.240002</td>\n",
       "      <td>56.689999</td>\n",
       "      <td>56.119999</td>\n",
       "      <td>56.490002</td>\n",
       "      <td>6344500</td>\n",
       "      <td>NaN</td>\n",
       "      <td>NaN</td>\n",
       "      <td>NaN</td>\n",
       "      <td>NaN</td>\n",
       "      <td>NaN</td>\n",
       "      <td>...</td>\n",
       "      <td>0.199997</td>\n",
       "      <td>0.120003</td>\n",
       "      <td>NaN</td>\n",
       "      <td>NaN</td>\n",
       "      <td>NaN</td>\n",
       "      <td>NaN</td>\n",
       "      <td>NaN</td>\n",
       "      <td>NaN</td>\n",
       "      <td>NaN</td>\n",
       "      <td>0.565036</td>\n",
       "    </tr>\n",
       "    <tr>\n",
       "      <th>2012-03-07</th>\n",
       "      <td>56.529999</td>\n",
       "      <td>56.680000</td>\n",
       "      <td>56.259998</td>\n",
       "      <td>56.639999</td>\n",
       "      <td>4776600</td>\n",
       "      <td>NaN</td>\n",
       "      <td>NaN</td>\n",
       "      <td>NaN</td>\n",
       "      <td>NaN</td>\n",
       "      <td>NaN</td>\n",
       "      <td>...</td>\n",
       "      <td>0.040001</td>\n",
       "      <td>0.270000</td>\n",
       "      <td>NaN</td>\n",
       "      <td>NaN</td>\n",
       "      <td>NaN</td>\n",
       "      <td>NaN</td>\n",
       "      <td>NaN</td>\n",
       "      <td>NaN</td>\n",
       "      <td>NaN</td>\n",
       "      <td>-0.247127</td>\n",
       "    </tr>\n",
       "    <tr>\n",
       "      <th>...</th>\n",
       "      <td>...</td>\n",
       "      <td>...</td>\n",
       "      <td>...</td>\n",
       "      <td>...</td>\n",
       "      <td>...</td>\n",
       "      <td>...</td>\n",
       "      <td>...</td>\n",
       "      <td>...</td>\n",
       "      <td>...</td>\n",
       "      <td>...</td>\n",
       "      <td>...</td>\n",
       "      <td>...</td>\n",
       "      <td>...</td>\n",
       "      <td>...</td>\n",
       "      <td>...</td>\n",
       "      <td>...</td>\n",
       "      <td>...</td>\n",
       "      <td>...</td>\n",
       "      <td>...</td>\n",
       "      <td>...</td>\n",
       "      <td>...</td>\n",
       "    </tr>\n",
       "    <tr>\n",
       "      <th>2012-05-21</th>\n",
       "      <td>55.430000</td>\n",
       "      <td>55.900002</td>\n",
       "      <td>54.930000</td>\n",
       "      <td>55.830002</td>\n",
       "      <td>4779400</td>\n",
       "      <td>55.264286</td>\n",
       "      <td>56.2095</td>\n",
       "      <td>56.541000</td>\n",
       "      <td>57.1842</td>\n",
       "      <td>NaN</td>\n",
       "      <td>...</td>\n",
       "      <td>0.070000</td>\n",
       "      <td>0.500000</td>\n",
       "      <td>57.520000</td>\n",
       "      <td>58.410000</td>\n",
       "      <td>NaN</td>\n",
       "      <td>NaN</td>\n",
       "      <td>NaN</td>\n",
       "      <td>NaN</td>\n",
       "      <td>NaN</td>\n",
       "      <td>-0.331019</td>\n",
       "    </tr>\n",
       "    <tr>\n",
       "      <th>2012-05-22</th>\n",
       "      <td>55.889999</td>\n",
       "      <td>56.900002</td>\n",
       "      <td>55.810001</td>\n",
       "      <td>56.669998</td>\n",
       "      <td>5777400</td>\n",
       "      <td>55.441429</td>\n",
       "      <td>56.2065</td>\n",
       "      <td>56.550000</td>\n",
       "      <td>57.1580</td>\n",
       "      <td>NaN</td>\n",
       "      <td>...</td>\n",
       "      <td>0.230003</td>\n",
       "      <td>0.079998</td>\n",
       "      <td>56.400002</td>\n",
       "      <td>58.369999</td>\n",
       "      <td>NaN</td>\n",
       "      <td>NaN</td>\n",
       "      <td>NaN</td>\n",
       "      <td>NaN</td>\n",
       "      <td>NaN</td>\n",
       "      <td>0.208813</td>\n",
       "    </tr>\n",
       "    <tr>\n",
       "      <th>2012-05-23</th>\n",
       "      <td>56.240002</td>\n",
       "      <td>56.889999</td>\n",
       "      <td>55.939999</td>\n",
       "      <td>56.779999</td>\n",
       "      <td>3956300</td>\n",
       "      <td>55.707143</td>\n",
       "      <td>56.2040</td>\n",
       "      <td>56.536000</td>\n",
       "      <td>57.1240</td>\n",
       "      <td>NaN</td>\n",
       "      <td>...</td>\n",
       "      <td>0.110001</td>\n",
       "      <td>0.300003</td>\n",
       "      <td>57.200001</td>\n",
       "      <td>58.009998</td>\n",
       "      <td>NaN</td>\n",
       "      <td>NaN</td>\n",
       "      <td>NaN</td>\n",
       "      <td>NaN</td>\n",
       "      <td>NaN</td>\n",
       "      <td>-0.315211</td>\n",
       "    </tr>\n",
       "    <tr>\n",
       "      <th>2012-05-24</th>\n",
       "      <td>56.860001</td>\n",
       "      <td>57.389999</td>\n",
       "      <td>56.650002</td>\n",
       "      <td>57.250000</td>\n",
       "      <td>4460600</td>\n",
       "      <td>56.017143</td>\n",
       "      <td>56.1920</td>\n",
       "      <td>56.513333</td>\n",
       "      <td>57.0970</td>\n",
       "      <td>NaN</td>\n",
       "      <td>...</td>\n",
       "      <td>0.139999</td>\n",
       "      <td>0.209999</td>\n",
       "      <td>57.930000</td>\n",
       "      <td>57.570000</td>\n",
       "      <td>NaN</td>\n",
       "      <td>NaN</td>\n",
       "      <td>NaN</td>\n",
       "      <td>NaN</td>\n",
       "      <td>NaN</td>\n",
       "      <td>0.127468</td>\n",
       "    </tr>\n",
       "    <tr>\n",
       "      <th>2012-05-25</th>\n",
       "      <td>57.430000</td>\n",
       "      <td>57.709999</td>\n",
       "      <td>57.169998</td>\n",
       "      <td>57.619999</td>\n",
       "      <td>4293900</td>\n",
       "      <td>56.345714</td>\n",
       "      <td>56.1600</td>\n",
       "      <td>56.519666</td>\n",
       "      <td>57.0744</td>\n",
       "      <td>NaN</td>\n",
       "      <td>...</td>\n",
       "      <td>0.090000</td>\n",
       "      <td>0.260002</td>\n",
       "      <td>57.430000</td>\n",
       "      <td>57.930000</td>\n",
       "      <td>56.759998</td>\n",
       "      <td>NaN</td>\n",
       "      <td>NaN</td>\n",
       "      <td>NaN</td>\n",
       "      <td>NaN</td>\n",
       "      <td>-0.037372</td>\n",
       "    </tr>\n",
       "  </tbody>\n",
       "</table>\n",
       "<p>61 rows × 39 columns</p>\n",
       "</div>"
      ],
      "text/plain": [
       "                 open       high        low      close   volume      sma_7  \\\n",
       "Date                                                                         \n",
       "2012-03-01  56.590000  56.910000  56.200001  56.759998  8223000        NaN   \n",
       "2012-03-02  56.590000  56.900002  56.360001  56.590000  3462100        NaN   \n",
       "2012-03-05  56.709999  56.860001  56.119999  56.700001  4053900        NaN   \n",
       "2012-03-06  56.240002  56.689999  56.119999  56.490002  6344500        NaN   \n",
       "2012-03-07  56.529999  56.680000  56.259998  56.639999  4776600        NaN   \n",
       "...               ...        ...        ...        ...      ...        ...   \n",
       "2012-05-21  55.430000  55.900002  54.930000  55.830002  4779400  55.264286   \n",
       "2012-05-22  55.889999  56.900002  55.810001  56.669998  5777400  55.441429   \n",
       "2012-05-23  56.240002  56.889999  55.939999  56.779999  3956300  55.707143   \n",
       "2012-05-24  56.860001  57.389999  56.650002  57.250000  4460600  56.017143   \n",
       "2012-05-25  57.430000  57.709999  57.169998  57.619999  4293900  56.345714   \n",
       "\n",
       "             sma_20     sma_30   sma_50  sma_100  ...  high_close  open-low  \\\n",
       "Date                                              ...                         \n",
       "2012-03-01      NaN        NaN      NaN      NaN  ...    0.150002  0.389999   \n",
       "2012-03-02      NaN        NaN      NaN      NaN  ...    0.310001  0.230000   \n",
       "2012-03-05      NaN        NaN      NaN      NaN  ...    0.160000  0.590000   \n",
       "2012-03-06      NaN        NaN      NaN      NaN  ...    0.199997  0.120003   \n",
       "2012-03-07      NaN        NaN      NaN      NaN  ...    0.040001  0.270000   \n",
       "...             ...        ...      ...      ...  ...         ...       ...   \n",
       "2012-05-21  56.2095  56.541000  57.1842      NaN  ...    0.070000  0.500000   \n",
       "2012-05-22  56.2065  56.550000  57.1580      NaN  ...    0.230003  0.079998   \n",
       "2012-05-23  56.2040  56.536000  57.1240      NaN  ...    0.110001  0.300003   \n",
       "2012-05-24  56.1920  56.513333  57.0970      NaN  ...    0.139999  0.209999   \n",
       "2012-05-25  56.1600  56.519666  57.0744      NaN  ...    0.090000  0.260002   \n",
       "\n",
       "               lag_30     lag_45     lag_60  lag_90  lag_120  lag_150  \\\n",
       "Date                                                                    \n",
       "2012-03-01        NaN        NaN        NaN     NaN      NaN      NaN   \n",
       "2012-03-02        NaN        NaN        NaN     NaN      NaN      NaN   \n",
       "2012-03-05        NaN        NaN        NaN     NaN      NaN      NaN   \n",
       "2012-03-06        NaN        NaN        NaN     NaN      NaN      NaN   \n",
       "2012-03-07        NaN        NaN        NaN     NaN      NaN      NaN   \n",
       "...               ...        ...        ...     ...      ...      ...   \n",
       "2012-05-21  57.520000  58.410000        NaN     NaN      NaN      NaN   \n",
       "2012-05-22  56.400002  58.369999        NaN     NaN      NaN      NaN   \n",
       "2012-05-23  57.200001  58.009998        NaN     NaN      NaN      NaN   \n",
       "2012-05-24  57.930000  57.570000        NaN     NaN      NaN      NaN   \n",
       "2012-05-25  57.430000  57.930000  56.759998     NaN      NaN      NaN   \n",
       "\n",
       "            lag_200  vol_change  \n",
       "Date                             \n",
       "2012-03-01      NaN         NaN  \n",
       "2012-03-02      NaN   -0.578974  \n",
       "2012-03-05      NaN    0.170937  \n",
       "2012-03-06      NaN    0.565036  \n",
       "2012-03-07      NaN   -0.247127  \n",
       "...             ...         ...  \n",
       "2012-05-21      NaN   -0.331019  \n",
       "2012-05-22      NaN    0.208813  \n",
       "2012-05-23      NaN   -0.315211  \n",
       "2012-05-24      NaN    0.127468  \n",
       "2012-05-25      NaN   -0.037372  \n",
       "\n",
       "[61 rows x 39 columns]"
      ]
     },
     "execution_count": 11,
     "metadata": {},
     "output_type": "execute_result"
    }
   ],
   "source": [
    "ticker_df.head(61)"
   ]
  },
  {
   "cell_type": "code",
   "execution_count": 12,
   "id": "d2b39bfa-143b-48dd-ab8f-087c1a692583",
   "metadata": {
    "tags": []
   },
   "outputs": [
    {
     "data": {
      "text/plain": [
       "Index(['open', 'high', 'low', 'close', 'volume', 'sma_7', 'sma_20', 'sma_30',\n",
       "       'sma_50', 'sma_100', 'sma_200', '7_day_std', '20_day_std', '30_day_std',\n",
       "       '50_day_std', '100_day_std', '200_day_std', '7_DEMA', '20_DEMA',\n",
       "       '30_DEMA', '50_DEMA', '100_DEMA', '200_DEMA', 'MACD', 'MACD_Signal',\n",
       "       'RSA', 'STOCH', 'RSI', 'close_1days', 'high_close', 'open-low',\n",
       "       'lag_30', 'lag_45', 'lag_60', 'lag_90', 'lag_120', 'lag_150', 'lag_200',\n",
       "       'vol_change'],\n",
       "      dtype='object')"
      ]
     },
     "execution_count": 12,
     "metadata": {},
     "output_type": "execute_result"
    }
   ],
   "source": [
    "ticker_df.columns"
   ]
  },
  {
   "cell_type": "code",
   "execution_count": 13,
   "id": "e4db2ef9-7a9a-4910-a8ee-ee442a071264",
   "metadata": {},
   "outputs": [],
   "source": [
    "ticker_df=ticker_df.drop(columns=['open', 'high', 'low'])"
   ]
  },
  {
   "cell_type": "code",
   "execution_count": 14,
   "id": "15a434ed-485b-4444-be40-960b74f8aaef",
   "metadata": {
    "tags": []
   },
   "outputs": [
    {
     "data": {
      "text/plain": [
       "Index(['close', 'volume', 'sma_7', 'sma_20', 'sma_30', 'sma_50', 'sma_100',\n",
       "       'sma_200', '7_day_std', '20_day_std', '30_day_std', '50_day_std',\n",
       "       '100_day_std', '200_day_std', '7_DEMA', '20_DEMA', '30_DEMA', '50_DEMA',\n",
       "       '100_DEMA', '200_DEMA', 'MACD', 'MACD_Signal', 'RSA', 'STOCH', 'RSI',\n",
       "       'close_1days', 'high_close', 'open-low', 'lag_30', 'lag_45', 'lag_60',\n",
       "       'lag_90', 'lag_120', 'lag_150', 'lag_200', 'vol_change'],\n",
       "      dtype='object')"
      ]
     },
     "execution_count": 14,
     "metadata": {},
     "output_type": "execute_result"
    }
   ],
   "source": [
    "ticker_df.columns"
   ]
  },
  {
   "cell_type": "code",
   "execution_count": 15,
   "id": "cb8a8a4e-7abf-4849-a96e-6ac1caaeabd1",
   "metadata": {
    "tags": []
   },
   "outputs": [
    {
     "data": {
      "text/plain": [
       "(3019, 36)"
      ]
     },
     "execution_count": 15,
     "metadata": {},
     "output_type": "execute_result"
    }
   ],
   "source": [
    "ticker_df.shape"
   ]
  },
  {
   "cell_type": "code",
   "execution_count": 16,
   "id": "eb8bee67-f430-4f1c-8600-2e323dbcb8ce",
   "metadata": {
    "tags": []
   },
   "outputs": [
    {
     "data": {
      "text/plain": [
       "close          0\n",
       "volume         0\n",
       "sma_7          0\n",
       "sma_20         0\n",
       "sma_30         0\n",
       "sma_50         0\n",
       "sma_100        0\n",
       "sma_200        0\n",
       "7_day_std      0\n",
       "20_day_std     0\n",
       "30_day_std     0\n",
       "50_day_std     0\n",
       "100_day_std    0\n",
       "200_day_std    0\n",
       "7_DEMA         0\n",
       "20_DEMA        0\n",
       "30_DEMA        0\n",
       "50_DEMA        0\n",
       "100_DEMA       0\n",
       "200_DEMA       0\n",
       "MACD           0\n",
       "MACD_Signal    0\n",
       "RSA            0\n",
       "STOCH          0\n",
       "RSI            0\n",
       "close_1days    0\n",
       "high_close     0\n",
       "open-low       0\n",
       "lag_30         0\n",
       "lag_45         0\n",
       "lag_60         0\n",
       "lag_90         0\n",
       "lag_120        0\n",
       "lag_150        0\n",
       "lag_200        0\n",
       "vol_change     0\n",
       "dtype: int64"
      ]
     },
     "execution_count": 16,
     "metadata": {},
     "output_type": "execute_result"
    }
   ],
   "source": [
    "ticker_df=ticker_df.dropna()\n",
    "ticker_df.isnull().sum()"
   ]
  },
  {
   "cell_type": "code",
   "execution_count": 17,
   "id": "6f65ee6e-5316-4fc8-8a09-855f6db7c969",
   "metadata": {
    "tags": []
   },
   "outputs": [
    {
     "data": {
      "image/png": "[encoded data removed]",
      "text/plain": [
       "<Figure size 640x480 with 1 Axes>"
      ]
     },
     "metadata": {},
     "output_type": "display_data"
    }
   ],
   "source": [
    "ticker_df['close'].plot()\n",
    "plt.ylabel(\"Close Prices\")\n",
    "plt.show()"
   ]
  },
  {
   "cell_type": "code",
   "execution_count": 18,
   "id": "68cd9aad-81c7-4be7-8e38-ca2b2b690e43",
   "metadata": {
    "tags": []
   },
   "outputs": [],
   "source": [
    "# ticker_df['return'].plot.hist(bins=50)\n",
    "# plt.xlabel(\"1 day percent change in returns\")\n",
    "# plt.show()"
   ]
  },
  {
   "cell_type": "code",
   "execution_count": 19,
   "id": "4f83a3b4-56a5-488e-afe0-d8cfdf162458",
   "metadata": {
    "tags": []
   },
   "outputs": [
    {
     "data": {
      "text/html": [
       "<div>\n",
       "<style scoped>\n",
       "    .dataframe tbody tr th:only-of-type {\n",
       "        vertical-align: middle;\n",
       "    }\n",
       "\n",
       "    .dataframe tbody tr th {\n",
       "        vertical-align: top;\n",
       "    }\n",
       "\n",
       "    .dataframe thead th {\n",
       "        text-align: right;\n",
       "    }\n",
       "</style>\n",
       "<table border=\"1\" class=\"dataframe\">\n",
       "  <thead>\n",
       "    <tr style=\"text-align: right;\">\n",
       "      <th></th>\n",
       "      <th>close</th>\n",
       "      <th>volume</th>\n",
       "      <th>sma_7</th>\n",
       "      <th>sma_20</th>\n",
       "      <th>sma_30</th>\n",
       "      <th>sma_50</th>\n",
       "      <th>sma_100</th>\n",
       "      <th>sma_200</th>\n",
       "      <th>7_day_std</th>\n",
       "      <th>20_day_std</th>\n",
       "      <th>...</th>\n",
       "      <th>high_close</th>\n",
       "      <th>open-low</th>\n",
       "      <th>lag_30</th>\n",
       "      <th>lag_45</th>\n",
       "      <th>lag_60</th>\n",
       "      <th>lag_90</th>\n",
       "      <th>lag_120</th>\n",
       "      <th>lag_150</th>\n",
       "      <th>lag_200</th>\n",
       "      <th>vol_change</th>\n",
       "    </tr>\n",
       "  </thead>\n",
       "  <tbody>\n",
       "    <tr>\n",
       "      <th>close</th>\n",
       "      <td>1.000000</td>\n",
       "      <td>-0.222055</td>\n",
       "      <td>0.998142</td>\n",
       "      <td>0.993612</td>\n",
       "      <td>0.989804</td>\n",
       "      <td>0.982721</td>\n",
       "      <td>0.968239</td>\n",
       "      <td>0.928726</td>\n",
       "      <td>0.512546</td>\n",
       "      <td>0.588989</td>\n",
       "      <td>...</td>\n",
       "      <td>0.451632</td>\n",
       "      <td>0.432985</td>\n",
       "      <td>0.967459</td>\n",
       "      <td>0.953032</td>\n",
       "      <td>0.943156</td>\n",
       "      <td>0.916703</td>\n",
       "      <td>0.882055</td>\n",
       "      <td>0.841461</td>\n",
       "      <td>0.785192</td>\n",
       "      <td>-0.009687</td>\n",
       "    </tr>\n",
       "    <tr>\n",
       "      <th>volume</th>\n",
       "      <td>-0.222055</td>\n",
       "      <td>1.000000</td>\n",
       "      <td>-0.214589</td>\n",
       "      <td>-0.203652</td>\n",
       "      <td>-0.197237</td>\n",
       "      <td>-0.190932</td>\n",
       "      <td>-0.180270</td>\n",
       "      <td>-0.165606</td>\n",
       "      <td>0.187546</td>\n",
       "      <td>0.031473</td>\n",
       "      <td>...</td>\n",
       "      <td>0.127996</td>\n",
       "      <td>0.155423</td>\n",
       "      <td>-0.181023</td>\n",
       "      <td>-0.178511</td>\n",
       "      <td>-0.173622</td>\n",
       "      <td>-0.159319</td>\n",
       "      <td>-0.154780</td>\n",
       "      <td>-0.133588</td>\n",
       "      <td>-0.130253</td>\n",
       "      <td>0.653368</td>\n",
       "    </tr>\n",
       "    <tr>\n",
       "      <th>sma_7</th>\n",
       "      <td>0.998142</td>\n",
       "      <td>-0.214589</td>\n",
       "      <td>1.000000</td>\n",
       "      <td>0.997084</td>\n",
       "      <td>0.993656</td>\n",
       "      <td>0.986642</td>\n",
       "      <td>0.972144</td>\n",
       "      <td>0.933142</td>\n",
       "      <td>0.522566</td>\n",
       "      <td>0.595119</td>\n",
       "      <td>...</td>\n",
       "      <td>0.472129</td>\n",
       "      <td>0.456071</td>\n",
       "      <td>0.971864</td>\n",
       "      <td>0.956486</td>\n",
       "      <td>0.946127</td>\n",
       "      <td>0.921250</td>\n",
       "      <td>0.887151</td>\n",
       "      <td>0.846115</td>\n",
       "      <td>0.790187</td>\n",
       "      <td>-0.005781</td>\n",
       "    </tr>\n",
       "    <tr>\n",
       "      <th>sma_20</th>\n",
       "      <td>0.993612</td>\n",
       "      <td>-0.203652</td>\n",
       "      <td>0.997084</td>\n",
       "      <td>1.000000</td>\n",
       "      <td>0.998800</td>\n",
       "      <td>0.993386</td>\n",
       "      <td>0.979450</td>\n",
       "      <td>0.942001</td>\n",
       "      <td>0.537406</td>\n",
       "      <td>0.610880</td>\n",
       "      <td>...</td>\n",
       "      <td>0.478745</td>\n",
       "      <td>0.463796</td>\n",
       "      <td>0.981484</td>\n",
       "      <td>0.965194</td>\n",
       "      <td>0.952718</td>\n",
       "      <td>0.929942</td>\n",
       "      <td>0.897377</td>\n",
       "      <td>0.856591</td>\n",
       "      <td>0.799752</td>\n",
       "      <td>-0.003858</td>\n",
       "    </tr>\n",
       "    <tr>\n",
       "      <th>sma_30</th>\n",
       "      <td>0.989804</td>\n",
       "      <td>-0.197237</td>\n",
       "      <td>0.993656</td>\n",
       "      <td>0.998800</td>\n",
       "      <td>1.000000</td>\n",
       "      <td>0.997056</td>\n",
       "      <td>0.984319</td>\n",
       "      <td>0.948478</td>\n",
       "      <td>0.545708</td>\n",
       "      <td>0.622594</td>\n",
       "      <td>...</td>\n",
       "      <td>0.482444</td>\n",
       "      <td>0.466735</td>\n",
       "      <td>0.988761</td>\n",
       "      <td>0.972396</td>\n",
       "      <td>0.958586</td>\n",
       "      <td>0.936278</td>\n",
       "      <td>0.905118</td>\n",
       "      <td>0.865301</td>\n",
       "      <td>0.806839</td>\n",
       "      <td>-0.002672</td>\n",
       "    </tr>\n",
       "    <tr>\n",
       "      <th>sma_50</th>\n",
       "      <td>0.982721</td>\n",
       "      <td>-0.190932</td>\n",
       "      <td>0.986642</td>\n",
       "      <td>0.993386</td>\n",
       "      <td>0.997056</td>\n",
       "      <td>1.000000</td>\n",
       "      <td>0.992042</td>\n",
       "      <td>0.960360</td>\n",
       "      <td>0.551388</td>\n",
       "      <td>0.634096</td>\n",
       "      <td>...</td>\n",
       "      <td>0.485879</td>\n",
       "      <td>0.470372</td>\n",
       "      <td>0.995104</td>\n",
       "      <td>0.986529</td>\n",
       "      <td>0.972075</td>\n",
       "      <td>0.947571</td>\n",
       "      <td>0.919802</td>\n",
       "      <td>0.882324</td>\n",
       "      <td>0.821002</td>\n",
       "      <td>-0.002778</td>\n",
       "    </tr>\n",
       "    <tr>\n",
       "      <th>sma_100</th>\n",
       "      <td>0.968239</td>\n",
       "      <td>-0.180270</td>\n",
       "      <td>0.972144</td>\n",
       "      <td>0.979450</td>\n",
       "      <td>0.984319</td>\n",
       "      <td>0.992042</td>\n",
       "      <td>1.000000</td>\n",
       "      <td>0.982668</td>\n",
       "      <td>0.565241</td>\n",
       "      <td>0.643473</td>\n",
       "      <td>...</td>\n",
       "      <td>0.493237</td>\n",
       "      <td>0.477753</td>\n",
       "      <td>0.987473</td>\n",
       "      <td>0.990190</td>\n",
       "      <td>0.989537</td>\n",
       "      <td>0.976964</td>\n",
       "      <td>0.949989</td>\n",
       "      <td>0.918911</td>\n",
       "      <td>0.859238</td>\n",
       "      <td>-0.002983</td>\n",
       "    </tr>\n",
       "    <tr>\n",
       "      <th>sma_200</th>\n",
       "      <td>0.928726</td>\n",
       "      <td>-0.165606</td>\n",
       "      <td>0.933142</td>\n",
       "      <td>0.942001</td>\n",
       "      <td>0.948478</td>\n",
       "      <td>0.960360</td>\n",
       "      <td>0.982668</td>\n",
       "      <td>1.000000</td>\n",
       "      <td>0.583912</td>\n",
       "      <td>0.656294</td>\n",
       "      <td>...</td>\n",
       "      <td>0.496809</td>\n",
       "      <td>0.483349</td>\n",
       "      <td>0.957553</td>\n",
       "      <td>0.968092</td>\n",
       "      <td>0.976281</td>\n",
       "      <td>0.985606</td>\n",
       "      <td>0.984197</td>\n",
       "      <td>0.971790</td>\n",
       "      <td>0.931046</td>\n",
       "      <td>-0.001192</td>\n",
       "    </tr>\n",
       "    <tr>\n",
       "      <th>7_day_std</th>\n",
       "      <td>0.512546</td>\n",
       "      <td>0.187546</td>\n",
       "      <td>0.522566</td>\n",
       "      <td>0.537406</td>\n",
       "      <td>0.545708</td>\n",
       "      <td>0.551388</td>\n",
       "      <td>0.565241</td>\n",
       "      <td>0.583912</td>\n",
       "      <td>1.000000</td>\n",
       "      <td>0.655585</td>\n",
       "      <td>...</td>\n",
       "      <td>0.390556</td>\n",
       "      <td>0.400133</td>\n",
       "      <td>0.554162</td>\n",
       "      <td>0.553476</td>\n",
       "      <td>0.552348</td>\n",
       "      <td>0.574989</td>\n",
       "      <td>0.574248</td>\n",
       "      <td>0.583442</td>\n",
       "      <td>0.566300</td>\n",
       "      <td>0.030361</td>\n",
       "    </tr>\n",
       "    <tr>\n",
       "      <th>20_day_std</th>\n",
       "      <td>0.588989</td>\n",
       "      <td>0.031473</td>\n",
       "      <td>0.595119</td>\n",
       "      <td>0.610880</td>\n",
       "      <td>0.622594</td>\n",
       "      <td>0.634096</td>\n",
       "      <td>0.643473</td>\n",
       "      <td>0.656294</td>\n",
       "      <td>0.655585</td>\n",
       "      <td>1.000000</td>\n",
       "      <td>...</td>\n",
       "      <td>0.348273</td>\n",
       "      <td>0.348559</td>\n",
       "      <td>0.648050</td>\n",
       "      <td>0.636308</td>\n",
       "      <td>0.634085</td>\n",
       "      <td>0.639888</td>\n",
       "      <td>0.634011</td>\n",
       "      <td>0.646759</td>\n",
       "      <td>0.635872</td>\n",
       "      <td>0.013227</td>\n",
       "    </tr>\n",
       "    <tr>\n",
       "      <th>30_day_std</th>\n",
       "      <td>0.607211</td>\n",
       "      <td>-0.017365</td>\n",
       "      <td>0.613422</td>\n",
       "      <td>0.629659</td>\n",
       "      <td>0.642408</td>\n",
       "      <td>0.659556</td>\n",
       "      <td>0.670670</td>\n",
       "      <td>0.684120</td>\n",
       "      <td>0.545135</td>\n",
       "      <td>0.884104</td>\n",
       "      <td>...</td>\n",
       "      <td>0.344355</td>\n",
       "      <td>0.332260</td>\n",
       "      <td>0.673052</td>\n",
       "      <td>0.675017</td>\n",
       "      <td>0.665432</td>\n",
       "      <td>0.663263</td>\n",
       "      <td>0.657294</td>\n",
       "      <td>0.676683</td>\n",
       "      <td>0.663064</td>\n",
       "      <td>0.009215</td>\n",
       "    </tr>\n",
       "    <tr>\n",
       "      <th>50_day_std</th>\n",
       "      <td>0.633221</td>\n",
       "      <td>-0.087489</td>\n",
       "      <td>0.636636</td>\n",
       "      <td>0.648419</td>\n",
       "      <td>0.660681</td>\n",
       "      <td>0.684203</td>\n",
       "      <td>0.705625</td>\n",
       "      <td>0.723764</td>\n",
       "      <td>0.454517</td>\n",
       "      <td>0.658438</td>\n",
       "      <td>...</td>\n",
       "      <td>0.348248</td>\n",
       "      <td>0.336997</td>\n",
       "      <td>0.693515</td>\n",
       "      <td>0.717696</td>\n",
       "      <td>0.715963</td>\n",
       "      <td>0.703331</td>\n",
       "      <td>0.704625</td>\n",
       "      <td>0.717095</td>\n",
       "      <td>0.696604</td>\n",
       "      <td>-0.000988</td>\n",
       "    </tr>\n",
       "    <tr>\n",
       "      <th>100_day_std</th>\n",
       "      <td>0.709069</td>\n",
       "      <td>-0.138566</td>\n",
       "      <td>0.708659</td>\n",
       "      <td>0.709483</td>\n",
       "      <td>0.711969</td>\n",
       "      <td>0.721388</td>\n",
       "      <td>0.749728</td>\n",
       "      <td>0.771814</td>\n",
       "      <td>0.428686</td>\n",
       "      <td>0.527287</td>\n",
       "      <td>...</td>\n",
       "      <td>0.361988</td>\n",
       "      <td>0.351314</td>\n",
       "      <td>0.715025</td>\n",
       "      <td>0.731366</td>\n",
       "      <td>0.749585</td>\n",
       "      <td>0.768755</td>\n",
       "      <td>0.750463</td>\n",
       "      <td>0.757114</td>\n",
       "      <td>0.750997</td>\n",
       "      <td>-0.006881</td>\n",
       "    </tr>\n",
       "    <tr>\n",
       "      <th>200_day_std</th>\n",
       "      <td>0.828782</td>\n",
       "      <td>-0.169434</td>\n",
       "      <td>0.828322</td>\n",
       "      <td>0.827620</td>\n",
       "      <td>0.828032</td>\n",
       "      <td>0.831335</td>\n",
       "      <td>0.838576</td>\n",
       "      <td>0.846146</td>\n",
       "      <td>0.487925</td>\n",
       "      <td>0.569641</td>\n",
       "      <td>...</td>\n",
       "      <td>0.412237</td>\n",
       "      <td>0.394637</td>\n",
       "      <td>0.822060</td>\n",
       "      <td>0.825875</td>\n",
       "      <td>0.828437</td>\n",
       "      <td>0.821934</td>\n",
       "      <td>0.809461</td>\n",
       "      <td>0.810833</td>\n",
       "      <td>0.806446</td>\n",
       "      <td>-0.004828</td>\n",
       "    </tr>\n",
       "    <tr>\n",
       "      <th>7_DEMA</th>\n",
       "      <td>0.999537</td>\n",
       "      <td>-0.219861</td>\n",
       "      <td>0.999081</td>\n",
       "      <td>0.994031</td>\n",
       "      <td>0.989938</td>\n",
       "      <td>0.982548</td>\n",
       "      <td>0.967940</td>\n",
       "      <td>0.928354</td>\n",
       "      <td>0.513313</td>\n",
       "      <td>0.588166</td>\n",
       "      <td>...</td>\n",
       "      <td>0.463619</td>\n",
       "      <td>0.445670</td>\n",
       "      <td>0.966941</td>\n",
       "      <td>0.952242</td>\n",
       "      <td>0.942539</td>\n",
       "      <td>0.916436</td>\n",
       "      <td>0.881750</td>\n",
       "      <td>0.840890</td>\n",
       "      <td>0.785031</td>\n",
       "      <td>-0.006986</td>\n",
       "    </tr>\n",
       "    <tr>\n",
       "      <th>20_DEMA</th>\n",
       "      <td>0.997934</td>\n",
       "      <td>-0.215585</td>\n",
       "      <td>0.999659</td>\n",
       "      <td>0.996937</td>\n",
       "      <td>0.992774</td>\n",
       "      <td>0.984123</td>\n",
       "      <td>0.968007</td>\n",
       "      <td>0.927723</td>\n",
       "      <td>0.519745</td>\n",
       "      <td>0.590756</td>\n",
       "      <td>...</td>\n",
       "      <td>0.469416</td>\n",
       "      <td>0.453548</td>\n",
       "      <td>0.968301</td>\n",
       "      <td>0.950961</td>\n",
       "      <td>0.940192</td>\n",
       "      <td>0.915801</td>\n",
       "      <td>0.880936</td>\n",
       "      <td>0.839174</td>\n",
       "      <td>0.784200</td>\n",
       "      <td>-0.005875</td>\n",
       "    </tr>\n",
       "    <tr>\n",
       "      <th>30_DEMA</th>\n",
       "      <td>0.996564</td>\n",
       "      <td>-0.211859</td>\n",
       "      <td>0.999048</td>\n",
       "      <td>0.998450</td>\n",
       "      <td>0.995273</td>\n",
       "      <td>0.986908</td>\n",
       "      <td>0.969377</td>\n",
       "      <td>0.928223</td>\n",
       "      <td>0.524272</td>\n",
       "      <td>0.596367</td>\n",
       "      <td>...</td>\n",
       "      <td>0.471474</td>\n",
       "      <td>0.455985</td>\n",
       "      <td>0.972649</td>\n",
       "      <td>0.953358</td>\n",
       "      <td>0.940212</td>\n",
       "      <td>0.915707</td>\n",
       "      <td>0.881188</td>\n",
       "      <td>0.838962</td>\n",
       "      <td>0.783349</td>\n",
       "      <td>-0.004921</td>\n",
       "    </tr>\n",
       "    <tr>\n",
       "      <th>50_DEMA</th>\n",
       "      <td>0.994028</td>\n",
       "      <td>-0.206240</td>\n",
       "      <td>0.997128</td>\n",
       "      <td>0.999163</td>\n",
       "      <td>0.997967</td>\n",
       "      <td>0.991880</td>\n",
       "      <td>0.973665</td>\n",
       "      <td>0.930608</td>\n",
       "      <td>0.529176</td>\n",
       "      <td>0.605257</td>\n",
       "      <td>...</td>\n",
       "      <td>0.473591</td>\n",
       "      <td>0.458049</td>\n",
       "      <td>0.980602</td>\n",
       "      <td>0.961576</td>\n",
       "      <td>0.945458</td>\n",
       "      <td>0.917593</td>\n",
       "      <td>0.882869</td>\n",
       "      <td>0.840130</td>\n",
       "      <td>0.781382</td>\n",
       "      <td>-0.003984</td>\n",
       "    </tr>\n",
       "    <tr>\n",
       "      <th>100_DEMA</th>\n",
       "      <td>0.988539</td>\n",
       "      <td>-0.197160</td>\n",
       "      <td>0.991973</td>\n",
       "      <td>0.996509</td>\n",
       "      <td>0.997999</td>\n",
       "      <td>0.997101</td>\n",
       "      <td>0.984280</td>\n",
       "      <td>0.940993</td>\n",
       "      <td>0.536319</td>\n",
       "      <td>0.616197</td>\n",
       "      <td>...</td>\n",
       "      <td>0.478224</td>\n",
       "      <td>0.461929</td>\n",
       "      <td>0.989203</td>\n",
       "      <td>0.976690</td>\n",
       "      <td>0.962324</td>\n",
       "      <td>0.932117</td>\n",
       "      <td>0.895461</td>\n",
       "      <td>0.851254</td>\n",
       "      <td>0.783709</td>\n",
       "      <td>-0.003691</td>\n",
       "    </tr>\n",
       "    <tr>\n",
       "      <th>200_DEMA</th>\n",
       "      <td>0.976969</td>\n",
       "      <td>-0.185233</td>\n",
       "      <td>0.980767</td>\n",
       "      <td>0.987253</td>\n",
       "      <td>0.991031</td>\n",
       "      <td>0.995756</td>\n",
       "      <td>0.995737</td>\n",
       "      <td>0.967371</td>\n",
       "      <td>0.558024</td>\n",
       "      <td>0.637420</td>\n",
       "      <td>...</td>\n",
       "      <td>0.489161</td>\n",
       "      <td>0.472827</td>\n",
       "      <td>0.990183</td>\n",
       "      <td>0.987279</td>\n",
       "      <td>0.980973</td>\n",
       "      <td>0.961368</td>\n",
       "      <td>0.931950</td>\n",
       "      <td>0.893221</td>\n",
       "      <td>0.823744</td>\n",
       "      <td>-0.002614</td>\n",
       "    </tr>\n",
       "    <tr>\n",
       "      <th>MACD</th>\n",
       "      <td>0.135925</td>\n",
       "      <td>-0.166749</td>\n",
       "      <td>0.116590</td>\n",
       "      <td>0.052057</td>\n",
       "      <td>0.009173</td>\n",
       "      <td>-0.043991</td>\n",
       "      <td>-0.082360</td>\n",
       "      <td>-0.128530</td>\n",
       "      <td>-0.182216</td>\n",
       "      <td>-0.223828</td>\n",
       "      <td>...</td>\n",
       "      <td>-0.085922</td>\n",
       "      <td>-0.093852</td>\n",
       "      <td>-0.103734</td>\n",
       "      <td>-0.129866</td>\n",
       "      <td>-0.111620</td>\n",
       "      <td>-0.127495</td>\n",
       "      <td>-0.163686</td>\n",
       "      <td>-0.185182</td>\n",
       "      <td>-0.159349</td>\n",
       "      <td>-0.024133</td>\n",
       "    </tr>\n",
       "    <tr>\n",
       "      <th>MACD_Signal</th>\n",
       "      <td>0.143769</td>\n",
       "      <td>-0.150072</td>\n",
       "      <td>0.135736</td>\n",
       "      <td>0.084182</td>\n",
       "      <td>0.039425</td>\n",
       "      <td>-0.024690</td>\n",
       "      <td>-0.075997</td>\n",
       "      <td>-0.130203</td>\n",
       "      <td>-0.145154</td>\n",
       "      <td>-0.209513</td>\n",
       "      <td>...</td>\n",
       "      <td>-0.055305</td>\n",
       "      <td>-0.052334</td>\n",
       "      <td>-0.087852</td>\n",
       "      <td>-0.134222</td>\n",
       "      <td>-0.123677</td>\n",
       "      <td>-0.129638</td>\n",
       "      <td>-0.169267</td>\n",
       "      <td>-0.198229</td>\n",
       "      <td>-0.166573</td>\n",
       "      <td>-0.018439</td>\n",
       "    </tr>\n",
       "    <tr>\n",
       "      <th>RSA</th>\n",
       "      <td>0.135692</td>\n",
       "      <td>-0.173536</td>\n",
       "      <td>0.102221</td>\n",
       "      <td>0.050500</td>\n",
       "      <td>0.023618</td>\n",
       "      <td>-0.007677</td>\n",
       "      <td>-0.033534</td>\n",
       "      <td>-0.060912</td>\n",
       "      <td>-0.065992</td>\n",
       "      <td>-0.033182</td>\n",
       "      <td>...</td>\n",
       "      <td>-0.186646</td>\n",
       "      <td>-0.200288</td>\n",
       "      <td>-0.044862</td>\n",
       "      <td>-0.056244</td>\n",
       "      <td>-0.046418</td>\n",
       "      <td>-0.071204</td>\n",
       "      <td>-0.090254</td>\n",
       "      <td>-0.087328</td>\n",
       "      <td>-0.082319</td>\n",
       "      <td>-0.031949</td>\n",
       "    </tr>\n",
       "    <tr>\n",
       "      <th>STOCH</th>\n",
       "      <td>0.159143</td>\n",
       "      <td>-0.157139</td>\n",
       "      <td>0.150776</td>\n",
       "      <td>0.106075</td>\n",
       "      <td>0.069744</td>\n",
       "      <td>0.020760</td>\n",
       "      <td>-0.021622</td>\n",
       "      <td>-0.060670</td>\n",
       "      <td>-0.080652</td>\n",
       "      <td>-0.051111</td>\n",
       "      <td>...</td>\n",
       "      <td>-0.041411</td>\n",
       "      <td>-0.038538</td>\n",
       "      <td>-0.029408</td>\n",
       "      <td>-0.063055</td>\n",
       "      <td>-0.055245</td>\n",
       "      <td>-0.072145</td>\n",
       "      <td>-0.097517</td>\n",
       "      <td>-0.103029</td>\n",
       "      <td>-0.088387</td>\n",
       "      <td>-0.004764</td>\n",
       "    </tr>\n",
       "    <tr>\n",
       "      <th>RSI</th>\n",
       "      <td>0.135692</td>\n",
       "      <td>-0.173536</td>\n",
       "      <td>0.102221</td>\n",
       "      <td>0.050500</td>\n",
       "      <td>0.023618</td>\n",
       "      <td>-0.007677</td>\n",
       "      <td>-0.033534</td>\n",
       "      <td>-0.060912</td>\n",
       "      <td>-0.065992</td>\n",
       "      <td>-0.033182</td>\n",
       "      <td>...</td>\n",
       "      <td>-0.186646</td>\n",
       "      <td>-0.200288</td>\n",
       "      <td>-0.044862</td>\n",
       "      <td>-0.056244</td>\n",
       "      <td>-0.046418</td>\n",
       "      <td>-0.071204</td>\n",
       "      <td>-0.090254</td>\n",
       "      <td>-0.087328</td>\n",
       "      <td>-0.082319</td>\n",
       "      <td>-0.031949</td>\n",
       "    </tr>\n",
       "    <tr>\n",
       "      <th>close_1days</th>\n",
       "      <td>0.999029</td>\n",
       "      <td>-0.222193</td>\n",
       "      <td>0.997150</td>\n",
       "      <td>0.992539</td>\n",
       "      <td>0.988709</td>\n",
       "      <td>0.981699</td>\n",
       "      <td>0.967244</td>\n",
       "      <td>0.927572</td>\n",
       "      <td>0.512835</td>\n",
       "      <td>0.588012</td>\n",
       "      <td>...</td>\n",
       "      <td>0.452878</td>\n",
       "      <td>0.433960</td>\n",
       "      <td>0.966386</td>\n",
       "      <td>0.952325</td>\n",
       "      <td>0.942484</td>\n",
       "      <td>0.915470</td>\n",
       "      <td>0.880613</td>\n",
       "      <td>0.840313</td>\n",
       "      <td>0.783754</td>\n",
       "      <td>-0.009849</td>\n",
       "    </tr>\n",
       "    <tr>\n",
       "      <th>high_close</th>\n",
       "      <td>0.451632</td>\n",
       "      <td>0.127996</td>\n",
       "      <td>0.472129</td>\n",
       "      <td>0.478745</td>\n",
       "      <td>0.482444</td>\n",
       "      <td>0.485879</td>\n",
       "      <td>0.493237</td>\n",
       "      <td>0.496809</td>\n",
       "      <td>0.390556</td>\n",
       "      <td>0.348273</td>\n",
       "      <td>...</td>\n",
       "      <td>1.000000</td>\n",
       "      <td>0.817652</td>\n",
       "      <td>0.488744</td>\n",
       "      <td>0.481298</td>\n",
       "      <td>0.487489</td>\n",
       "      <td>0.492643</td>\n",
       "      <td>0.494992</td>\n",
       "      <td>0.472793</td>\n",
       "      <td>0.451969</td>\n",
       "      <td>0.190459</td>\n",
       "    </tr>\n",
       "    <tr>\n",
       "      <th>open-low</th>\n",
       "      <td>0.432985</td>\n",
       "      <td>0.155423</td>\n",
       "      <td>0.456071</td>\n",
       "      <td>0.463796</td>\n",
       "      <td>0.466735</td>\n",
       "      <td>0.470372</td>\n",
       "      <td>0.477753</td>\n",
       "      <td>0.483349</td>\n",
       "      <td>0.400133</td>\n",
       "      <td>0.348559</td>\n",
       "      <td>...</td>\n",
       "      <td>0.817652</td>\n",
       "      <td>1.000000</td>\n",
       "      <td>0.471008</td>\n",
       "      <td>0.465004</td>\n",
       "      <td>0.469025</td>\n",
       "      <td>0.478773</td>\n",
       "      <td>0.481902</td>\n",
       "      <td>0.461885</td>\n",
       "      <td>0.446376</td>\n",
       "      <td>0.191585</td>\n",
       "    </tr>\n",
       "    <tr>\n",
       "      <th>lag_30</th>\n",
       "      <td>0.967459</td>\n",
       "      <td>-0.181023</td>\n",
       "      <td>0.971864</td>\n",
       "      <td>0.981484</td>\n",
       "      <td>0.988761</td>\n",
       "      <td>0.995104</td>\n",
       "      <td>0.987473</td>\n",
       "      <td>0.957553</td>\n",
       "      <td>0.554162</td>\n",
       "      <td>0.648050</td>\n",
       "      <td>...</td>\n",
       "      <td>0.488744</td>\n",
       "      <td>0.471008</td>\n",
       "      <td>1.000000</td>\n",
       "      <td>0.984580</td>\n",
       "      <td>0.967590</td>\n",
       "      <td>0.944647</td>\n",
       "      <td>0.918725</td>\n",
       "      <td>0.882939</td>\n",
       "      <td>0.819733</td>\n",
       "      <td>-0.000858</td>\n",
       "    </tr>\n",
       "    <tr>\n",
       "      <th>lag_45</th>\n",
       "      <td>0.953032</td>\n",
       "      <td>-0.178511</td>\n",
       "      <td>0.956486</td>\n",
       "      <td>0.965194</td>\n",
       "      <td>0.972396</td>\n",
       "      <td>0.986529</td>\n",
       "      <td>0.990190</td>\n",
       "      <td>0.968092</td>\n",
       "      <td>0.553476</td>\n",
       "      <td>0.636308</td>\n",
       "      <td>...</td>\n",
       "      <td>0.481298</td>\n",
       "      <td>0.465004</td>\n",
       "      <td>0.984580</td>\n",
       "      <td>1.000000</td>\n",
       "      <td>0.984624</td>\n",
       "      <td>0.954462</td>\n",
       "      <td>0.933809</td>\n",
       "      <td>0.902019</td>\n",
       "      <td>0.836667</td>\n",
       "      <td>-0.005300</td>\n",
       "    </tr>\n",
       "    <tr>\n",
       "      <th>lag_60</th>\n",
       "      <td>0.943156</td>\n",
       "      <td>-0.173622</td>\n",
       "      <td>0.946127</td>\n",
       "      <td>0.952718</td>\n",
       "      <td>0.958586</td>\n",
       "      <td>0.972075</td>\n",
       "      <td>0.989537</td>\n",
       "      <td>0.976281</td>\n",
       "      <td>0.552348</td>\n",
       "      <td>0.634085</td>\n",
       "      <td>...</td>\n",
       "      <td>0.487489</td>\n",
       "      <td>0.469025</td>\n",
       "      <td>0.967590</td>\n",
       "      <td>0.984624</td>\n",
       "      <td>1.000000</td>\n",
       "      <td>0.968629</td>\n",
       "      <td>0.946051</td>\n",
       "      <td>0.919247</td>\n",
       "      <td>0.855254</td>\n",
       "      <td>-0.005688</td>\n",
       "    </tr>\n",
       "    <tr>\n",
       "      <th>lag_90</th>\n",
       "      <td>0.916703</td>\n",
       "      <td>-0.159319</td>\n",
       "      <td>0.921250</td>\n",
       "      <td>0.929942</td>\n",
       "      <td>0.936278</td>\n",
       "      <td>0.947571</td>\n",
       "      <td>0.976964</td>\n",
       "      <td>0.985606</td>\n",
       "      <td>0.574989</td>\n",
       "      <td>0.639888</td>\n",
       "      <td>...</td>\n",
       "      <td>0.492643</td>\n",
       "      <td>0.478773</td>\n",
       "      <td>0.944647</td>\n",
       "      <td>0.954462</td>\n",
       "      <td>0.968629</td>\n",
       "      <td>1.000000</td>\n",
       "      <td>0.969214</td>\n",
       "      <td>0.946927</td>\n",
       "      <td>0.897867</td>\n",
       "      <td>-0.002035</td>\n",
       "    </tr>\n",
       "    <tr>\n",
       "      <th>lag_120</th>\n",
       "      <td>0.882055</td>\n",
       "      <td>-0.154780</td>\n",
       "      <td>0.887151</td>\n",
       "      <td>0.897377</td>\n",
       "      <td>0.905118</td>\n",
       "      <td>0.919802</td>\n",
       "      <td>0.949989</td>\n",
       "      <td>0.984197</td>\n",
       "      <td>0.574248</td>\n",
       "      <td>0.634011</td>\n",
       "      <td>...</td>\n",
       "      <td>0.494992</td>\n",
       "      <td>0.481902</td>\n",
       "      <td>0.918725</td>\n",
       "      <td>0.933809</td>\n",
       "      <td>0.946051</td>\n",
       "      <td>0.969214</td>\n",
       "      <td>1.000000</td>\n",
       "      <td>0.969851</td>\n",
       "      <td>0.932224</td>\n",
       "      <td>-0.002987</td>\n",
       "    </tr>\n",
       "    <tr>\n",
       "      <th>lag_150</th>\n",
       "      <td>0.841461</td>\n",
       "      <td>-0.133588</td>\n",
       "      <td>0.846115</td>\n",
       "      <td>0.856591</td>\n",
       "      <td>0.865301</td>\n",
       "      <td>0.882324</td>\n",
       "      <td>0.918911</td>\n",
       "      <td>0.971790</td>\n",
       "      <td>0.583442</td>\n",
       "      <td>0.646759</td>\n",
       "      <td>...</td>\n",
       "      <td>0.472793</td>\n",
       "      <td>0.461885</td>\n",
       "      <td>0.882939</td>\n",
       "      <td>0.902019</td>\n",
       "      <td>0.919247</td>\n",
       "      <td>0.946927</td>\n",
       "      <td>0.969851</td>\n",
       "      <td>1.000000</td>\n",
       "      <td>0.954387</td>\n",
       "      <td>0.002670</td>\n",
       "    </tr>\n",
       "    <tr>\n",
       "      <th>lag_200</th>\n",
       "      <td>0.785192</td>\n",
       "      <td>-0.130253</td>\n",
       "      <td>0.790187</td>\n",
       "      <td>0.799752</td>\n",
       "      <td>0.806839</td>\n",
       "      <td>0.821002</td>\n",
       "      <td>0.859238</td>\n",
       "      <td>0.931046</td>\n",
       "      <td>0.566300</td>\n",
       "      <td>0.635872</td>\n",
       "      <td>...</td>\n",
       "      <td>0.451969</td>\n",
       "      <td>0.446376</td>\n",
       "      <td>0.819733</td>\n",
       "      <td>0.836667</td>\n",
       "      <td>0.855254</td>\n",
       "      <td>0.897867</td>\n",
       "      <td>0.932224</td>\n",
       "      <td>0.954387</td>\n",
       "      <td>1.000000</td>\n",
       "      <td>0.002679</td>\n",
       "    </tr>\n",
       "    <tr>\n",
       "      <th>vol_change</th>\n",
       "      <td>-0.009687</td>\n",
       "      <td>0.653368</td>\n",
       "      <td>-0.005781</td>\n",
       "      <td>-0.003858</td>\n",
       "      <td>-0.002672</td>\n",
       "      <td>-0.002778</td>\n",
       "      <td>-0.002983</td>\n",
       "      <td>-0.001192</td>\n",
       "      <td>0.030361</td>\n",
       "      <td>0.013227</td>\n",
       "      <td>...</td>\n",
       "      <td>0.190459</td>\n",
       "      <td>0.191585</td>\n",
       "      <td>-0.000858</td>\n",
       "      <td>-0.005300</td>\n",
       "      <td>-0.005688</td>\n",
       "      <td>-0.002035</td>\n",
       "      <td>-0.002987</td>\n",
       "      <td>0.002670</td>\n",
       "      <td>0.002679</td>\n",
       "      <td>1.000000</td>\n",
       "    </tr>\n",
       "  </tbody>\n",
       "</table>\n",
       "<p>36 rows × 36 columns</p>\n",
       "</div>"
      ],
      "text/plain": [
       "                close    volume     sma_7    sma_20    sma_30    sma_50  \\\n",
       "close        1.000000 -0.222055  0.998142  0.993612  0.989804  0.982721   \n",
       "volume      -0.222055  1.000000 -0.214589 -0.203652 -0.197237 -0.190932   \n",
       "sma_7        0.998142 -0.214589  1.000000  0.997084  0.993656  0.986642   \n",
       "sma_20       0.993612 -0.203652  0.997084  1.000000  0.998800  0.993386   \n",
       "sma_30       0.989804 -0.197237  0.993656  0.998800  1.000000  0.997056   \n",
       "sma_50       0.982721 -0.190932  0.986642  0.993386  0.997056  1.000000   \n",
       "sma_100      0.968239 -0.180270  0.972144  0.979450  0.984319  0.992042   \n",
       "sma_200      0.928726 -0.165606  0.933142  0.942001  0.948478  0.960360   \n",
       "7_day_std    0.512546  0.187546  0.522566  0.537406  0.545708  0.551388   \n",
       "20_day_std   0.588989  0.031473  0.595119  0.610880  0.622594  0.634096   \n",
       "30_day_std   0.607211 -0.017365  0.613422  0.629659  0.642408  0.659556   \n",
       "50_day_std   0.633221 -0.087489  0.636636  0.648419  0.660681  0.684203   \n",
       "100_day_std  0.709069 -0.138566  0.708659  0.709483  0.711969  0.721388   \n",
       "200_day_std  0.828782 -0.169434  0.828322  0.827620  0.828032  0.831335   \n",
       "7_DEMA       0.999537 -0.219861  0.999081  0.994031  0.989938  0.982548   \n",
       "20_DEMA      0.997934 -0.215585  0.999659  0.996937  0.992774  0.984123   \n",
       "30_DEMA      0.996564 -0.211859  0.999048  0.998450  0.995273  0.986908   \n",
       "50_DEMA      0.994028 -0.206240  0.997128  0.999163  0.997967  0.991880   \n",
       "100_DEMA     0.988539 -0.197160  0.991973  0.996509  0.997999  0.997101   \n",
       "200_DEMA     0.976969 -0.185233  0.980767  0.987253  0.991031  0.995756   \n",
       "MACD         0.135925 -0.166749  0.116590  0.052057  0.009173 -0.043991   \n",
       "MACD_Signal  0.143769 -0.150072  0.135736  0.084182  0.039425 -0.024690   \n",
       "RSA          0.135692 -0.173536  0.102221  0.050500  0.023618 -0.007677   \n",
       "STOCH        0.159143 -0.157139  0.150776  0.106075  0.069744  0.020760   \n",
       "RSI          0.135692 -0.173536  0.102221  0.050500  0.023618 -0.007677   \n",
       "close_1days  0.999029 -0.222193  0.997150  0.992539  0.988709  0.981699   \n",
       "high_close   0.451632  0.127996  0.472129  0.478745  0.482444  0.485879   \n",
       "open-low     0.432985  0.155423  0.456071  0.463796  0.466735  0.470372   \n",
       "lag_30       0.967459 -0.181023  0.971864  0.981484  0.988761  0.995104   \n",
       "lag_45       0.953032 -0.178511  0.956486  0.965194  0.972396  0.986529   \n",
       "lag_60       0.943156 -0.173622  0.946127  0.952718  0.958586  0.972075   \n",
       "lag_90       0.916703 -0.159319  0.921250  0.929942  0.936278  0.947571   \n",
       "lag_120      0.882055 -0.154780  0.887151  0.897377  0.905118  0.919802   \n",
       "lag_150      0.841461 -0.133588  0.846115  0.856591  0.865301  0.882324   \n",
       "lag_200      0.785192 -0.130253  0.790187  0.799752  0.806839  0.821002   \n",
       "vol_change  -0.009687  0.653368 -0.005781 -0.003858 -0.002672 -0.002778   \n",
       "\n",
       "              sma_100   sma_200  7_day_std  20_day_std  ...  high_close  \\\n",
       "close        0.968239  0.928726   0.512546    0.588989  ...    0.451632   \n",
       "volume      -0.180270 -0.165606   0.187546    0.031473  ...    0.127996   \n",
       "sma_7        0.972144  0.933142   0.522566    0.595119  ...    0.472129   \n",
       "sma_20       0.979450  0.942001   0.537406    0.610880  ...    0.478745   \n",
       "sma_30       0.984319  0.948478   0.545708    0.622594  ...    0.482444   \n",
       "sma_50       0.992042  0.960360   0.551388    0.634096  ...    0.485879   \n",
       "sma_100      1.000000  0.982668   0.565241    0.643473  ...    0.493237   \n",
       "sma_200      0.982668  1.000000   0.583912    0.656294  ...    0.496809   \n",
       "7_day_std    0.565241  0.583912   1.000000    0.655585  ...    0.390556   \n",
       "20_day_std   0.643473  0.656294   0.655585    1.000000  ...    0.348273   \n",
       "30_day_std   0.670670  0.684120   0.545135    0.884104  ...    0.344355   \n",
       "50_day_std   0.705625  0.723764   0.454517    0.658438  ...    0.348248   \n",
       "100_day_std  0.749728  0.771814   0.428686    0.527287  ...    0.361988   \n",
       "200_day_std  0.838576  0.846146   0.487925    0.569641  ...    0.412237   \n",
       "7_DEMA       0.967940  0.928354   0.513313    0.588166  ...    0.463619   \n",
       "20_DEMA      0.968007  0.927723   0.519745    0.590756  ...    0.469416   \n",
       "30_DEMA      0.969377  0.928223   0.524272    0.596367  ...    0.471474   \n",
       "50_DEMA      0.973665  0.930608   0.529176    0.605257  ...    0.473591   \n",
       "100_DEMA     0.984280  0.940993   0.536319    0.616197  ...    0.478224   \n",
       "200_DEMA     0.995737  0.967371   0.558024    0.637420  ...    0.489161   \n",
       "MACD        -0.082360 -0.128530  -0.182216   -0.223828  ...   -0.085922   \n",
       "MACD_Signal -0.075997 -0.130203  -0.145154   -0.209513  ...   -0.055305   \n",
       "RSA         -0.033534 -0.060912  -0.065992   -0.033182  ...   -0.186646   \n",
       "STOCH       -0.021622 -0.060670  -0.080652   -0.051111  ...   -0.041411   \n",
       "RSI         -0.033534 -0.060912  -0.065992   -0.033182  ...   -0.186646   \n",
       "close_1days  0.967244  0.927572   0.512835    0.588012  ...    0.452878   \n",
       "high_close   0.493237  0.496809   0.390556    0.348273  ...    1.000000   \n",
       "open-low     0.477753  0.483349   0.400133    0.348559  ...    0.817652   \n",
       "lag_30       0.987473  0.957553   0.554162    0.648050  ...    0.488744   \n",
       "lag_45       0.990190  0.968092   0.553476    0.636308  ...    0.481298   \n",
       "lag_60       0.989537  0.976281   0.552348    0.634085  ...    0.487489   \n",
       "lag_90       0.976964  0.985606   0.574989    0.639888  ...    0.492643   \n",
       "lag_120      0.949989  0.984197   0.574248    0.634011  ...    0.494992   \n",
       "lag_150      0.918911  0.971790   0.583442    0.646759  ...    0.472793   \n",
       "lag_200      0.859238  0.931046   0.566300    0.635872  ...    0.451969   \n",
       "vol_change  -0.002983 -0.001192   0.030361    0.013227  ...    0.190459   \n",
       "\n",
       "             open-low    lag_30    lag_45    lag_60    lag_90   lag_120  \\\n",
       "close        0.432985  0.967459  0.953032  0.943156  0.916703  0.882055   \n",
       "volume       0.155423 -0.181023 -0.178511 -0.173622 -0.159319 -0.154780   \n",
       "sma_7        0.456071  0.971864  0.956486  0.946127  0.921250  0.887151   \n",
       "sma_20       0.463796  0.981484  0.965194  0.952718  0.929942  0.897377   \n",
       "sma_30       0.466735  0.988761  0.972396  0.958586  0.936278  0.905118   \n",
       "sma_50       0.470372  0.995104  0.986529  0.972075  0.947571  0.919802   \n",
       "sma_100      0.477753  0.987473  0.990190  0.989537  0.976964  0.949989   \n",
       "sma_200      0.483349  0.957553  0.968092  0.976281  0.985606  0.984197   \n",
       "7_day_std    0.400133  0.554162  0.553476  0.552348  0.574989  0.574248   \n",
       "20_day_std   0.348559  0.648050  0.636308  0.634085  0.639888  0.634011   \n",
       "30_day_std   0.332260  0.673052  0.675017  0.665432  0.663263  0.657294   \n",
       "50_day_std   0.336997  0.693515  0.717696  0.715963  0.703331  0.704625   \n",
       "100_day_std  0.351314  0.715025  0.731366  0.749585  0.768755  0.750463   \n",
       "200_day_std  0.394637  0.822060  0.825875  0.828437  0.821934  0.809461   \n",
       "7_DEMA       0.445670  0.966941  0.952242  0.942539  0.916436  0.881750   \n",
       "20_DEMA      0.453548  0.968301  0.950961  0.940192  0.915801  0.880936   \n",
       "30_DEMA      0.455985  0.972649  0.953358  0.940212  0.915707  0.881188   \n",
       "50_DEMA      0.458049  0.980602  0.961576  0.945458  0.917593  0.882869   \n",
       "100_DEMA     0.461929  0.989203  0.976690  0.962324  0.932117  0.895461   \n",
       "200_DEMA     0.472827  0.990183  0.987279  0.980973  0.961368  0.931950   \n",
       "MACD        -0.093852 -0.103734 -0.129866 -0.111620 -0.127495 -0.163686   \n",
       "MACD_Signal -0.052334 -0.087852 -0.134222 -0.123677 -0.129638 -0.169267   \n",
       "RSA         -0.200288 -0.044862 -0.056244 -0.046418 -0.071204 -0.090254   \n",
       "STOCH       -0.038538 -0.029408 -0.063055 -0.055245 -0.072145 -0.097517   \n",
       "RSI         -0.200288 -0.044862 -0.056244 -0.046418 -0.071204 -0.090254   \n",
       "close_1days  0.433960  0.966386  0.952325  0.942484  0.915470  0.880613   \n",
       "high_close   0.817652  0.488744  0.481298  0.487489  0.492643  0.494992   \n",
       "open-low     1.000000  0.471008  0.465004  0.469025  0.478773  0.481902   \n",
       "lag_30       0.471008  1.000000  0.984580  0.967590  0.944647  0.918725   \n",
       "lag_45       0.465004  0.984580  1.000000  0.984624  0.954462  0.933809   \n",
       "lag_60       0.469025  0.967590  0.984624  1.000000  0.968629  0.946051   \n",
       "lag_90       0.478773  0.944647  0.954462  0.968629  1.000000  0.969214   \n",
       "lag_120      0.481902  0.918725  0.933809  0.946051  0.969214  1.000000   \n",
       "lag_150      0.461885  0.882939  0.902019  0.919247  0.946927  0.969851   \n",
       "lag_200      0.446376  0.819733  0.836667  0.855254  0.897867  0.932224   \n",
       "vol_change   0.191585 -0.000858 -0.005300 -0.005688 -0.002035 -0.002987   \n",
       "\n",
       "              lag_150   lag_200  vol_change  \n",
       "close        0.841461  0.785192   -0.009687  \n",
       "volume      -0.133588 -0.130253    0.653368  \n",
       "sma_7        0.846115  0.790187   -0.005781  \n",
       "sma_20       0.856591  0.799752   -0.003858  \n",
       "sma_30       0.865301  0.806839   -0.002672  \n",
       "sma_50       0.882324  0.821002   -0.002778  \n",
       "sma_100      0.918911  0.859238   -0.002983  \n",
       "sma_200      0.971790  0.931046   -0.001192  \n",
       "7_day_std    0.583442  0.566300    0.030361  \n",
       "20_day_std   0.646759  0.635872    0.013227  \n",
       "30_day_std   0.676683  0.663064    0.009215  \n",
       "50_day_std   0.717095  0.696604   -0.000988  \n",
       "100_day_std  0.757114  0.750997   -0.006881  \n",
       "200_day_std  0.810833  0.806446   -0.004828  \n",
       "7_DEMA       0.840890  0.785031   -0.006986  \n",
       "20_DEMA      0.839174  0.784200   -0.005875  \n",
       "30_DEMA      0.838962  0.783349   -0.004921  \n",
       "50_DEMA      0.840130  0.781382   -0.003984  \n",
       "100_DEMA     0.851254  0.783709   -0.003691  \n",
       "200_DEMA     0.893221  0.823744   -0.002614  \n",
       "MACD        -0.185182 -0.159349   -0.024133  \n",
       "MACD_Signal -0.198229 -0.166573   -0.018439  \n",
       "RSA         -0.087328 -0.082319   -0.031949  \n",
       "STOCH       -0.103029 -0.088387   -0.004764  \n",
       "RSI         -0.087328 -0.082319   -0.031949  \n",
       "close_1days  0.840313  0.783754   -0.009849  \n",
       "high_close   0.472793  0.451969    0.190459  \n",
       "open-low     0.461885  0.446376    0.191585  \n",
       "lag_30       0.882939  0.819733   -0.000858  \n",
       "lag_45       0.902019  0.836667   -0.005300  \n",
       "lag_60       0.919247  0.855254   -0.005688  \n",
       "lag_90       0.946927  0.897867   -0.002035  \n",
       "lag_120      0.969851  0.932224   -0.002987  \n",
       "lag_150      1.000000  0.954387    0.002670  \n",
       "lag_200      0.954387  1.000000    0.002679  \n",
       "vol_change   0.002670  0.002679    1.000000  \n",
       "\n",
       "[36 rows x 36 columns]"
      ]
     },
     "execution_count": 19,
     "metadata": {},
     "output_type": "execute_result"
    }
   ],
   "source": [
    "ticker_df.corr()"
   ]
  },
  {
   "cell_type": "code",
   "execution_count": 20,
   "id": "713f89d3-3fe6-4899-b677-e716c6881d2d",
   "metadata": {},
   "outputs": [],
   "source": [
    "# feature_col = ticker_df.drop(\"close_1days\", axis='columns')"
   ]
  },
  {
   "cell_type": "code",
   "execution_count": 21,
   "id": "ba390c13-0cc7-4060-aaea-6f5460a04df6",
   "metadata": {},
   "outputs": [],
   "source": [
    "# setting feature columns and target variable\n",
    "X = ticker_df.drop([\"close_1days\",\"close\",\"volume\"], axis='columns')\n",
    "y = ticker_df['close_1days']"
   ]
  },
  {
   "cell_type": "code",
   "execution_count": 22,
   "id": "ae567347-e657-44d8-a0ff-70b4ba68b4f6",
   "metadata": {},
   "outputs": [
    {
     "name": "stdout",
     "output_type": "stream",
     "text": [
      "2012-12-17 00:00:00\n"
     ]
    },
    {
     "data": {
      "text/html": [
       "<div>\n",
       "<style scoped>\n",
       "    .dataframe tbody tr th:only-of-type {\n",
       "        vertical-align: middle;\n",
       "    }\n",
       "\n",
       "    .dataframe tbody tr th {\n",
       "        vertical-align: top;\n",
       "    }\n",
       "\n",
       "    .dataframe thead th {\n",
       "        text-align: right;\n",
       "    }\n",
       "</style>\n",
       "<table border=\"1\" class=\"dataframe\">\n",
       "  <thead>\n",
       "    <tr style=\"text-align: right;\">\n",
       "      <th></th>\n",
       "      <th>sma_7</th>\n",
       "      <th>sma_20</th>\n",
       "      <th>sma_30</th>\n",
       "      <th>sma_50</th>\n",
       "      <th>sma_100</th>\n",
       "      <th>sma_200</th>\n",
       "      <th>7_day_std</th>\n",
       "      <th>20_day_std</th>\n",
       "      <th>30_day_std</th>\n",
       "      <th>50_day_std</th>\n",
       "      <th>...</th>\n",
       "      <th>high_close</th>\n",
       "      <th>open-low</th>\n",
       "      <th>lag_30</th>\n",
       "      <th>lag_45</th>\n",
       "      <th>lag_60</th>\n",
       "      <th>lag_90</th>\n",
       "      <th>lag_120</th>\n",
       "      <th>lag_150</th>\n",
       "      <th>lag_200</th>\n",
       "      <th>vol_change</th>\n",
       "    </tr>\n",
       "    <tr>\n",
       "      <th>Date</th>\n",
       "      <th></th>\n",
       "      <th></th>\n",
       "      <th></th>\n",
       "      <th></th>\n",
       "      <th></th>\n",
       "      <th></th>\n",
       "      <th></th>\n",
       "      <th></th>\n",
       "      <th></th>\n",
       "      <th></th>\n",
       "      <th></th>\n",
       "      <th></th>\n",
       "      <th></th>\n",
       "      <th></th>\n",
       "      <th></th>\n",
       "      <th></th>\n",
       "      <th></th>\n",
       "      <th></th>\n",
       "      <th></th>\n",
       "      <th></th>\n",
       "      <th></th>\n",
       "    </tr>\n",
       "  </thead>\n",
       "  <tbody>\n",
       "    <tr>\n",
       "      <th>2022-10-17</th>\n",
       "      <td>151.880001</td>\n",
       "      <td>153.0965</td>\n",
       "      <td>158.039333</td>\n",
       "      <td>161.5692</td>\n",
       "      <td>157.1144</td>\n",
       "      <td>187.31415</td>\n",
       "      <td>3.266328</td>\n",
       "      <td>3.732911</td>\n",
       "      <td>8.060034</td>\n",
       "      <td>8.397849</td>\n",
       "      <td>...</td>\n",
       "      <td>1.750000</td>\n",
       "      <td>1.060013</td>\n",
       "      <td>164.600006</td>\n",
       "      <td>172.479996</td>\n",
       "      <td>157.740005</td>\n",
       "      <td>156.699997</td>\n",
       "      <td>236.500000</td>\n",
       "      <td>208.759995</td>\n",
       "      <td>231.910004</td>\n",
       "      <td>-0.332871</td>\n",
       "    </tr>\n",
       "    <tr>\n",
       "      <th>2022-10-18</th>\n",
       "      <td>152.578572</td>\n",
       "      <td>152.9565</td>\n",
       "      <td>157.827666</td>\n",
       "      <td>161.3744</td>\n",
       "      <td>157.1225</td>\n",
       "      <td>186.94310</td>\n",
       "      <td>3.851584</td>\n",
       "      <td>3.504720</td>\n",
       "      <td>7.992610</td>\n",
       "      <td>8.382966</td>\n",
       "      <td>...</td>\n",
       "      <td>3.900009</td>\n",
       "      <td>0.520004</td>\n",
       "      <td>163.580002</td>\n",
       "      <td>173.389999</td>\n",
       "      <td>157.490005</td>\n",
       "      <td>154.550003</td>\n",
       "      <td>230.970001</td>\n",
       "      <td>215.350006</td>\n",
       "      <td>231.440002</td>\n",
       "      <td>0.750928</td>\n",
       "    </tr>\n",
       "    <tr>\n",
       "      <th>2022-10-19</th>\n",
       "      <td>152.905714</td>\n",
       "      <td>152.7745</td>\n",
       "      <td>157.314333</td>\n",
       "      <td>161.1798</td>\n",
       "      <td>157.0444</td>\n",
       "      <td>186.56030</td>\n",
       "      <td>3.997735</td>\n",
       "      <td>3.258594</td>\n",
       "      <td>7.617103</td>\n",
       "      <td>8.407143</td>\n",
       "      <td>...</td>\n",
       "      <td>2.800003</td>\n",
       "      <td>3.059998</td>\n",
       "      <td>170.789993</td>\n",
       "      <td>180.190002</td>\n",
       "      <td>151.809998</td>\n",
       "      <td>149.669998</td>\n",
       "      <td>236.389999</td>\n",
       "      <td>215.589996</td>\n",
       "      <td>231.949997</td>\n",
       "      <td>-0.530593</td>\n",
       "    </tr>\n",
       "    <tr>\n",
       "      <th>2022-10-20</th>\n",
       "      <td>152.891427</td>\n",
       "      <td>152.8465</td>\n",
       "      <td>156.731000</td>\n",
       "      <td>160.8744</td>\n",
       "      <td>156.9170</td>\n",
       "      <td>186.16145</td>\n",
       "      <td>3.991261</td>\n",
       "      <td>3.278754</td>\n",
       "      <td>7.115139</td>\n",
       "      <td>8.369699</td>\n",
       "      <td>...</td>\n",
       "      <td>4.760010</td>\n",
       "      <td>2.559998</td>\n",
       "      <td>171.899994</td>\n",
       "      <td>175.339996</td>\n",
       "      <td>154.600006</td>\n",
       "      <td>144.809998</td>\n",
       "      <td>228.649994</td>\n",
       "      <td>220.630005</td>\n",
       "      <td>234.169998</td>\n",
       "      <td>0.179322</td>\n",
       "    </tr>\n",
       "    <tr>\n",
       "      <th>2022-10-21</th>\n",
       "      <td>153.609998</td>\n",
       "      <td>153.1755</td>\n",
       "      <td>156.249000</td>\n",
       "      <td>160.6662</td>\n",
       "      <td>156.8901</td>\n",
       "      <td>185.81310</td>\n",
       "      <td>4.655272</td>\n",
       "      <td>3.570889</td>\n",
       "      <td>6.381427</td>\n",
       "      <td>8.277181</td>\n",
       "      <td>...</td>\n",
       "      <td>0.069992</td>\n",
       "      <td>0.239990</td>\n",
       "      <td>173.649994</td>\n",
       "      <td>173.050003</td>\n",
       "      <td>159.419998</td>\n",
       "      <td>142.699997</td>\n",
       "      <td>229.779999</td>\n",
       "      <td>226.050003</td>\n",
       "      <td>228.860001</td>\n",
       "      <td>0.139132</td>\n",
       "    </tr>\n",
       "  </tbody>\n",
       "</table>\n",
       "<p>5 rows × 33 columns</p>\n",
       "</div>"
      ],
      "text/plain": [
       "                 sma_7    sma_20      sma_30    sma_50   sma_100    sma_200  \\\n",
       "Date                                                                          \n",
       "2022-10-17  151.880001  153.0965  158.039333  161.5692  157.1144  187.31415   \n",
       "2022-10-18  152.578572  152.9565  157.827666  161.3744  157.1225  186.94310   \n",
       "2022-10-19  152.905714  152.7745  157.314333  161.1798  157.0444  186.56030   \n",
       "2022-10-20  152.891427  152.8465  156.731000  160.8744  156.9170  186.16145   \n",
       "2022-10-21  153.609998  153.1755  156.249000  160.6662  156.8901  185.81310   \n",
       "\n",
       "            7_day_std  20_day_std  30_day_std  50_day_std  ...  high_close  \\\n",
       "Date                                                       ...               \n",
       "2022-10-17   3.266328    3.732911    8.060034    8.397849  ...    1.750000   \n",
       "2022-10-18   3.851584    3.504720    7.992610    8.382966  ...    3.900009   \n",
       "2022-10-19   3.997735    3.258594    7.617103    8.407143  ...    2.800003   \n",
       "2022-10-20   3.991261    3.278754    7.115139    8.369699  ...    4.760010   \n",
       "2022-10-21   4.655272    3.570889    6.381427    8.277181  ...    0.069992   \n",
       "\n",
       "            open-low      lag_30      lag_45      lag_60      lag_90  \\\n",
       "Date                                                                   \n",
       "2022-10-17  1.060013  164.600006  172.479996  157.740005  156.699997   \n",
       "2022-10-18  0.520004  163.580002  173.389999  157.490005  154.550003   \n",
       "2022-10-19  3.059998  170.789993  180.190002  151.809998  149.669998   \n",
       "2022-10-20  2.559998  171.899994  175.339996  154.600006  144.809998   \n",
       "2022-10-21  0.239990  173.649994  173.050003  159.419998  142.699997   \n",
       "\n",
       "               lag_120     lag_150     lag_200  vol_change  \n",
       "Date                                                        \n",
       "2022-10-17  236.500000  208.759995  231.910004   -0.332871  \n",
       "2022-10-18  230.970001  215.350006  231.440002    0.750928  \n",
       "2022-10-19  236.389999  215.589996  231.949997   -0.530593  \n",
       "2022-10-20  228.649994  220.630005  234.169998    0.179322  \n",
       "2022-10-21  229.779999  226.050003  228.860001    0.139132  \n",
       "\n",
       "[5 rows x 33 columns]"
      ]
     },
     "metadata": {},
     "output_type": "display_data"
    },
    {
     "data": {
      "text/html": [
       "<div>\n",
       "<style scoped>\n",
       "    .dataframe tbody tr th:only-of-type {\n",
       "        vertical-align: middle;\n",
       "    }\n",
       "\n",
       "    .dataframe tbody tr th {\n",
       "        vertical-align: top;\n",
       "    }\n",
       "\n",
       "    .dataframe thead th {\n",
       "        text-align: right;\n",
       "    }\n",
       "</style>\n",
       "<table border=\"1\" class=\"dataframe\">\n",
       "  <thead>\n",
       "    <tr style=\"text-align: right;\">\n",
       "      <th></th>\n",
       "      <th>sma_7</th>\n",
       "      <th>sma_20</th>\n",
       "      <th>sma_30</th>\n",
       "      <th>sma_50</th>\n",
       "      <th>sma_100</th>\n",
       "      <th>sma_200</th>\n",
       "      <th>7_day_std</th>\n",
       "      <th>20_day_std</th>\n",
       "      <th>30_day_std</th>\n",
       "      <th>50_day_std</th>\n",
       "      <th>...</th>\n",
       "      <th>high_close</th>\n",
       "      <th>open-low</th>\n",
       "      <th>lag_30</th>\n",
       "      <th>lag_45</th>\n",
       "      <th>lag_60</th>\n",
       "      <th>lag_90</th>\n",
       "      <th>lag_120</th>\n",
       "      <th>lag_150</th>\n",
       "      <th>lag_200</th>\n",
       "      <th>vol_change</th>\n",
       "    </tr>\n",
       "    <tr>\n",
       "      <th>Date</th>\n",
       "      <th></th>\n",
       "      <th></th>\n",
       "      <th></th>\n",
       "      <th></th>\n",
       "      <th></th>\n",
       "      <th></th>\n",
       "      <th></th>\n",
       "      <th></th>\n",
       "      <th></th>\n",
       "      <th></th>\n",
       "      <th></th>\n",
       "      <th></th>\n",
       "      <th></th>\n",
       "      <th></th>\n",
       "      <th></th>\n",
       "      <th></th>\n",
       "      <th></th>\n",
       "      <th></th>\n",
       "      <th></th>\n",
       "      <th></th>\n",
       "      <th></th>\n",
       "    </tr>\n",
       "  </thead>\n",
       "  <tbody>\n",
       "    <tr>\n",
       "      <th>2024-02-22</th>\n",
       "      <td>148.014284</td>\n",
       "      <td>145.432999</td>\n",
       "      <td>143.715666</td>\n",
       "      <td>142.243799</td>\n",
       "      <td>129.6080</td>\n",
       "      <td>130.90415</td>\n",
       "      <td>2.138705</td>\n",
       "      <td>3.301199</td>\n",
       "      <td>3.802710</td>\n",
       "      <td>3.729063</td>\n",
       "      <td>...</td>\n",
       "      <td>0.639999</td>\n",
       "      <td>0.799988</td>\n",
       "      <td>143.770004</td>\n",
       "      <td>138.369995</td>\n",
       "      <td>131.460007</td>\n",
       "      <td>110.800003</td>\n",
       "      <td>126.949997</td>\n",
       "      <td>132.699997</td>\n",
       "      <td>156.300003</td>\n",
       "      <td>0.085023</td>\n",
       "    </tr>\n",
       "    <tr>\n",
       "      <th>2024-02-23</th>\n",
       "      <td>148.781427</td>\n",
       "      <td>145.897999</td>\n",
       "      <td>143.962000</td>\n",
       "      <td>142.538199</td>\n",
       "      <td>130.0171</td>\n",
       "      <td>130.87905</td>\n",
       "      <td>2.298900</td>\n",
       "      <td>3.469567</td>\n",
       "      <td>4.058544</td>\n",
       "      <td>3.865840</td>\n",
       "      <td>...</td>\n",
       "      <td>1.300003</td>\n",
       "      <td>0.569992</td>\n",
       "      <td>144.089996</td>\n",
       "      <td>137.720001</td>\n",
       "      <td>131.330002</td>\n",
       "      <td>111.980003</td>\n",
       "      <td>126.550003</td>\n",
       "      <td>134.639999</td>\n",
       "      <td>156.500000</td>\n",
       "      <td>0.399313</td>\n",
       "    </tr>\n",
       "    <tr>\n",
       "      <th>2024-02-26</th>\n",
       "      <td>149.512854</td>\n",
       "      <td>146.278999</td>\n",
       "      <td>144.232999</td>\n",
       "      <td>142.827999</td>\n",
       "      <td>130.4517</td>\n",
       "      <td>130.84270</td>\n",
       "      <td>1.620931</td>\n",
       "      <td>3.498517</td>\n",
       "      <td>4.193585</td>\n",
       "      <td>3.882777</td>\n",
       "      <td>...</td>\n",
       "      <td>0.800003</td>\n",
       "      <td>1.509995</td>\n",
       "      <td>142.020004</td>\n",
       "      <td>139.580002</td>\n",
       "      <td>131.669998</td>\n",
       "      <td>111.389999</td>\n",
       "      <td>125.519997</td>\n",
       "      <td>134.080002</td>\n",
       "      <td>157.419998</td>\n",
       "      <td>0.100839</td>\n",
       "    </tr>\n",
       "    <tr>\n",
       "      <th>2024-02-27</th>\n",
       "      <td>150.321426</td>\n",
       "      <td>146.802499</td>\n",
       "      <td>144.602333</td>\n",
       "      <td>143.100199</td>\n",
       "      <td>130.9000</td>\n",
       "      <td>130.81400</td>\n",
       "      <td>1.094967</td>\n",
       "      <td>3.532104</td>\n",
       "      <td>4.374830</td>\n",
       "      <td>4.038526</td>\n",
       "      <td>...</td>\n",
       "      <td>0.319992</td>\n",
       "      <td>0.339996</td>\n",
       "      <td>140.910004</td>\n",
       "      <td>136.899994</td>\n",
       "      <td>131.320007</td>\n",
       "      <td>112.559998</td>\n",
       "      <td>125.190002</td>\n",
       "      <td>135.410004</td>\n",
       "      <td>157.729996</td>\n",
       "      <td>-0.260624</td>\n",
       "    </tr>\n",
       "    <tr>\n",
       "      <th>2024-02-28</th>\n",
       "      <td>150.582855</td>\n",
       "      <td>147.348499</td>\n",
       "      <td>144.947999</td>\n",
       "      <td>143.306199</td>\n",
       "      <td>131.3482</td>\n",
       "      <td>130.77685</td>\n",
       "      <td>1.115077</td>\n",
       "      <td>3.349107</td>\n",
       "      <td>4.494160</td>\n",
       "      <td>4.196119</td>\n",
       "      <td>...</td>\n",
       "      <td>0.809998</td>\n",
       "      <td>0.680008</td>\n",
       "      <td>141.070007</td>\n",
       "      <td>139.369995</td>\n",
       "      <td>133.809998</td>\n",
       "      <td>110.209999</td>\n",
       "      <td>123.709999</td>\n",
       "      <td>133.600006</td>\n",
       "      <td>158.869995</td>\n",
       "      <td>-0.194060</td>\n",
       "    </tr>\n",
       "  </tbody>\n",
       "</table>\n",
       "<p>5 rows × 33 columns</p>\n",
       "</div>"
      ],
      "text/plain": [
       "                 sma_7      sma_20      sma_30      sma_50   sma_100  \\\n",
       "Date                                                                   \n",
       "2024-02-22  148.014284  145.432999  143.715666  142.243799  129.6080   \n",
       "2024-02-23  148.781427  145.897999  143.962000  142.538199  130.0171   \n",
       "2024-02-26  149.512854  146.278999  144.232999  142.827999  130.4517   \n",
       "2024-02-27  150.321426  146.802499  144.602333  143.100199  130.9000   \n",
       "2024-02-28  150.582855  147.348499  144.947999  143.306199  131.3482   \n",
       "\n",
       "              sma_200  7_day_std  20_day_std  30_day_std  50_day_std  ...  \\\n",
       "Date                                                                  ...   \n",
       "2024-02-22  130.90415   2.138705    3.301199    3.802710    3.729063  ...   \n",
       "2024-02-23  130.87905   2.298900    3.469567    4.058544    3.865840  ...   \n",
       "2024-02-26  130.84270   1.620931    3.498517    4.193585    3.882777  ...   \n",
       "2024-02-27  130.81400   1.094967    3.532104    4.374830    4.038526  ...   \n",
       "2024-02-28  130.77685   1.115077    3.349107    4.494160    4.196119  ...   \n",
       "\n",
       "            high_close  open-low      lag_30      lag_45      lag_60  \\\n",
       "Date                                                                   \n",
       "2024-02-22    0.639999  0.799988  143.770004  138.369995  131.460007   \n",
       "2024-02-23    1.300003  0.569992  144.089996  137.720001  131.330002   \n",
       "2024-02-26    0.800003  1.509995  142.020004  139.580002  131.669998   \n",
       "2024-02-27    0.319992  0.339996  140.910004  136.899994  131.320007   \n",
       "2024-02-28    0.809998  0.680008  141.070007  139.369995  133.809998   \n",
       "\n",
       "                lag_90     lag_120     lag_150     lag_200  vol_change  \n",
       "Date                                                                    \n",
       "2024-02-22  110.800003  126.949997  132.699997  156.300003    0.085023  \n",
       "2024-02-23  111.980003  126.550003  134.639999  156.500000    0.399313  \n",
       "2024-02-26  111.389999  125.519997  134.080002  157.419998    0.100839  \n",
       "2024-02-27  112.559998  125.190002  135.410004  157.729996   -0.260624  \n",
       "2024-02-28  110.209999  123.709999  133.600006  158.869995   -0.194060  \n",
       "\n",
       "[5 rows x 33 columns]"
      ]
     },
     "metadata": {},
     "output_type": "display_data"
    }
   ],
   "source": [
    "from pandas.tseries.offsets import DateOffset\n",
    "# Select the start of the training period\n",
    "training_begin = X.index.min()\n",
    "\n",
    "# Display the training begin date\n",
    "print(training_begin)\n",
    "\n",
    "# Select the ending period for the training data with an offset of 110 months\n",
    "training_end = X.index.min() + DateOffset(months =118)\n",
    "\n",
    "# Display the training end date\n",
    "\n",
    "# Generate the X_train and y_train DataFrames\n",
    "X_train = X.loc[training_begin:training_end]\n",
    "y_train = y.loc[training_begin:training_end]\n",
    "\n",
    "# Generate the X_test and y_test DataFrames\n",
    "X_test = X.loc[training_end:]\n",
    "y_test = y.loc[training_end:]\n",
    "\n",
    "# Review the X_test DataFrame\n",
    "display(X_test.head())\n",
    "display(X_test.tail())"
   ]
  },
  {
   "cell_type": "code",
   "execution_count": 23,
   "id": "95ccaccd-bcc7-4699-9b4b-c811a758c53b",
   "metadata": {
    "tags": []
   },
   "outputs": [
    {
     "name": "stdout",
     "output_type": "stream",
     "text": [
      "343\n"
     ]
    }
   ],
   "source": [
    "print(len(y_test))"
   ]
  },
  {
   "cell_type": "code",
   "execution_count": 24,
   "id": "9da89257-ef6c-4857-8181-3d4fa289dc94",
   "metadata": {},
   "outputs": [],
   "source": [
    "# Create ain= StandardScaler instance\n",
    "scaler = StandardScaler()\n",
    "\n",
    "# Fit the scaler to the features training dataset\n",
    "X_scaler = scaler.fit(X_train)\n",
    "\n",
    "# Fit the scaler to the features training dataset\n",
    "X_train_scaled = X_scaler.transform(X_train)\n",
    "X_test_scaled = X_scaler.transform(X_test)"
   ]
  },
  {
   "cell_type": "code",
   "execution_count": 25,
   "id": "fd181964-fded-4eac-a4fa-cef833ee67db",
   "metadata": {
    "tags": []
   },
   "outputs": [
    {
     "data": {
      "text/plain": [
       "array([[ 0.86096626,  0.88881158,  0.98182413, ...,  2.10270531,\n",
       "         2.72712791, -0.72359252],\n",
       "       [ 0.87330557,  0.88633269,  0.97806828, ...,  2.22580311,\n",
       "         2.71790119,  1.11759083],\n",
       "       [ 0.87908408,  0.88311014,  0.9689596 , ...,  2.230286  ,\n",
       "         2.72791302, -1.05948601],\n",
       "       ...,\n",
       "       [ 0.81915385,  0.76809865,  0.73684207, ...,  0.70772406,\n",
       "         1.26479496,  0.01320464],\n",
       "       [ 0.83343617,  0.77736791,  0.74339559, ...,  0.73256777,\n",
       "         1.2708806 , -0.60085668],\n",
       "       [ 0.83805396,  0.78703557,  0.74952916, ...,  0.69875801,\n",
       "         1.29326023, -0.48777605]])"
      ]
     },
     "execution_count": 25,
     "metadata": {},
     "output_type": "execute_result"
    }
   ],
   "source": [
    "X_test_scaled"
   ]
  },
  {
   "cell_type": "markdown",
   "id": "2aa4dd4f-38c0-427f-9591-c85314a654e9",
   "metadata": {
    "tags": []
   },
   "source": [
    "## RandomForestRegressor"
   ]
  },
  {
   "cell_type": "markdown",
   "id": "255d4f8a-f6e4-4711-94a0-044bc2c1bb10",
   "metadata": {
    "tags": []
   },
   "source": [
    "## RandomForestRegressor"
   ]
  },
  {
   "cell_type": "code",
   "execution_count": 26,
   "id": "7b4f563d-be14-427a-b25e-c17e6df18b02",
   "metadata": {
    "tags": []
   },
   "outputs": [],
   "source": [
    "rf= RandomForestRegressor()"
   ]
  },
  {
   "cell_type": "code",
   "execution_count": 27,
   "id": "bda581cf-226e-4438-aa0c-21777366ed9c",
   "metadata": {
    "tags": []
   },
   "outputs": [],
   "source": [
    "param_grid_xgb={\"n_estimators\": [100],\n",
    "            \"max_depth\": [6],\n",
    "            \"max_features\" :[ 5]\n",
    "           }\n",
    "\n",
    "# rf_model = RegressorModel(clf=rf, params=rf_params)"
   ]
  },
  {
   "cell_type": "code",
   "execution_count": 28,
   "id": "f4078033-bfdb-4178-bc7f-6bc0dbdceb1f",
   "metadata": {
    "tags": []
   },
   "outputs": [],
   "source": [
    "gs_csv=GridSearchCV(estimator=rf,\n",
    "                    param_grid=param_grid_xgb,\n",
    "                    scoring=[\"r2\"],\n",
    "                    refit=\"r2\",\n",
    "                    cv=5,\n",
    "                    verbose=4)\n",
    "                    \n",
    "                    "
   ]
  },
  {
   "cell_type": "code",
   "execution_count": 29,
   "id": "9dbfd45a-065e-4279-80fd-a3e0c2f42cdd",
   "metadata": {
    "tags": []
   },
   "outputs": [
    {
     "name": "stdout",
     "output_type": "stream",
     "text": [
      "Fitting 5 folds for each of 1 candidates, totalling 5 fits\n",
      "[CV 1/5] END max_depth=6, max_features=5, n_estimators=100; r2: (test=0.862) total time=   2.2s\n",
      "[CV 2/5] END max_depth=6, max_features=5, n_estimators=100; r2: (test=0.881) total time=   2.0s\n",
      "[CV 3/5] END max_depth=6, max_features=5, n_estimators=100; r2: (test=0.916) total time=   2.0s\n",
      "[CV 4/5] END max_depth=6, max_features=5, n_estimators=100; r2: (test=0.752) total time=   2.0s\n",
      "[CV 5/5] END max_depth=6, max_features=5, n_estimators=100; r2: (test=-1.685) total time=   1.9s\n"
     ]
    },
    {
     "data": {
      "text/html": [
       "<style>#sk-container-id-1 {color: black;}#sk-container-id-1 pre{padding: 0;}#sk-container-id-1 div.sk-toggleable {background-color: white;}#sk-container-id-1 label.sk-toggleable__label {cursor: pointer;display: block;width: 100%;margin-bottom: 0;padding: 0.3em;box-sizing: border-box;text-align: center;}#sk-container-id-1 label.sk-toggleable__label-arrow:before {content: \"▸\";float: left;margin-right: 0.25em;color: #696969;}#sk-container-id-1 label.sk-toggleable__label-arrow:hover:before {color: black;}#sk-container-id-1 div.sk-estimator:hover label.sk-toggleable__label-arrow:before {color: black;}#sk-container-id-1 div.sk-toggleable__content {max-height: 0;max-width: 0;overflow: hidden;text-align: left;background-color: #f0f8ff;}#sk-container-id-1 div.sk-toggleable__content pre {margin: 0.2em;color: black;border-radius: 0.25em;background-color: #f0f8ff;}#sk-container-id-1 input.sk-toggleable__control:checked~div.sk-toggleable__content {max-height: 200px;max-width: 100%;overflow: auto;}#sk-container-id-1 input.sk-toggleable__control:checked~label.sk-toggleable__label-arrow:before {content: \"▾\";}#sk-container-id-1 div.sk-estimator input.sk-toggleable__control:checked~label.sk-toggleable__label {background-color: #d4ebff;}#sk-container-id-1 div.sk-label input.sk-toggleable__control:checked~label.sk-toggleable__label {background-color: #d4ebff;}#sk-container-id-1 input.sk-hidden--visually {border: 0;clip: rect(1px 1px 1px 1px);clip: rect(1px, 1px, 1px, 1px);height: 1px;margin: -1px;overflow: hidden;padding: 0;position: absolute;width: 1px;}#sk-container-id-1 div.sk-estimator {font-family: monospace;background-color: #f0f8ff;border: 1px dotted black;border-radius: 0.25em;box-sizing: border-box;margin-bottom: 0.5em;}#sk-container-id-1 div.sk-estimator:hover {background-color: #d4ebff;}#sk-container-id-1 div.sk-parallel-item::after {content: \"\";width: 100%;border-bottom: 1px solid gray;flex-grow: 1;}#sk-container-id-1 div.sk-label:hover label.sk-toggleable__label {background-color: #d4ebff;}#sk-container-id-1 div.sk-serial::before {content: \"\";position: absolute;border-left: 1px solid gray;box-sizing: border-box;top: 0;bottom: 0;left: 50%;z-index: 0;}#sk-container-id-1 div.sk-serial {display: flex;flex-direction: column;align-items: center;background-color: white;padding-right: 0.2em;padding-left: 0.2em;position: relative;}#sk-container-id-1 div.sk-item {position: relative;z-index: 1;}#sk-container-id-1 div.sk-parallel {display: flex;align-items: stretch;justify-content: center;background-color: white;position: relative;}#sk-container-id-1 div.sk-item::before, #sk-container-id-1 div.sk-parallel-item::before {content: \"\";position: absolute;border-left: 1px solid gray;box-sizing: border-box;top: 0;bottom: 0;left: 50%;z-index: -1;}#sk-container-id-1 div.sk-parallel-item {display: flex;flex-direction: column;z-index: 1;position: relative;background-color: white;}#sk-container-id-1 div.sk-parallel-item:first-child::after {align-self: flex-end;width: 50%;}#sk-container-id-1 div.sk-parallel-item:last-child::after {align-self: flex-start;width: 50%;}#sk-container-id-1 div.sk-parallel-item:only-child::after {width: 0;}#sk-container-id-1 div.sk-dashed-wrapped {border: 1px dashed gray;margin: 0 0.4em 0.5em 0.4em;box-sizing: border-box;padding-bottom: 0.4em;background-color: white;}#sk-container-id-1 div.sk-label label {font-family: monospace;font-weight: bold;display: inline-block;line-height: 1.2em;}#sk-container-id-1 div.sk-label-container {text-align: center;}#sk-container-id-1 div.sk-container {/* jupyter's `normalize.less` sets `[hidden] { display: none; }` but bootstrap.min.css set `[hidden] { display: none !important; }` so we also need the `!important` here to be able to override the default hidden behavior on the sphinx rendered scikit-learn.org. See: https://github.com/scikit-learn/scikit-learn/issues/21755 */display: inline-block !important;position: relative;}#sk-container-id-1 div.sk-text-repr-fallback {display: none;}</style><div id=\"sk-container-id-1\" class=\"sk-top-container\"><div class=\"sk-text-repr-fallback\"><pre>GridSearchCV(cv=5, estimator=RandomForestRegressor(),\n",
       "             param_grid={&#x27;max_depth&#x27;: [6], &#x27;max_features&#x27;: [5],\n",
       "                         &#x27;n_estimators&#x27;: [100]},\n",
       "             refit=&#x27;r2&#x27;, scoring=[&#x27;r2&#x27;], verbose=4)</pre><b>In a Jupyter environment, please rerun this cell to show the HTML representation or trust the notebook. <br />On GitHub, the HTML representation is unable to render, please try loading this page with nbviewer.org.</b></div><div class=\"sk-container\" hidden><div class=\"sk-item sk-dashed-wrapped\"><div class=\"sk-label-container\"><div class=\"sk-label sk-toggleable\"><input class=\"sk-toggleable__control sk-hidden--visually\" id=\"sk-estimator-id-1\" type=\"checkbox\" ><label for=\"sk-estimator-id-1\" class=\"sk-toggleable__label sk-toggleable__label-arrow\">GridSearchCV</label><div class=\"sk-toggleable__content\"><pre>GridSearchCV(cv=5, estimator=RandomForestRegressor(),\n",
       "             param_grid={&#x27;max_depth&#x27;: [6], &#x27;max_features&#x27;: [5],\n",
       "                         &#x27;n_estimators&#x27;: [100]},\n",
       "             refit=&#x27;r2&#x27;, scoring=[&#x27;r2&#x27;], verbose=4)</pre></div></div></div><div class=\"sk-parallel\"><div class=\"sk-parallel-item\"><div class=\"sk-item\"><div class=\"sk-label-container\"><div class=\"sk-label sk-toggleable\"><input class=\"sk-toggleable__control sk-hidden--visually\" id=\"sk-estimator-id-2\" type=\"checkbox\" ><label for=\"sk-estimator-id-2\" class=\"sk-toggleable__label sk-toggleable__label-arrow\">estimator: RandomForestRegressor</label><div class=\"sk-toggleable__content\"><pre>RandomForestRegressor()</pre></div></div></div><div class=\"sk-serial\"><div class=\"sk-item\"><div class=\"sk-estimator sk-toggleable\"><input class=\"sk-toggleable__control sk-hidden--visually\" id=\"sk-estimator-id-3\" type=\"checkbox\" ><label for=\"sk-estimator-id-3\" class=\"sk-toggleable__label sk-toggleable__label-arrow\">RandomForestRegressor</label><div class=\"sk-toggleable__content\"><pre>RandomForestRegressor()</pre></div></div></div></div></div></div></div></div></div></div>"
      ],
      "text/plain": [
       "GridSearchCV(cv=5, estimator=RandomForestRegressor(),\n",
       "             param_grid={'max_depth': [6], 'max_features': [5],\n",
       "                         'n_estimators': [100]},\n",
       "             refit='r2', scoring=['r2'], verbose=4)"
      ]
     },
     "execution_count": 29,
     "metadata": {},
     "output_type": "execute_result"
    }
   ],
   "source": [
    "gs_csv.fit(X_train_scaled,y_train)"
   ]
  },
  {
   "cell_type": "code",
   "execution_count": 30,
   "id": "8035215b-840a-41b2-8796-81123132276f",
   "metadata": {
    "tags": []
   },
   "outputs": [],
   "source": [
    "rf_best=gs_csv.best_estimator_"
   ]
  },
  {
   "cell_type": "code",
   "execution_count": 31,
   "id": "ad880bd3-d466-4e60-a737-d78882b0fadd",
   "metadata": {
    "tags": []
   },
   "outputs": [
    {
     "name": "stdout",
     "output_type": "stream",
     "text": [
      "{'max_depth': 6, 'max_features': 5, 'n_estimators': 100}\n"
     ]
    }
   ],
   "source": [
    "#print(gs_csv.best_estimator)\n",
    "print(gs_csv.best_params_)"
   ]
  },
  {
   "cell_type": "code",
   "execution_count": 32,
   "id": "a57dfaac-aa08-425e-a833-a029691cb585",
   "metadata": {
    "tags": []
   },
   "outputs": [
    {
     "name": "stdout",
     "output_type": "stream",
     "text": [
      "0.3451681992582777\n"
     ]
    }
   ],
   "source": [
    "print(gs_csv.best_score_)"
   ]
  },
  {
   "cell_type": "code",
   "execution_count": 33,
   "id": "0533ed95-c24f-4d57-a17c-92972344a994",
   "metadata": {
    "tags": []
   },
   "outputs": [],
   "source": [
    "df=pd.DataFrame(gs_csv.cv_results_)\n",
    "df=df.sort_values(\"rank_test_r2\")\n",
    "df.to_csv(\"gs.csv\")\n",
    "                  "
   ]
  },
  {
   "cell_type": "code",
   "execution_count": 34,
   "id": "b7ea5b72-3297-4bb6-92cd-df5dc8b00666",
   "metadata": {
    "tags": []
   },
   "outputs": [
    {
     "name": "stdout",
     "output_type": "stream",
     "text": [
      "Mean Absolute Error: 7.159718168527003\n",
      "Mean Squared Error: 79.82017860916446\n",
      "Root Mean Squared Error: 8.934213933478672\n",
      "R2 Score: 0.7699818664496392\n"
     ]
    }
   ],
   "source": [
    "from sklearn import metrics\n",
    "predictions=rf_best.predict(X_test_scaled)\n",
    "print('Mean Absolute Error:', metrics.mean_absolute_error(y_test, predictions))\n",
    "print('Mean Squared Error:', metrics.mean_squared_error(y_test, predictions))\n",
    "print('Root Mean Squared Error:', np.sqrt(metrics.mean_squared_error(y_test, predictions)))\n",
    "print('R2 Score:', metrics.r2_score(y_test, predictions))\n",
    "rf_r2= round((metrics.r2_score(y_test, predictions)),4)\n",
    "rf_mse=round((metrics.mean_squared_error(y_test, predictions)),4)"
   ]
  },
  {
   "cell_type": "code",
   "execution_count": 35,
   "id": "901d8cf1-101e-46d4-b5c1-cab037ccca6c",
   "metadata": {
    "tags": []
   },
   "outputs": [
    {
     "data": {
      "image/png": "[encoded data removed]",
      "text/plain": [
       "<Figure size 640x480 with 1 Axes>"
      ]
     },
     "metadata": {},
     "output_type": "display_data"
    }
   ],
   "source": [
    "importances = rf_best.feature_importances_\n",
    "sorted_index = np.argsort(importances)[::-1]\n",
    "x_values = range(len(importances))\n",
    "labels = X.columns.values.tolist()\n",
    "plt.bar(x_values, importances[sorted_index], tick_label=labels)\n",
    "plt.xticks(rotation=90)\n",
    "plt.show()"
   ]
  },
  {
   "cell_type": "code",
   "execution_count": 36,
   "id": "66bb1d1f-bc7c-4274-bcbb-af4bb3e74b2d",
   "metadata": {
    "tags": []
   },
   "outputs": [
    {
     "data": {
      "text/plain": [
       "<Axes: xlabel='Date'>"
      ]
     },
     "execution_count": 36,
     "metadata": {},
     "output_type": "execute_result"
    },
    {
     "data": {
      "image/png": "[encoded data removed]",
      "text/plain": [
       "<Figure size 640x480 with 1 Axes>"
      ]
     },
     "metadata": {},
     "output_type": "display_data"
    }
   ],
   "source": [
    "df1=pd.DataFrame({\"Prediction\": predictions, \"Actual\": y_test})\n",
    "df1.plot()"
   ]
  },
  {
   "cell_type": "markdown",
   "id": "35f49ace-934a-4341-91d2-a435c0ea294f",
   "metadata": {},
   "source": [
    "## XGBoost Regressor"
   ]
  },
  {
   "cell_type": "code",
   "execution_count": 37,
   "id": "8c610b28-af55-4b43-98f0-0fc80acafdb4",
   "metadata": {},
   "outputs": [],
   "source": [
    "\n",
    "xgb_model= xgb.XGBRegressor()\n"
   ]
  },
  {
   "cell_type": "code",
   "execution_count": 38,
   "id": "4d2e60d7-3505-4ead-bf69-a7cccb63a029",
   "metadata": {},
   "outputs": [],
   "source": [
    "param_grid_xgb= {\"learning_rate\": (0.05, 0.10, 0.15),\n",
    "                        \"max_depth\": [3],\n",
    "                        \"min_child_weight\": [4],\n",
    "                        'subsample': [0.7],\n",
    "                        \"n_estimators\": [500]}\n",
    "           "
   ]
  },
  {
   "cell_type": "code",
   "execution_count": 39,
   "id": "b6e4b318-fd74-40a6-a972-56d964af5cf9",
   "metadata": {
    "tags": []
   },
   "outputs": [],
   "source": [
    "gs_csv_xgb=GridSearchCV(estimator=xgb_model,\n",
    "                    param_grid=param_grid_xgb,\n",
    "                    cv=5,\n",
    "                    verbose=True)"
   ]
  },
  {
   "cell_type": "code",
   "execution_count": 40,
   "id": "e271060c-0023-4fcc-9f81-25447db36b46",
   "metadata": {
    "tags": []
   },
   "outputs": [
    {
     "name": "stdout",
     "output_type": "stream",
     "text": [
      "Fitting 5 folds for each of 3 candidates, totalling 15 fits\n"
     ]
    },
    {
     "data": {
      "text/html": [
       "<style>#sk-container-id-2 {color: black;}#sk-container-id-2 pre{padding: 0;}#sk-container-id-2 div.sk-toggleable {background-color: white;}#sk-container-id-2 label.sk-toggleable__label {cursor: pointer;display: block;width: 100%;margin-bottom: 0;padding: 0.3em;box-sizing: border-box;text-align: center;}#sk-container-id-2 label.sk-toggleable__label-arrow:before {content: \"▸\";float: left;margin-right: 0.25em;color: #696969;}#sk-container-id-2 label.sk-toggleable__label-arrow:hover:before {color: black;}#sk-container-id-2 div.sk-estimator:hover label.sk-toggleable__label-arrow:before {color: black;}#sk-container-id-2 div.sk-toggleable__content {max-height: 0;max-width: 0;overflow: hidden;text-align: left;background-color: #f0f8ff;}#sk-container-id-2 div.sk-toggleable__content pre {margin: 0.2em;color: black;border-radius: 0.25em;background-color: #f0f8ff;}#sk-container-id-2 input.sk-toggleable__control:checked~div.sk-toggleable__content {max-height: 200px;max-width: 100%;overflow: auto;}#sk-container-id-2 input.sk-toggleable__control:checked~label.sk-toggleable__label-arrow:before {content: \"▾\";}#sk-container-id-2 div.sk-estimator input.sk-toggleable__control:checked~label.sk-toggleable__label {background-color: #d4ebff;}#sk-container-id-2 div.sk-label input.sk-toggleable__control:checked~label.sk-toggleable__label {background-color: #d4ebff;}#sk-container-id-2 input.sk-hidden--visually {border: 0;clip: rect(1px 1px 1px 1px);clip: rect(1px, 1px, 1px, 1px);height: 1px;margin: -1px;overflow: hidden;padding: 0;position: absolute;width: 1px;}#sk-container-id-2 div.sk-estimator {font-family: monospace;background-color: #f0f8ff;border: 1px dotted black;border-radius: 0.25em;box-sizing: border-box;margin-bottom: 0.5em;}#sk-container-id-2 div.sk-estimator:hover {background-color: #d4ebff;}#sk-container-id-2 div.sk-parallel-item::after {content: \"\";width: 100%;border-bottom: 1px solid gray;flex-grow: 1;}#sk-container-id-2 div.sk-label:hover label.sk-toggleable__label {background-color: #d4ebff;}#sk-container-id-2 div.sk-serial::before {content: \"\";position: absolute;border-left: 1px solid gray;box-sizing: border-box;top: 0;bottom: 0;left: 50%;z-index: 0;}#sk-container-id-2 div.sk-serial {display: flex;flex-direction: column;align-items: center;background-color: white;padding-right: 0.2em;padding-left: 0.2em;position: relative;}#sk-container-id-2 div.sk-item {position: relative;z-index: 1;}#sk-container-id-2 div.sk-parallel {display: flex;align-items: stretch;justify-content: center;background-color: white;position: relative;}#sk-container-id-2 div.sk-item::before, #sk-container-id-2 div.sk-parallel-item::before {content: \"\";position: absolute;border-left: 1px solid gray;box-sizing: border-box;top: 0;bottom: 0;left: 50%;z-index: -1;}#sk-container-id-2 div.sk-parallel-item {display: flex;flex-direction: column;z-index: 1;position: relative;background-color: white;}#sk-container-id-2 div.sk-parallel-item:first-child::after {align-self: flex-end;width: 50%;}#sk-container-id-2 div.sk-parallel-item:last-child::after {align-self: flex-start;width: 50%;}#sk-container-id-2 div.sk-parallel-item:only-child::after {width: 0;}#sk-container-id-2 div.sk-dashed-wrapped {border: 1px dashed gray;margin: 0 0.4em 0.5em 0.4em;box-sizing: border-box;padding-bottom: 0.4em;background-color: white;}#sk-container-id-2 div.sk-label label {font-family: monospace;font-weight: bold;display: inline-block;line-height: 1.2em;}#sk-container-id-2 div.sk-label-container {text-align: center;}#sk-container-id-2 div.sk-container {/* jupyter's `normalize.less` sets `[hidden] { display: none; }` but bootstrap.min.css set `[hidden] { display: none !important; }` so we also need the `!important` here to be able to override the default hidden behavior on the sphinx rendered scikit-learn.org. See: https://github.com/scikit-learn/scikit-learn/issues/21755 */display: inline-block !important;position: relative;}#sk-container-id-2 div.sk-text-repr-fallback {display: none;}</style><div id=\"sk-container-id-2\" class=\"sk-top-container\"><div class=\"sk-text-repr-fallback\"><pre>GridSearchCV(cv=5,\n",
       "             estimator=XGBRegressor(base_score=None, booster=None,\n",
       "                                    callbacks=None, colsample_bylevel=None,\n",
       "                                    colsample_bynode=None,\n",
       "                                    colsample_bytree=None, device=None,\n",
       "                                    early_stopping_rounds=None,\n",
       "                                    enable_categorical=False, eval_metric=None,\n",
       "                                    feature_types=None, gamma=None,\n",
       "                                    grow_policy=None, importance_type=None,\n",
       "                                    interaction_constraints=None,\n",
       "                                    learning_rate=None, m...\n",
       "                                    max_cat_to_onehot=None, max_delta_step=None,\n",
       "                                    max_depth=None, max_leaves=None,\n",
       "                                    min_child_weight=None, missing=nan,\n",
       "                                    monotone_constraints=None,\n",
       "                                    multi_strategy=None, n_estimators=None,\n",
       "                                    n_jobs=None, num_parallel_tree=None,\n",
       "                                    random_state=None, ...),\n",
       "             param_grid={&#x27;learning_rate&#x27;: (0.05, 0.1, 0.15), &#x27;max_depth&#x27;: [3],\n",
       "                         &#x27;min_child_weight&#x27;: [4], &#x27;n_estimators&#x27;: [500],\n",
       "                         &#x27;subsample&#x27;: [0.7]},\n",
       "             verbose=True)</pre><b>In a Jupyter environment, please rerun this cell to show the HTML representation or trust the notebook. <br />On GitHub, the HTML representation is unable to render, please try loading this page with nbviewer.org.</b></div><div class=\"sk-container\" hidden><div class=\"sk-item sk-dashed-wrapped\"><div class=\"sk-label-container\"><div class=\"sk-label sk-toggleable\"><input class=\"sk-toggleable__control sk-hidden--visually\" id=\"sk-estimator-id-4\" type=\"checkbox\" ><label for=\"sk-estimator-id-4\" class=\"sk-toggleable__label sk-toggleable__label-arrow\">GridSearchCV</label><div class=\"sk-toggleable__content\"><pre>GridSearchCV(cv=5,\n",
       "             estimator=XGBRegressor(base_score=None, booster=None,\n",
       "                                    callbacks=None, colsample_bylevel=None,\n",
       "                                    colsample_bynode=None,\n",
       "                                    colsample_bytree=None, device=None,\n",
       "                                    early_stopping_rounds=None,\n",
       "                                    enable_categorical=False, eval_metric=None,\n",
       "                                    feature_types=None, gamma=None,\n",
       "                                    grow_policy=None, importance_type=None,\n",
       "                                    interaction_constraints=None,\n",
       "                                    learning_rate=None, m...\n",
       "                                    max_cat_to_onehot=None, max_delta_step=None,\n",
       "                                    max_depth=None, max_leaves=None,\n",
       "                                    min_child_weight=None, missing=nan,\n",
       "                                    monotone_constraints=None,\n",
       "                                    multi_strategy=None, n_estimators=None,\n",
       "                                    n_jobs=None, num_parallel_tree=None,\n",
       "                                    random_state=None, ...),\n",
       "             param_grid={&#x27;learning_rate&#x27;: (0.05, 0.1, 0.15), &#x27;max_depth&#x27;: [3],\n",
       "                         &#x27;min_child_weight&#x27;: [4], &#x27;n_estimators&#x27;: [500],\n",
       "                         &#x27;subsample&#x27;: [0.7]},\n",
       "             verbose=True)</pre></div></div></div><div class=\"sk-parallel\"><div class=\"sk-parallel-item\"><div class=\"sk-item\"><div class=\"sk-label-container\"><div class=\"sk-label sk-toggleable\"><input class=\"sk-toggleable__control sk-hidden--visually\" id=\"sk-estimator-id-5\" type=\"checkbox\" ><label for=\"sk-estimator-id-5\" class=\"sk-toggleable__label sk-toggleable__label-arrow\">estimator: XGBRegressor</label><div class=\"sk-toggleable__content\"><pre>XGBRegressor(base_score=None, booster=None, callbacks=None,\n",
       "             colsample_bylevel=None, colsample_bynode=None,\n",
       "             colsample_bytree=None, device=None, early_stopping_rounds=None,\n",
       "             enable_categorical=False, eval_metric=None, feature_types=None,\n",
       "             gamma=None, grow_policy=None, importance_type=None,\n",
       "             interaction_constraints=None, learning_rate=None, max_bin=None,\n",
       "             max_cat_threshold=None, max_cat_to_onehot=None,\n",
       "             max_delta_step=None, max_depth=None, max_leaves=None,\n",
       "             min_child_weight=None, missing=nan, monotone_constraints=None,\n",
       "             multi_strategy=None, n_estimators=None, n_jobs=None,\n",
       "             num_parallel_tree=None, random_state=None, ...)</pre></div></div></div><div class=\"sk-serial\"><div class=\"sk-item\"><div class=\"sk-estimator sk-toggleable\"><input class=\"sk-toggleable__control sk-hidden--visually\" id=\"sk-estimator-id-6\" type=\"checkbox\" ><label for=\"sk-estimator-id-6\" class=\"sk-toggleable__label sk-toggleable__label-arrow\">XGBRegressor</label><div class=\"sk-toggleable__content\"><pre>XGBRegressor(base_score=None, booster=None, callbacks=None,\n",
       "             colsample_bylevel=None, colsample_bynode=None,\n",
       "             colsample_bytree=None, device=None, early_stopping_rounds=None,\n",
       "             enable_categorical=False, eval_metric=None, feature_types=None,\n",
       "             gamma=None, grow_policy=None, importance_type=None,\n",
       "             interaction_constraints=None, learning_rate=None, max_bin=None,\n",
       "             max_cat_threshold=None, max_cat_to_onehot=None,\n",
       "             max_delta_step=None, max_depth=None, max_leaves=None,\n",
       "             min_child_weight=None, missing=nan, monotone_constraints=None,\n",
       "             multi_strategy=None, n_estimators=None, n_jobs=None,\n",
       "             num_parallel_tree=None, random_state=None, ...)</pre></div></div></div></div></div></div></div></div></div></div>"
      ],
      "text/plain": [
       "GridSearchCV(cv=5,\n",
       "             estimator=XGBRegressor(base_score=None, booster=None,\n",
       "                                    callbacks=None, colsample_bylevel=None,\n",
       "                                    colsample_bynode=None,\n",
       "                                    colsample_bytree=None, device=None,\n",
       "                                    early_stopping_rounds=None,\n",
       "                                    enable_categorical=False, eval_metric=None,\n",
       "                                    feature_types=None, gamma=None,\n",
       "                                    grow_policy=None, importance_type=None,\n",
       "                                    interaction_constraints=None,\n",
       "                                    learning_rate=None, m...\n",
       "                                    max_cat_to_onehot=None, max_delta_step=None,\n",
       "                                    max_depth=None, max_leaves=None,\n",
       "                                    min_child_weight=None, missing=nan,\n",
       "                                    monotone_constraints=None,\n",
       "                                    multi_strategy=None, n_estimators=None,\n",
       "                                    n_jobs=None, num_parallel_tree=None,\n",
       "                                    random_state=None, ...),\n",
       "             param_grid={'learning_rate': (0.05, 0.1, 0.15), 'max_depth': [3],\n",
       "                         'min_child_weight': [4], 'n_estimators': [500],\n",
       "                         'subsample': [0.7]},\n",
       "             verbose=True)"
      ]
     },
     "execution_count": 40,
     "metadata": {},
     "output_type": "execute_result"
    }
   ],
   "source": [
    "gs_csv_xgb.fit(X_train_scaled,y_train)"
   ]
  },
  {
   "cell_type": "code",
   "execution_count": 41,
   "id": "76d123f2-37a0-4ca2-8bdc-3db1a3b4f453",
   "metadata": {
    "tags": []
   },
   "outputs": [],
   "source": [
    "xgb_best=gs_csv_xgb.best_estimator_"
   ]
  },
  {
   "cell_type": "code",
   "execution_count": 42,
   "id": "6ac05e19-532f-4dee-9c00-b9c788e0a3ea",
   "metadata": {
    "tags": []
   },
   "outputs": [
    {
     "name": "stdout",
     "output_type": "stream",
     "text": [
      "{'learning_rate': 0.1, 'max_depth': 3, 'min_child_weight': 4, 'n_estimators': 500, 'subsample': 0.7}\n"
     ]
    }
   ],
   "source": [
    "#print(gs_csv.best_estimator)\n",
    "print(gs_csv_xgb.best_params_)"
   ]
  },
  {
   "cell_type": "code",
   "execution_count": 43,
   "id": "cd55371e-8ac3-4b10-a404-59ec02b8a500",
   "metadata": {
    "tags": []
   },
   "outputs": [
    {
     "name": "stdout",
     "output_type": "stream",
     "text": [
      "0.39884812579005907\n"
     ]
    }
   ],
   "source": [
    "print(gs_csv_xgb.best_score_)"
   ]
  },
  {
   "cell_type": "code",
   "execution_count": 44,
   "id": "b455e488-afc5-4a72-8ddc-05500afc58e7",
   "metadata": {
    "tags": []
   },
   "outputs": [],
   "source": [
    "df=pd.DataFrame(gs_csv_xgb.cv_results_)\n",
    "df=df.sort_values(\"rank_test_score\")\n",
    "df.to_csv(\"gs_xgb.csv\")"
   ]
  },
  {
   "cell_type": "code",
   "execution_count": 45,
   "id": "179b46cd-0911-4483-b1d3-1399bf1cdf8c",
   "metadata": {
    "tags": []
   },
   "outputs": [
    {
     "name": "stdout",
     "output_type": "stream",
     "text": [
      "Mean Absolute Error: 3.1948624991814527\n",
      "Mean Squared Error: 18.700686634998632\n",
      "Root Mean Squared Error: 4.324429053065692\n",
      "R2 Score: 0.9461101552158304\n"
     ]
    }
   ],
   "source": [
    "predictions_xgb=xgb_best.predict(X_test_scaled)\n",
    "print('Mean Absolute Error:', metrics.mean_absolute_error(y_test, predictions_xgb))\n",
    "print('Mean Squared Error:', metrics.mean_squared_error(y_test, predictions_xgb))\n",
    "print('Root Mean Squared Error:', np.sqrt(metrics.mean_squared_error(y_test, predictions_xgb)))\n",
    "print('R2 Score:', metrics.r2_score(y_test, predictions_xgb))\n",
    "xgb_r2= round((metrics.r2_score(y_test, predictions_xgb)),4)\n",
    "xgb_mse=round((metrics.mean_squared_error(y_test, predictions_xgb)),4)"
   ]
  },
  {
   "cell_type": "code",
   "execution_count": 46,
   "id": "4746ff29-a355-401d-a0ff-1847646f35b5",
   "metadata": {
    "tags": []
   },
   "outputs": [
    {
     "data": {
      "image/png": "[encoded data removed]",
      "text/plain": [
       "<Figure size 640x480 with 1 Axes>"
      ]
     },
     "metadata": {},
     "output_type": "display_data"
    }
   ],
   "source": [
    "importances_xgb = xgb_best.feature_importances_\n",
    "sorted_index = np.argsort(importances_xgb)[::-1]\n",
    "x_values = range(len(importances_xgb))\n",
    "labels =  X.columns.values.tolist()\n",
    "plt.bar(x_values, importances_xgb[sorted_index], tick_label=labels)\n",
    "plt.xticks(rotation=90)\n",
    "plt.show()"
   ]
  },
  {
   "cell_type": "code",
   "execution_count": 47,
   "id": "299fd5cf-0fb7-4af3-8b5c-325280fb16ae",
   "metadata": {
    "tags": []
   },
   "outputs": [
    {
     "data": {
      "text/plain": [
       "<Axes: xlabel='Date'>"
      ]
     },
     "execution_count": 47,
     "metadata": {},
     "output_type": "execute_result"
    },
    {
     "data": {
      "image/png": "[encoded data removed]",
      "text/plain": [
       "<Figure size 640x480 with 1 Axes>"
      ]
     },
     "metadata": {},
     "output_type": "display_data"
    }
   ],
   "source": [
    "df2=pd.DataFrame({\"Prediction\": predictions_xgb, \"Actual\": y_test})\n",
    "df2.plot()"
   ]
  },
  {
   "cell_type": "code",
   "execution_count": 48,
   "id": "cde8afec-c416-4238-b24b-1633bdb8748b",
   "metadata": {},
   "outputs": [],
   "source": [
    "# actual_price=\n",
    "# total_df=pd.concat("
   ]
  },
  {
   "cell_type": "code",
   "execution_count": 49,
   "id": "0ab35910-a843-470e-99fc-7bda4d5b5114",
   "metadata": {
    "tags": []
   },
   "outputs": [
    {
     "data": {
      "text/html": [
       "<div>\n",
       "<style scoped>\n",
       "    .dataframe tbody tr th:only-of-type {\n",
       "        vertical-align: middle;\n",
       "    }\n",
       "\n",
       "    .dataframe tbody tr th {\n",
       "        vertical-align: top;\n",
       "    }\n",
       "\n",
       "    .dataframe thead th {\n",
       "        text-align: right;\n",
       "    }\n",
       "</style>\n",
       "<table border=\"1\" class=\"dataframe\">\n",
       "  <thead>\n",
       "    <tr style=\"text-align: right;\">\n",
       "      <th></th>\n",
       "      <th>Prediction</th>\n",
       "      <th>Actual</th>\n",
       "    </tr>\n",
       "    <tr>\n",
       "      <th>Date</th>\n",
       "      <th></th>\n",
       "      <th></th>\n",
       "    </tr>\n",
       "  </thead>\n",
       "  <tbody>\n",
       "    <tr>\n",
       "      <th>2024-02-22</th>\n",
       "      <td>151.968842</td>\n",
       "      <td>151.479996</td>\n",
       "    </tr>\n",
       "    <tr>\n",
       "      <th>2024-02-23</th>\n",
       "      <td>153.041656</td>\n",
       "      <td>150.149994</td>\n",
       "    </tr>\n",
       "    <tr>\n",
       "      <th>2024-02-26</th>\n",
       "      <td>151.560928</td>\n",
       "      <td>151.990005</td>\n",
       "    </tr>\n",
       "    <tr>\n",
       "      <th>2024-02-27</th>\n",
       "      <td>151.774155</td>\n",
       "      <td>151.440002</td>\n",
       "    </tr>\n",
       "    <tr>\n",
       "      <th>2024-02-28</th>\n",
       "      <td>151.768829</td>\n",
       "      <td>152.919998</td>\n",
       "    </tr>\n",
       "  </tbody>\n",
       "</table>\n",
       "</div>"
      ],
      "text/plain": [
       "            Prediction      Actual\n",
       "Date                              \n",
       "2024-02-22  151.968842  151.479996\n",
       "2024-02-23  153.041656  150.149994\n",
       "2024-02-26  151.560928  151.990005\n",
       "2024-02-27  151.774155  151.440002\n",
       "2024-02-28  151.768829  152.919998"
      ]
     },
     "execution_count": 49,
     "metadata": {},
     "output_type": "execute_result"
    }
   ],
   "source": [
    "df2.tail()"
   ]
  },
  {
   "cell_type": "markdown",
   "id": "f2b9156f-cf3e-4914-ad82-20f6bbadacac",
   "metadata": {},
   "source": [
    "## GradientBoost Regression"
   ]
  },
  {
   "cell_type": "code",
   "execution_count": 50,
   "id": "0a628d66-df35-4746-9151-ec66956285af",
   "metadata": {
    "tags": []
   },
   "outputs": [],
   "source": [
    "gb_model= GradientBoostingRegressor()\n",
    "param_grid_gb= {'alpha':[0.05],\n",
    "                        \"max_depth\": [3],\n",
    "                        \"learning_rate\": [0.15],\n",
    "                        'subsample': [0.7],\n",
    "                        \"n_estimators\": [500]}\n",
    "\n",
    "\n",
    "# {'alpha':[0.05,0.1,0.3,1,3,5,10],\n",
    "#                         \"max_depth\": [3],\n",
    "#                         \"learning_rate\": (0.05, 0.10, 0.15),\n",
    "#                         'subsample': [0.7],\n",
    "#                         \"n_estimators\": [500]}\n",
    "           "
   ]
  },
  {
   "cell_type": "code",
   "execution_count": 51,
   "id": "aaaeda9c-253b-435c-8def-595857d86eee",
   "metadata": {
    "tags": []
   },
   "outputs": [],
   "source": [
    "gs_csv_gb=GridSearchCV(estimator=gb_model,\n",
    "                    param_grid=param_grid_gb,\n",
    "                    scoring=[\"r2\"],\n",
    "                    refit=\"r2\",\n",
    "                    cv=5,\n",
    "                    verbose=True)\n",
    "                    "
   ]
  },
  {
   "cell_type": "code",
   "execution_count": 52,
   "id": "96eeb236-53e0-4acb-afda-d4bd665c89e3",
   "metadata": {
    "tags": []
   },
   "outputs": [
    {
     "name": "stdout",
     "output_type": "stream",
     "text": [
      "Fitting 5 folds for each of 1 candidates, totalling 5 fits\n"
     ]
    },
    {
     "data": {
      "text/html": [
       "<style>#sk-container-id-3 {color: black;}#sk-container-id-3 pre{padding: 0;}#sk-container-id-3 div.sk-toggleable {background-color: white;}#sk-container-id-3 label.sk-toggleable__label {cursor: pointer;display: block;width: 100%;margin-bottom: 0;padding: 0.3em;box-sizing: border-box;text-align: center;}#sk-container-id-3 label.sk-toggleable__label-arrow:before {content: \"▸\";float: left;margin-right: 0.25em;color: #696969;}#sk-container-id-3 label.sk-toggleable__label-arrow:hover:before {color: black;}#sk-container-id-3 div.sk-estimator:hover label.sk-toggleable__label-arrow:before {color: black;}#sk-container-id-3 div.sk-toggleable__content {max-height: 0;max-width: 0;overflow: hidden;text-align: left;background-color: #f0f8ff;}#sk-container-id-3 div.sk-toggleable__content pre {margin: 0.2em;color: black;border-radius: 0.25em;background-color: #f0f8ff;}#sk-container-id-3 input.sk-toggleable__control:checked~div.sk-toggleable__content {max-height: 200px;max-width: 100%;overflow: auto;}#sk-container-id-3 input.sk-toggleable__control:checked~label.sk-toggleable__label-arrow:before {content: \"▾\";}#sk-container-id-3 div.sk-estimator input.sk-toggleable__control:checked~label.sk-toggleable__label {background-color: #d4ebff;}#sk-container-id-3 div.sk-label input.sk-toggleable__control:checked~label.sk-toggleable__label {background-color: #d4ebff;}#sk-container-id-3 input.sk-hidden--visually {border: 0;clip: rect(1px 1px 1px 1px);clip: rect(1px, 1px, 1px, 1px);height: 1px;margin: -1px;overflow: hidden;padding: 0;position: absolute;width: 1px;}#sk-container-id-3 div.sk-estimator {font-family: monospace;background-color: #f0f8ff;border: 1px dotted black;border-radius: 0.25em;box-sizing: border-box;margin-bottom: 0.5em;}#sk-container-id-3 div.sk-estimator:hover {background-color: #d4ebff;}#sk-container-id-3 div.sk-parallel-item::after {content: \"\";width: 100%;border-bottom: 1px solid gray;flex-grow: 1;}#sk-container-id-3 div.sk-label:hover label.sk-toggleable__label {background-color: #d4ebff;}#sk-container-id-3 div.sk-serial::before {content: \"\";position: absolute;border-left: 1px solid gray;box-sizing: border-box;top: 0;bottom: 0;left: 50%;z-index: 0;}#sk-container-id-3 div.sk-serial {display: flex;flex-direction: column;align-items: center;background-color: white;padding-right: 0.2em;padding-left: 0.2em;position: relative;}#sk-container-id-3 div.sk-item {position: relative;z-index: 1;}#sk-container-id-3 div.sk-parallel {display: flex;align-items: stretch;justify-content: center;background-color: white;position: relative;}#sk-container-id-3 div.sk-item::before, #sk-container-id-3 div.sk-parallel-item::before {content: \"\";position: absolute;border-left: 1px solid gray;box-sizing: border-box;top: 0;bottom: 0;left: 50%;z-index: -1;}#sk-container-id-3 div.sk-parallel-item {display: flex;flex-direction: column;z-index: 1;position: relative;background-color: white;}#sk-container-id-3 div.sk-parallel-item:first-child::after {align-self: flex-end;width: 50%;}#sk-container-id-3 div.sk-parallel-item:last-child::after {align-self: flex-start;width: 50%;}#sk-container-id-3 div.sk-parallel-item:only-child::after {width: 0;}#sk-container-id-3 div.sk-dashed-wrapped {border: 1px dashed gray;margin: 0 0.4em 0.5em 0.4em;box-sizing: border-box;padding-bottom: 0.4em;background-color: white;}#sk-container-id-3 div.sk-label label {font-family: monospace;font-weight: bold;display: inline-block;line-height: 1.2em;}#sk-container-id-3 div.sk-label-container {text-align: center;}#sk-container-id-3 div.sk-container {/* jupyter's `normalize.less` sets `[hidden] { display: none; }` but bootstrap.min.css set `[hidden] { display: none !important; }` so we also need the `!important` here to be able to override the default hidden behavior on the sphinx rendered scikit-learn.org. See: https://github.com/scikit-learn/scikit-learn/issues/21755 */display: inline-block !important;position: relative;}#sk-container-id-3 div.sk-text-repr-fallback {display: none;}</style><div id=\"sk-container-id-3\" class=\"sk-top-container\"><div class=\"sk-text-repr-fallback\"><pre>GridSearchCV(cv=5, estimator=GradientBoostingRegressor(),\n",
       "             param_grid={&#x27;alpha&#x27;: [0.05], &#x27;learning_rate&#x27;: [0.15],\n",
       "                         &#x27;max_depth&#x27;: [3], &#x27;n_estimators&#x27;: [500],\n",
       "                         &#x27;subsample&#x27;: [0.7]},\n",
       "             refit=&#x27;r2&#x27;, scoring=[&#x27;r2&#x27;], verbose=True)</pre><b>In a Jupyter environment, please rerun this cell to show the HTML representation or trust the notebook. <br />On GitHub, the HTML representation is unable to render, please try loading this page with nbviewer.org.</b></div><div class=\"sk-container\" hidden><div class=\"sk-item sk-dashed-wrapped\"><div class=\"sk-label-container\"><div class=\"sk-label sk-toggleable\"><input class=\"sk-toggleable__control sk-hidden--visually\" id=\"sk-estimator-id-7\" type=\"checkbox\" ><label for=\"sk-estimator-id-7\" class=\"sk-toggleable__label sk-toggleable__label-arrow\">GridSearchCV</label><div class=\"sk-toggleable__content\"><pre>GridSearchCV(cv=5, estimator=GradientBoostingRegressor(),\n",
       "             param_grid={&#x27;alpha&#x27;: [0.05], &#x27;learning_rate&#x27;: [0.15],\n",
       "                         &#x27;max_depth&#x27;: [3], &#x27;n_estimators&#x27;: [500],\n",
       "                         &#x27;subsample&#x27;: [0.7]},\n",
       "             refit=&#x27;r2&#x27;, scoring=[&#x27;r2&#x27;], verbose=True)</pre></div></div></div><div class=\"sk-parallel\"><div class=\"sk-parallel-item\"><div class=\"sk-item\"><div class=\"sk-label-container\"><div class=\"sk-label sk-toggleable\"><input class=\"sk-toggleable__control sk-hidden--visually\" id=\"sk-estimator-id-8\" type=\"checkbox\" ><label for=\"sk-estimator-id-8\" class=\"sk-toggleable__label sk-toggleable__label-arrow\">estimator: GradientBoostingRegressor</label><div class=\"sk-toggleable__content\"><pre>GradientBoostingRegressor()</pre></div></div></div><div class=\"sk-serial\"><div class=\"sk-item\"><div class=\"sk-estimator sk-toggleable\"><input class=\"sk-toggleable__control sk-hidden--visually\" id=\"sk-estimator-id-9\" type=\"checkbox\" ><label for=\"sk-estimator-id-9\" class=\"sk-toggleable__label sk-toggleable__label-arrow\">GradientBoostingRegressor</label><div class=\"sk-toggleable__content\"><pre>GradientBoostingRegressor()</pre></div></div></div></div></div></div></div></div></div></div>"
      ],
      "text/plain": [
       "GridSearchCV(cv=5, estimator=GradientBoostingRegressor(),\n",
       "             param_grid={'alpha': [0.05], 'learning_rate': [0.15],\n",
       "                         'max_depth': [3], 'n_estimators': [500],\n",
       "                         'subsample': [0.7]},\n",
       "             refit='r2', scoring=['r2'], verbose=True)"
      ]
     },
     "execution_count": 52,
     "metadata": {},
     "output_type": "execute_result"
    }
   ],
   "source": [
    "gs_csv_gb.fit(X_train_scaled,y_train)"
   ]
  },
  {
   "cell_type": "code",
   "execution_count": 53,
   "id": "35e8c37c-06ac-4459-9d3d-6abce1de8a10",
   "metadata": {
    "tags": []
   },
   "outputs": [],
   "source": [
    "gb_best=gs_csv_gb.best_estimator_"
   ]
  },
  {
   "cell_type": "code",
   "execution_count": 54,
   "id": "bd17d661-68d6-4749-9ac5-abff7ef0dc68",
   "metadata": {
    "tags": []
   },
   "outputs": [
    {
     "name": "stdout",
     "output_type": "stream",
     "text": [
      "{'alpha': 0.05, 'learning_rate': 0.15, 'max_depth': 3, 'n_estimators': 500, 'subsample': 0.7}\n"
     ]
    }
   ],
   "source": [
    "#print(gs_csv.best_estimator)\n",
    "print(gs_csv_gb.best_params_)"
   ]
  },
  {
   "cell_type": "code",
   "execution_count": 55,
   "id": "e109237b-acd8-43b0-b750-32889e4ea8ee",
   "metadata": {
    "tags": []
   },
   "outputs": [
    {
     "name": "stdout",
     "output_type": "stream",
     "text": [
      "Mean Absolute Error: 6.310682635949791\n",
      "Mean Squared Error: 61.31187251001244\n",
      "Root Mean Squared Error: 7.830189813153474\n",
      "R2 Score: 0.8233173274607088\n"
     ]
    }
   ],
   "source": [
    "predictions_gb=gb_best.predict(X_test_scaled)\n",
    "print('Mean Absolute Error:', metrics.mean_absolute_error(y_test, predictions_gb))\n",
    "print('Mean Squared Error:', metrics.mean_squared_error(y_test, predictions_gb))\n",
    "print('Root Mean Squared Error:', np.sqrt(metrics.mean_squared_error(y_test, predictions_gb)))\n",
    "print('R2 Score:', metrics.r2_score(y_test, predictions_gb))\n",
    "gb_r2= round((metrics.r2_score(y_test, predictions_gb)),4)\n",
    "gb_mse=round((metrics.mean_squared_error(y_test, predictions_gb)),4)"
   ]
  },
  {
   "cell_type": "code",
   "execution_count": 56,
   "id": "a7983739-6f7d-4e32-9dd8-375efde5136c",
   "metadata": {
    "tags": []
   },
   "outputs": [
    {
     "data": {
      "text/plain": [
       "<Axes: xlabel='Date'>"
      ]
     },
     "execution_count": 56,
     "metadata": {},
     "output_type": "execute_result"
    },
    {
     "data": {
      "image/png": "[encoded data removed]",
      "text/plain": [
       "<Figure size 640x480 with 1 Axes>"
      ]
     },
     "metadata": {},
     "output_type": "display_data"
    }
   ],
   "source": [
    "df3=pd.DataFrame({\"Prediction\": predictions_gb, \"Actual\": y_test})\n",
    "df3.plot()"
   ]
  },
  {
   "cell_type": "markdown",
   "id": "910bd75d-a42a-4265-9429-25afe116c342",
   "metadata": {},
   "source": [
    "## LinearRegression"
   ]
  },
  {
   "cell_type": "code",
   "execution_count": 57,
   "id": "6f414084-a83b-4d57-88f0-82958b94ce32",
   "metadata": {
    "tags": []
   },
   "outputs": [],
   "source": [
    "\n",
    "lr_model= LinearRegression()\n"
   ]
  },
  {
   "cell_type": "code",
   "execution_count": 58,
   "id": "80d89d07-89bc-4cba-bbf2-583c727e7897",
   "metadata": {
    "tags": []
   },
   "outputs": [],
   "source": [
    "param_grid_lrm= {'fit_intercept': [True, False], 'positive': [True, False]}\n",
    "           "
   ]
  },
  {
   "cell_type": "code",
   "execution_count": 59,
   "id": "f193d4fd-c6c1-4cb2-a700-08d7f1e58080",
   "metadata": {
    "tags": []
   },
   "outputs": [],
   "source": [
    "gs_csv_lrm=GridSearchCV(estimator=lr_model,\n",
    "                    param_grid=param_grid_lrm,\n",
    "                    scoring='neg_mean_squared_error',\n",
    "                    cv=5,\n",
    "                    verbose=True)\n",
    "                    \n",
    "                    "
   ]
  },
  {
   "cell_type": "code",
   "execution_count": 60,
   "id": "01d51982-126f-4d55-86b1-b0e5b7811ead",
   "metadata": {
    "tags": []
   },
   "outputs": [
    {
     "name": "stdout",
     "output_type": "stream",
     "text": [
      "Fitting 5 folds for each of 4 candidates, totalling 20 fits\n"
     ]
    },
    {
     "data": {
      "text/html": [
       "<style>#sk-container-id-4 {color: black;}#sk-container-id-4 pre{padding: 0;}#sk-container-id-4 div.sk-toggleable {background-color: white;}#sk-container-id-4 label.sk-toggleable__label {cursor: pointer;display: block;width: 100%;margin-bottom: 0;padding: 0.3em;box-sizing: border-box;text-align: center;}#sk-container-id-4 label.sk-toggleable__label-arrow:before {content: \"▸\";float: left;margin-right: 0.25em;color: #696969;}#sk-container-id-4 label.sk-toggleable__label-arrow:hover:before {color: black;}#sk-container-id-4 div.sk-estimator:hover label.sk-toggleable__label-arrow:before {color: black;}#sk-container-id-4 div.sk-toggleable__content {max-height: 0;max-width: 0;overflow: hidden;text-align: left;background-color: #f0f8ff;}#sk-container-id-4 div.sk-toggleable__content pre {margin: 0.2em;color: black;border-radius: 0.25em;background-color: #f0f8ff;}#sk-container-id-4 input.sk-toggleable__control:checked~div.sk-toggleable__content {max-height: 200px;max-width: 100%;overflow: auto;}#sk-container-id-4 input.sk-toggleable__control:checked~label.sk-toggleable__label-arrow:before {content: \"▾\";}#sk-container-id-4 div.sk-estimator input.sk-toggleable__control:checked~label.sk-toggleable__label {background-color: #d4ebff;}#sk-container-id-4 div.sk-label input.sk-toggleable__control:checked~label.sk-toggleable__label {background-color: #d4ebff;}#sk-container-id-4 input.sk-hidden--visually {border: 0;clip: rect(1px 1px 1px 1px);clip: rect(1px, 1px, 1px, 1px);height: 1px;margin: -1px;overflow: hidden;padding: 0;position: absolute;width: 1px;}#sk-container-id-4 div.sk-estimator {font-family: monospace;background-color: #f0f8ff;border: 1px dotted black;border-radius: 0.25em;box-sizing: border-box;margin-bottom: 0.5em;}#sk-container-id-4 div.sk-estimator:hover {background-color: #d4ebff;}#sk-container-id-4 div.sk-parallel-item::after {content: \"\";width: 100%;border-bottom: 1px solid gray;flex-grow: 1;}#sk-container-id-4 div.sk-label:hover label.sk-toggleable__label {background-color: #d4ebff;}#sk-container-id-4 div.sk-serial::before {content: \"\";position: absolute;border-left: 1px solid gray;box-sizing: border-box;top: 0;bottom: 0;left: 50%;z-index: 0;}#sk-container-id-4 div.sk-serial {display: flex;flex-direction: column;align-items: center;background-color: white;padding-right: 0.2em;padding-left: 0.2em;position: relative;}#sk-container-id-4 div.sk-item {position: relative;z-index: 1;}#sk-container-id-4 div.sk-parallel {display: flex;align-items: stretch;justify-content: center;background-color: white;position: relative;}#sk-container-id-4 div.sk-item::before, #sk-container-id-4 div.sk-parallel-item::before {content: \"\";position: absolute;border-left: 1px solid gray;box-sizing: border-box;top: 0;bottom: 0;left: 50%;z-index: -1;}#sk-container-id-4 div.sk-parallel-item {display: flex;flex-direction: column;z-index: 1;position: relative;background-color: white;}#sk-container-id-4 div.sk-parallel-item:first-child::after {align-self: flex-end;width: 50%;}#sk-container-id-4 div.sk-parallel-item:last-child::after {align-self: flex-start;width: 50%;}#sk-container-id-4 div.sk-parallel-item:only-child::after {width: 0;}#sk-container-id-4 div.sk-dashed-wrapped {border: 1px dashed gray;margin: 0 0.4em 0.5em 0.4em;box-sizing: border-box;padding-bottom: 0.4em;background-color: white;}#sk-container-id-4 div.sk-label label {font-family: monospace;font-weight: bold;display: inline-block;line-height: 1.2em;}#sk-container-id-4 div.sk-label-container {text-align: center;}#sk-container-id-4 div.sk-container {/* jupyter's `normalize.less` sets `[hidden] { display: none; }` but bootstrap.min.css set `[hidden] { display: none !important; }` so we also need the `!important` here to be able to override the default hidden behavior on the sphinx rendered scikit-learn.org. See: https://github.com/scikit-learn/scikit-learn/issues/21755 */display: inline-block !important;position: relative;}#sk-container-id-4 div.sk-text-repr-fallback {display: none;}</style><div id=\"sk-container-id-4\" class=\"sk-top-container\"><div class=\"sk-text-repr-fallback\"><pre>GridSearchCV(cv=5, estimator=LinearRegression(),\n",
       "             param_grid={&#x27;fit_intercept&#x27;: [True, False],\n",
       "                         &#x27;positive&#x27;: [True, False]},\n",
       "             scoring=&#x27;neg_mean_squared_error&#x27;, verbose=True)</pre><b>In a Jupyter environment, please rerun this cell to show the HTML representation or trust the notebook. <br />On GitHub, the HTML representation is unable to render, please try loading this page with nbviewer.org.</b></div><div class=\"sk-container\" hidden><div class=\"sk-item sk-dashed-wrapped\"><div class=\"sk-label-container\"><div class=\"sk-label sk-toggleable\"><input class=\"sk-toggleable__control sk-hidden--visually\" id=\"sk-estimator-id-10\" type=\"checkbox\" ><label for=\"sk-estimator-id-10\" class=\"sk-toggleable__label sk-toggleable__label-arrow\">GridSearchCV</label><div class=\"sk-toggleable__content\"><pre>GridSearchCV(cv=5, estimator=LinearRegression(),\n",
       "             param_grid={&#x27;fit_intercept&#x27;: [True, False],\n",
       "                         &#x27;positive&#x27;: [True, False]},\n",
       "             scoring=&#x27;neg_mean_squared_error&#x27;, verbose=True)</pre></div></div></div><div class=\"sk-parallel\"><div class=\"sk-parallel-item\"><div class=\"sk-item\"><div class=\"sk-label-container\"><div class=\"sk-label sk-toggleable\"><input class=\"sk-toggleable__control sk-hidden--visually\" id=\"sk-estimator-id-11\" type=\"checkbox\" ><label for=\"sk-estimator-id-11\" class=\"sk-toggleable__label sk-toggleable__label-arrow\">estimator: LinearRegression</label><div class=\"sk-toggleable__content\"><pre>LinearRegression()</pre></div></div></div><div class=\"sk-serial\"><div class=\"sk-item\"><div class=\"sk-estimator sk-toggleable\"><input class=\"sk-toggleable__control sk-hidden--visually\" id=\"sk-estimator-id-12\" type=\"checkbox\" ><label for=\"sk-estimator-id-12\" class=\"sk-toggleable__label sk-toggleable__label-arrow\">LinearRegression</label><div class=\"sk-toggleable__content\"><pre>LinearRegression()</pre></div></div></div></div></div></div></div></div></div></div>"
      ],
      "text/plain": [
       "GridSearchCV(cv=5, estimator=LinearRegression(),\n",
       "             param_grid={'fit_intercept': [True, False],\n",
       "                         'positive': [True, False]},\n",
       "             scoring='neg_mean_squared_error', verbose=True)"
      ]
     },
     "execution_count": 60,
     "metadata": {},
     "output_type": "execute_result"
    }
   ],
   "source": [
    "gs_csv_lrm.fit(X_train_scaled,y_train)"
   ]
  },
  {
   "cell_type": "code",
   "execution_count": 61,
   "id": "f041b123-4e51-4a8a-bf2d-cdbef173309d",
   "metadata": {
    "tags": []
   },
   "outputs": [],
   "source": [
    "lrm_best=gs_csv_lrm.best_estimator_"
   ]
  },
  {
   "cell_type": "code",
   "execution_count": 62,
   "id": "1cbe7144-15bb-4b28-93c5-0038f50a2792",
   "metadata": {
    "tags": []
   },
   "outputs": [
    {
     "name": "stdout",
     "output_type": "stream",
     "text": [
      "{'fit_intercept': True, 'positive': False}\n"
     ]
    }
   ],
   "source": [
    "#print(gs_csv.best_estimator)\n",
    "print(gs_csv_lrm.best_params_)"
   ]
  },
  {
   "cell_type": "code",
   "execution_count": 63,
   "id": "274c9e33-60cb-44a4-81f7-6178f7aa6dc6",
   "metadata": {
    "tags": []
   },
   "outputs": [
    {
     "name": "stdout",
     "output_type": "stream",
     "text": [
      "-6.486129274602052\n"
     ]
    }
   ],
   "source": [
    "print(gs_csv_lrm.best_score_)"
   ]
  },
  {
   "cell_type": "code",
   "execution_count": 64,
   "id": "1da9b368-6e54-431d-abc9-09dae5313311",
   "metadata": {
    "tags": []
   },
   "outputs": [],
   "source": [
    "df=pd.DataFrame(gs_csv_lrm.cv_results_)\n",
    "df=df.sort_values(\"rank_test_score\")\n",
    "df.to_csv(\"gs_lrm.csv\")"
   ]
  },
  {
   "cell_type": "code",
   "execution_count": 65,
   "id": "7d4385ea-97ee-40c0-bc0b-fad5c78d9de1",
   "metadata": {
    "tags": []
   },
   "outputs": [
    {
     "name": "stdout",
     "output_type": "stream",
     "text": [
      "Mean Absolute Error: 2.328338055456379\n",
      "Mean Squared Error: 11.530912389668375\n",
      "Root Mean Squared Error: 3.3957197160054853\n",
      "R2 Score: 0.966771322838161\n"
     ]
    }
   ],
   "source": [
    "predictions_lrm=lrm_best.predict(X_test_scaled)\n",
    "print('Mean Absolute Error:', metrics.mean_absolute_error(y_test, predictions_lrm))\n",
    "print('Mean Squared Error:', metrics.mean_squared_error(y_test, predictions_lrm))\n",
    "print('Root Mean Squared Error:', np.sqrt(metrics.mean_squared_error(y_test, predictions_lrm)))\n",
    "print('R2 Score:', metrics.r2_score(y_test, predictions_lrm))\n",
    "lrm_r2= round((metrics.r2_score(y_test, predictions_lrm)),4)\n",
    "lrm_mse=round((metrics.mean_squared_error(y_test, predictions_lrm)),4)"
   ]
  },
  {
   "cell_type": "code",
   "execution_count": null,
   "id": "a1ae0f91-f33d-4b9a-8857-5e988f18e011",
   "metadata": {
    "tags": []
   },
   "outputs": [],
   "source": []
  },
  {
   "cell_type": "code",
   "execution_count": 66,
   "id": "45df8f22-431e-455f-8f6d-358de1a31d8b",
   "metadata": {
    "tags": []
   },
   "outputs": [
    {
     "data": {
      "text/plain": [
       "<Axes: xlabel='Date'>"
      ]
     },
     "execution_count": 66,
     "metadata": {},
     "output_type": "execute_result"
    },
    {
     "data": {
      "image/png": "[encoded data removed]",
      "text/plain": [
       "<Figure size 640x480 with 1 Axes>"
      ]
     },
     "metadata": {},
     "output_type": "display_data"
    }
   ],
   "source": [
    "df4=pd.DataFrame({\"Prediction\": predictions_lrm, \"Actual\": y_test})\n",
    "df4.plot()"
   ]
  },
  {
   "cell_type": "markdown",
   "id": "c6ac8329-c51e-4f20-8699-af70b7352213",
   "metadata": {},
   "source": [
    "## Ridge"
   ]
  },
  {
   "cell_type": "code",
   "execution_count": 67,
   "id": "b31bc919-7230-47fc-a6b5-a5c8eb2d3fb6",
   "metadata": {},
   "outputs": [],
   "source": [
    "ridge_model= Ridge()\n",
    "param_grid_ridge= {'alpha':[0.05,0.1,0.3,1,3,5,10]}\n",
    "                   "
   ]
  },
  {
   "cell_type": "code",
   "execution_count": 68,
   "id": "8cff026d-95c2-4bef-b775-68decff44d76",
   "metadata": {},
   "outputs": [],
   "source": [
    "gs_csv_ridge=GridSearchCV(estimator=ridge_model,\n",
    "                    param_grid=param_grid_ridge,\n",
    "                    scoring='neg_mean_squared_error',\n",
    "                    cv=5,\n",
    "                    verbose=True)"
   ]
  },
  {
   "cell_type": "code",
   "execution_count": 69,
   "id": "ef70f392-f0cd-4da7-aaf0-2d880a095542",
   "metadata": {},
   "outputs": [
    {
     "name": "stdout",
     "output_type": "stream",
     "text": [
      "Fitting 5 folds for each of 7 candidates, totalling 35 fits\n"
     ]
    },
    {
     "data": {
      "text/html": [
       "<style>#sk-container-id-5 {color: black;}#sk-container-id-5 pre{padding: 0;}#sk-container-id-5 div.sk-toggleable {background-color: white;}#sk-container-id-5 label.sk-toggleable__label {cursor: pointer;display: block;width: 100%;margin-bottom: 0;padding: 0.3em;box-sizing: border-box;text-align: center;}#sk-container-id-5 label.sk-toggleable__label-arrow:before {content: \"▸\";float: left;margin-right: 0.25em;color: #696969;}#sk-container-id-5 label.sk-toggleable__label-arrow:hover:before {color: black;}#sk-container-id-5 div.sk-estimator:hover label.sk-toggleable__label-arrow:before {color: black;}#sk-container-id-5 div.sk-toggleable__content {max-height: 0;max-width: 0;overflow: hidden;text-align: left;background-color: #f0f8ff;}#sk-container-id-5 div.sk-toggleable__content pre {margin: 0.2em;color: black;border-radius: 0.25em;background-color: #f0f8ff;}#sk-container-id-5 input.sk-toggleable__control:checked~div.sk-toggleable__content {max-height: 200px;max-width: 100%;overflow: auto;}#sk-container-id-5 input.sk-toggleable__control:checked~label.sk-toggleable__label-arrow:before {content: \"▾\";}#sk-container-id-5 div.sk-estimator input.sk-toggleable__control:checked~label.sk-toggleable__label {background-color: #d4ebff;}#sk-container-id-5 div.sk-label input.sk-toggleable__control:checked~label.sk-toggleable__label {background-color: #d4ebff;}#sk-container-id-5 input.sk-hidden--visually {border: 0;clip: rect(1px 1px 1px 1px);clip: rect(1px, 1px, 1px, 1px);height: 1px;margin: -1px;overflow: hidden;padding: 0;position: absolute;width: 1px;}#sk-container-id-5 div.sk-estimator {font-family: monospace;background-color: #f0f8ff;border: 1px dotted black;border-radius: 0.25em;box-sizing: border-box;margin-bottom: 0.5em;}#sk-container-id-5 div.sk-estimator:hover {background-color: #d4ebff;}#sk-container-id-5 div.sk-parallel-item::after {content: \"\";width: 100%;border-bottom: 1px solid gray;flex-grow: 1;}#sk-container-id-5 div.sk-label:hover label.sk-toggleable__label {background-color: #d4ebff;}#sk-container-id-5 div.sk-serial::before {content: \"\";position: absolute;border-left: 1px solid gray;box-sizing: border-box;top: 0;bottom: 0;left: 50%;z-index: 0;}#sk-container-id-5 div.sk-serial {display: flex;flex-direction: column;align-items: center;background-color: white;padding-right: 0.2em;padding-left: 0.2em;position: relative;}#sk-container-id-5 div.sk-item {position: relative;z-index: 1;}#sk-container-id-5 div.sk-parallel {display: flex;align-items: stretch;justify-content: center;background-color: white;position: relative;}#sk-container-id-5 div.sk-item::before, #sk-container-id-5 div.sk-parallel-item::before {content: \"\";position: absolute;border-left: 1px solid gray;box-sizing: border-box;top: 0;bottom: 0;left: 50%;z-index: -1;}#sk-container-id-5 div.sk-parallel-item {display: flex;flex-direction: column;z-index: 1;position: relative;background-color: white;}#sk-container-id-5 div.sk-parallel-item:first-child::after {align-self: flex-end;width: 50%;}#sk-container-id-5 div.sk-parallel-item:last-child::after {align-self: flex-start;width: 50%;}#sk-container-id-5 div.sk-parallel-item:only-child::after {width: 0;}#sk-container-id-5 div.sk-dashed-wrapped {border: 1px dashed gray;margin: 0 0.4em 0.5em 0.4em;box-sizing: border-box;padding-bottom: 0.4em;background-color: white;}#sk-container-id-5 div.sk-label label {font-family: monospace;font-weight: bold;display: inline-block;line-height: 1.2em;}#sk-container-id-5 div.sk-label-container {text-align: center;}#sk-container-id-5 div.sk-container {/* jupyter's `normalize.less` sets `[hidden] { display: none; }` but bootstrap.min.css set `[hidden] { display: none !important; }` so we also need the `!important` here to be able to override the default hidden behavior on the sphinx rendered scikit-learn.org. See: https://github.com/scikit-learn/scikit-learn/issues/21755 */display: inline-block !important;position: relative;}#sk-container-id-5 div.sk-text-repr-fallback {display: none;}</style><div id=\"sk-container-id-5\" class=\"sk-top-container\"><div class=\"sk-text-repr-fallback\"><pre>GridSearchCV(cv=5, estimator=Ridge(),\n",
       "             param_grid={&#x27;alpha&#x27;: [0.05, 0.1, 0.3, 1, 3, 5, 10]},\n",
       "             scoring=&#x27;neg_mean_squared_error&#x27;, verbose=True)</pre><b>In a Jupyter environment, please rerun this cell to show the HTML representation or trust the notebook. <br />On GitHub, the HTML representation is unable to render, please try loading this page with nbviewer.org.</b></div><div class=\"sk-container\" hidden><div class=\"sk-item sk-dashed-wrapped\"><div class=\"sk-label-container\"><div class=\"sk-label sk-toggleable\"><input class=\"sk-toggleable__control sk-hidden--visually\" id=\"sk-estimator-id-13\" type=\"checkbox\" ><label for=\"sk-estimator-id-13\" class=\"sk-toggleable__label sk-toggleable__label-arrow\">GridSearchCV</label><div class=\"sk-toggleable__content\"><pre>GridSearchCV(cv=5, estimator=Ridge(),\n",
       "             param_grid={&#x27;alpha&#x27;: [0.05, 0.1, 0.3, 1, 3, 5, 10]},\n",
       "             scoring=&#x27;neg_mean_squared_error&#x27;, verbose=True)</pre></div></div></div><div class=\"sk-parallel\"><div class=\"sk-parallel-item\"><div class=\"sk-item\"><div class=\"sk-label-container\"><div class=\"sk-label sk-toggleable\"><input class=\"sk-toggleable__control sk-hidden--visually\" id=\"sk-estimator-id-14\" type=\"checkbox\" ><label for=\"sk-estimator-id-14\" class=\"sk-toggleable__label sk-toggleable__label-arrow\">estimator: Ridge</label><div class=\"sk-toggleable__content\"><pre>Ridge()</pre></div></div></div><div class=\"sk-serial\"><div class=\"sk-item\"><div class=\"sk-estimator sk-toggleable\"><input class=\"sk-toggleable__control sk-hidden--visually\" id=\"sk-estimator-id-15\" type=\"checkbox\" ><label for=\"sk-estimator-id-15\" class=\"sk-toggleable__label sk-toggleable__label-arrow\">Ridge</label><div class=\"sk-toggleable__content\"><pre>Ridge()</pre></div></div></div></div></div></div></div></div></div></div>"
      ],
      "text/plain": [
       "GridSearchCV(cv=5, estimator=Ridge(),\n",
       "             param_grid={'alpha': [0.05, 0.1, 0.3, 1, 3, 5, 10]},\n",
       "             scoring='neg_mean_squared_error', verbose=True)"
      ]
     },
     "execution_count": 69,
     "metadata": {},
     "output_type": "execute_result"
    }
   ],
   "source": [
    "gs_csv_ridge.fit(X_train_scaled,y_train)"
   ]
  },
  {
   "cell_type": "code",
   "execution_count": 70,
   "id": "6c4a293c-8249-4aa9-9adf-502959483190",
   "metadata": {},
   "outputs": [],
   "source": [
    "ridge_best=gs_csv_ridge.best_estimator_"
   ]
  },
  {
   "cell_type": "raw",
   "id": "bf616664-93c7-4334-ac80-017d2eca4d2e",
   "metadata": {},
   "source": [
    "print(gs_csv_ridge.best_score_)"
   ]
  },
  {
   "cell_type": "code",
   "execution_count": 71,
   "id": "f8be860d-bfcf-4035-98ff-c30dd4250a3d",
   "metadata": {},
   "outputs": [
    {
     "name": "stdout",
     "output_type": "stream",
     "text": [
      "Mean Absolute Error: 2.387076310495039\n",
      "Mean Squared Error: 11.710303773536225\n",
      "Root Mean Squared Error: 3.422032111704422\n",
      "R2 Score: 0.9662543699571816\n"
     ]
    }
   ],
   "source": [
    "predictions_ridge=ridge_best.predict(X_test_scaled)\n",
    "print('Mean Absolute Error:', metrics.mean_absolute_error(y_test, predictions_ridge))\n",
    "print('Mean Squared Error:', metrics.mean_squared_error(y_test, predictions_ridge))\n",
    "print('Root Mean Squared Error:', np.sqrt(metrics.mean_squared_error(y_test, predictions_ridge)))\n",
    "print('R2 Score:', metrics.r2_score(y_test, predictions_ridge))\n",
    "ridge_r2= round((metrics.r2_score(y_test, predictions_ridge)),4)\n",
    "ridge_mse=round((metrics.mean_squared_error(y_test, predictions_ridge)),4)"
   ]
  },
  {
   "cell_type": "code",
   "execution_count": 72,
   "id": "ebf00e20-e58c-4cb0-9623-1afc3f483b4f",
   "metadata": {},
   "outputs": [],
   "source": [
    "# importances_ridge = ridge_best.feature_importances_\n",
    "# sorted_index = np.argsort(importances_ridge)[::-1]\n",
    "# x_values = range(len(importances_ridge))\n",
    "# labels =  X.columns.values.tolist()\n",
    "# plt.bar(x_values, importances_ridge[sorted_index], tick_label=labels)\n",
    "# plt.xticks(rotation=90)\n",
    "# plt.show()\n"
   ]
  },
  {
   "cell_type": "code",
   "execution_count": 73,
   "id": "a3218b86-1ad1-4489-be7a-32b277c1cc06",
   "metadata": {},
   "outputs": [
    {
     "data": {
      "text/plain": [
       "<Axes: xlabel='Date'>"
      ]
     },
     "execution_count": 73,
     "metadata": {},
     "output_type": "execute_result"
    },
    {
     "data": {
      "image/png": "[encoded data removed]",
      "text/plain": [
       "<Figure size 640x480 with 1 Axes>"
      ]
     },
     "metadata": {},
     "output_type": "display_data"
    }
   ],
   "source": [
    "df5=pd.DataFrame({\"Prediction\": predictions_ridge, \"Actual\": y_test})\n",
    "df5.plot()"
   ]
  },
  {
   "cell_type": "markdown",
   "id": "c1193807-8f3a-456f-9a1c-3fa55106779d",
   "metadata": {},
   "source": [
    "## Stacking the Models"
   ]
  },
  {
   "cell_type": "code",
   "execution_count": 74,
   "id": "f299e66f-0680-43b7-b946-c87d01d9f454",
   "metadata": {
    "tags": []
   },
   "outputs": [],
   "source": [
    "# defining list of estimating models fro stacking models\n",
    "estimator= [('rfr', rf),\n",
    "            ('lr',lr_model),\n",
    "            ('xgb',xgb_model),\n",
    "            ('gb',gb_model),\n",
    "            ('ridge', ridge_model)\n",
    "           ]\n",
    "            \n",
    "            "
   ]
  },
  {
   "cell_type": "code",
   "execution_count": 75,
   "id": "f5ce3317-a046-4bdc-938a-0f801b8d89a2",
   "metadata": {
    "tags": []
   },
   "outputs": [],
   "source": [
    "# initiating Stacking Regressor\n",
    "sr=StackingRegressor(\n",
    "    estimators=estimator,\n",
    "    final_estimator=rf)"
   ]
  },
  {
   "cell_type": "code",
   "execution_count": 76,
   "id": "622c26b3-fc81-44e5-9b33-6494dbf37b22",
   "metadata": {
    "tags": []
   },
   "outputs": [
    {
     "data": {
      "text/html": [
       "<style>#sk-container-id-6 {color: black;}#sk-container-id-6 pre{padding: 0;}#sk-container-id-6 div.sk-toggleable {background-color: white;}#sk-container-id-6 label.sk-toggleable__label {cursor: pointer;display: block;width: 100%;margin-bottom: 0;padding: 0.3em;box-sizing: border-box;text-align: center;}#sk-container-id-6 label.sk-toggleable__label-arrow:before {content: \"▸\";float: left;margin-right: 0.25em;color: #696969;}#sk-container-id-6 label.sk-toggleable__label-arrow:hover:before {color: black;}#sk-container-id-6 div.sk-estimator:hover label.sk-toggleable__label-arrow:before {color: black;}#sk-container-id-6 div.sk-toggleable__content {max-height: 0;max-width: 0;overflow: hidden;text-align: left;background-color: #f0f8ff;}#sk-container-id-6 div.sk-toggleable__content pre {margin: 0.2em;color: black;border-radius: 0.25em;background-color: #f0f8ff;}#sk-container-id-6 input.sk-toggleable__control:checked~div.sk-toggleable__content {max-height: 200px;max-width: 100%;overflow: auto;}#sk-container-id-6 input.sk-toggleable__control:checked~label.sk-toggleable__label-arrow:before {content: \"▾\";}#sk-container-id-6 div.sk-estimator input.sk-toggleable__control:checked~label.sk-toggleable__label {background-color: #d4ebff;}#sk-container-id-6 div.sk-label input.sk-toggleable__control:checked~label.sk-toggleable__label {background-color: #d4ebff;}#sk-container-id-6 input.sk-hidden--visually {border: 0;clip: rect(1px 1px 1px 1px);clip: rect(1px, 1px, 1px, 1px);height: 1px;margin: -1px;overflow: hidden;padding: 0;position: absolute;width: 1px;}#sk-container-id-6 div.sk-estimator {font-family: monospace;background-color: #f0f8ff;border: 1px dotted black;border-radius: 0.25em;box-sizing: border-box;margin-bottom: 0.5em;}#sk-container-id-6 div.sk-estimator:hover {background-color: #d4ebff;}#sk-container-id-6 div.sk-parallel-item::after {content: \"\";width: 100%;border-bottom: 1px solid gray;flex-grow: 1;}#sk-container-id-6 div.sk-label:hover label.sk-toggleable__label {background-color: #d4ebff;}#sk-container-id-6 div.sk-serial::before {content: \"\";position: absolute;border-left: 1px solid gray;box-sizing: border-box;top: 0;bottom: 0;left: 50%;z-index: 0;}#sk-container-id-6 div.sk-serial {display: flex;flex-direction: column;align-items: center;background-color: white;padding-right: 0.2em;padding-left: 0.2em;position: relative;}#sk-container-id-6 div.sk-item {position: relative;z-index: 1;}#sk-container-id-6 div.sk-parallel {display: flex;align-items: stretch;justify-content: center;background-color: white;position: relative;}#sk-container-id-6 div.sk-item::before, #sk-container-id-6 div.sk-parallel-item::before {content: \"\";position: absolute;border-left: 1px solid gray;box-sizing: border-box;top: 0;bottom: 0;left: 50%;z-index: -1;}#sk-container-id-6 div.sk-parallel-item {display: flex;flex-direction: column;z-index: 1;position: relative;background-color: white;}#sk-container-id-6 div.sk-parallel-item:first-child::after {align-self: flex-end;width: 50%;}#sk-container-id-6 div.sk-parallel-item:last-child::after {align-self: flex-start;width: 50%;}#sk-container-id-6 div.sk-parallel-item:only-child::after {width: 0;}#sk-container-id-6 div.sk-dashed-wrapped {border: 1px dashed gray;margin: 0 0.4em 0.5em 0.4em;box-sizing: border-box;padding-bottom: 0.4em;background-color: white;}#sk-container-id-6 div.sk-label label {font-family: monospace;font-weight: bold;display: inline-block;line-height: 1.2em;}#sk-container-id-6 div.sk-label-container {text-align: center;}#sk-container-id-6 div.sk-container {/* jupyter's `normalize.less` sets `[hidden] { display: none; }` but bootstrap.min.css set `[hidden] { display: none !important; }` so we also need the `!important` here to be able to override the default hidden behavior on the sphinx rendered scikit-learn.org. See: https://github.com/scikit-learn/scikit-learn/issues/21755 */display: inline-block !important;position: relative;}#sk-container-id-6 div.sk-text-repr-fallback {display: none;}</style><div id=\"sk-container-id-6\" class=\"sk-top-container\"><div class=\"sk-text-repr-fallback\"><pre>StackingRegressor(estimators=[(&#x27;rfr&#x27;, RandomForestRegressor()),\n",
       "                              (&#x27;lr&#x27;, LinearRegression()),\n",
       "                              (&#x27;xgb&#x27;,\n",
       "                               XGBRegressor(base_score=None, booster=None,\n",
       "                                            callbacks=None,\n",
       "                                            colsample_bylevel=None,\n",
       "                                            colsample_bynode=None,\n",
       "                                            colsample_bytree=None, device=None,\n",
       "                                            early_stopping_rounds=None,\n",
       "                                            enable_categorical=False,\n",
       "                                            eval_metric=None,\n",
       "                                            feature_types=None, gamma=None,\n",
       "                                            grow_policy=None,\n",
       "                                            imp...\n",
       "                                            learning_rate=None, max_bin=None,\n",
       "                                            max_cat_threshold=None,\n",
       "                                            max_cat_to_onehot=None,\n",
       "                                            max_delta_step=None, max_depth=None,\n",
       "                                            max_leaves=None,\n",
       "                                            min_child_weight=None, missing=nan,\n",
       "                                            monotone_constraints=None,\n",
       "                                            multi_strategy=None,\n",
       "                                            n_estimators=None, n_jobs=None,\n",
       "                                            num_parallel_tree=None,\n",
       "                                            random_state=None, ...)),\n",
       "                              (&#x27;gb&#x27;, GradientBoostingRegressor()),\n",
       "                              (&#x27;ridge&#x27;, Ridge())],\n",
       "                  final_estimator=RandomForestRegressor())</pre><b>In a Jupyter environment, please rerun this cell to show the HTML representation or trust the notebook. <br />On GitHub, the HTML representation is unable to render, please try loading this page with nbviewer.org.</b></div><div class=\"sk-container\" hidden><div class=\"sk-item sk-dashed-wrapped\"><div class=\"sk-label-container\"><div class=\"sk-label sk-toggleable\"><input class=\"sk-toggleable__control sk-hidden--visually\" id=\"sk-estimator-id-16\" type=\"checkbox\" ><label for=\"sk-estimator-id-16\" class=\"sk-toggleable__label sk-toggleable__label-arrow\">StackingRegressor</label><div class=\"sk-toggleable__content\"><pre>StackingRegressor(estimators=[(&#x27;rfr&#x27;, RandomForestRegressor()),\n",
       "                              (&#x27;lr&#x27;, LinearRegression()),\n",
       "                              (&#x27;xgb&#x27;,\n",
       "                               XGBRegressor(base_score=None, booster=None,\n",
       "                                            callbacks=None,\n",
       "                                            colsample_bylevel=None,\n",
       "                                            colsample_bynode=None,\n",
       "                                            colsample_bytree=None, device=None,\n",
       "                                            early_stopping_rounds=None,\n",
       "                                            enable_categorical=False,\n",
       "                                            eval_metric=None,\n",
       "                                            feature_types=None, gamma=None,\n",
       "                                            grow_policy=None,\n",
       "                                            imp...\n",
       "                                            learning_rate=None, max_bin=None,\n",
       "                                            max_cat_threshold=None,\n",
       "                                            max_cat_to_onehot=None,\n",
       "                                            max_delta_step=None, max_depth=None,\n",
       "                                            max_leaves=None,\n",
       "                                            min_child_weight=None, missing=nan,\n",
       "                                            monotone_constraints=None,\n",
       "                                            multi_strategy=None,\n",
       "                                            n_estimators=None, n_jobs=None,\n",
       "                                            num_parallel_tree=None,\n",
       "                                            random_state=None, ...)),\n",
       "                              (&#x27;gb&#x27;, GradientBoostingRegressor()),\n",
       "                              (&#x27;ridge&#x27;, Ridge())],\n",
       "                  final_estimator=RandomForestRegressor())</pre></div></div></div><div class=\"sk-serial\"><div class=\"sk-item\"><div class=\"sk-parallel\"><div class=\"sk-parallel-item\"><div class=\"sk-item\"><div class=\"sk-label-container\"><div class=\"sk-label sk-toggleable\"><label>rfr</label></div></div><div class=\"sk-serial\"><div class=\"sk-item\"><div class=\"sk-estimator sk-toggleable\"><input class=\"sk-toggleable__control sk-hidden--visually\" id=\"sk-estimator-id-17\" type=\"checkbox\" ><label for=\"sk-estimator-id-17\" class=\"sk-toggleable__label sk-toggleable__label-arrow\">RandomForestRegressor</label><div class=\"sk-toggleable__content\"><pre>RandomForestRegressor()</pre></div></div></div></div></div></div><div class=\"sk-parallel-item\"><div class=\"sk-item\"><div class=\"sk-label-container\"><div class=\"sk-label sk-toggleable\"><label>lr</label></div></div><div class=\"sk-serial\"><div class=\"sk-item\"><div class=\"sk-estimator sk-toggleable\"><input class=\"sk-toggleable__control sk-hidden--visually\" id=\"sk-estimator-id-18\" type=\"checkbox\" ><label for=\"sk-estimator-id-18\" class=\"sk-toggleable__label sk-toggleable__label-arrow\">LinearRegression</label><div class=\"sk-toggleable__content\"><pre>LinearRegression()</pre></div></div></div></div></div></div><div class=\"sk-parallel-item\"><div class=\"sk-item\"><div class=\"sk-label-container\"><div class=\"sk-label sk-toggleable\"><label>xgb</label></div></div><div class=\"sk-serial\"><div class=\"sk-item\"><div class=\"sk-estimator sk-toggleable\"><input class=\"sk-toggleable__control sk-hidden--visually\" id=\"sk-estimator-id-19\" type=\"checkbox\" ><label for=\"sk-estimator-id-19\" class=\"sk-toggleable__label sk-toggleable__label-arrow\">XGBRegressor</label><div class=\"sk-toggleable__content\"><pre>XGBRegressor(base_score=None, booster=None, callbacks=None,\n",
       "             colsample_bylevel=None, colsample_bynode=None,\n",
       "             colsample_bytree=None, device=None, early_stopping_rounds=None,\n",
       "             enable_categorical=False, eval_metric=None, feature_types=None,\n",
       "             gamma=None, grow_policy=None, importance_type=None,\n",
       "             interaction_constraints=None, learning_rate=None, max_bin=None,\n",
       "             max_cat_threshold=None, max_cat_to_onehot=None,\n",
       "             max_delta_step=None, max_depth=None, max_leaves=None,\n",
       "             min_child_weight=None, missing=nan, monotone_constraints=None,\n",
       "             multi_strategy=None, n_estimators=None, n_jobs=None,\n",
       "             num_parallel_tree=None, random_state=None, ...)</pre></div></div></div></div></div></div><div class=\"sk-parallel-item\"><div class=\"sk-item\"><div class=\"sk-label-container\"><div class=\"sk-label sk-toggleable\"><label>gb</label></div></div><div class=\"sk-serial\"><div class=\"sk-item\"><div class=\"sk-estimator sk-toggleable\"><input class=\"sk-toggleable__control sk-hidden--visually\" id=\"sk-estimator-id-20\" type=\"checkbox\" ><label for=\"sk-estimator-id-20\" class=\"sk-toggleable__label sk-toggleable__label-arrow\">GradientBoostingRegressor</label><div class=\"sk-toggleable__content\"><pre>GradientBoostingRegressor()</pre></div></div></div></div></div></div><div class=\"sk-parallel-item\"><div class=\"sk-item\"><div class=\"sk-label-container\"><div class=\"sk-label sk-toggleable\"><label>ridge</label></div></div><div class=\"sk-serial\"><div class=\"sk-item\"><div class=\"sk-estimator sk-toggleable\"><input class=\"sk-toggleable__control sk-hidden--visually\" id=\"sk-estimator-id-21\" type=\"checkbox\" ><label for=\"sk-estimator-id-21\" class=\"sk-toggleable__label sk-toggleable__label-arrow\">Ridge</label><div class=\"sk-toggleable__content\"><pre>Ridge()</pre></div></div></div></div></div></div></div></div><div class=\"sk-item\"><div class=\"sk-parallel\"><div class=\"sk-parallel-item\"><div class=\"sk-item\"><div class=\"sk-label-container\"><div class=\"sk-label sk-toggleable\"><label>final_estimator</label></div></div><div class=\"sk-serial\"><div class=\"sk-item\"><div class=\"sk-estimator sk-toggleable\"><input class=\"sk-toggleable__control sk-hidden--visually\" id=\"sk-estimator-id-22\" type=\"checkbox\" ><label for=\"sk-estimator-id-22\" class=\"sk-toggleable__label sk-toggleable__label-arrow\">RandomForestRegressor</label><div class=\"sk-toggleable__content\"><pre>RandomForestRegressor()</pre></div></div></div></div></div></div></div></div></div></div></div></div>"
      ],
      "text/plain": [
       "StackingRegressor(estimators=[('rfr', RandomForestRegressor()),\n",
       "                              ('lr', LinearRegression()),\n",
       "                              ('xgb',\n",
       "                               XGBRegressor(base_score=None, booster=None,\n",
       "                                            callbacks=None,\n",
       "                                            colsample_bylevel=None,\n",
       "                                            colsample_bynode=None,\n",
       "                                            colsample_bytree=None, device=None,\n",
       "                                            early_stopping_rounds=None,\n",
       "                                            enable_categorical=False,\n",
       "                                            eval_metric=None,\n",
       "                                            feature_types=None, gamma=None,\n",
       "                                            grow_policy=None,\n",
       "                                            imp...\n",
       "                                            learning_rate=None, max_bin=None,\n",
       "                                            max_cat_threshold=None,\n",
       "                                            max_cat_to_onehot=None,\n",
       "                                            max_delta_step=None, max_depth=None,\n",
       "                                            max_leaves=None,\n",
       "                                            min_child_weight=None, missing=nan,\n",
       "                                            monotone_constraints=None,\n",
       "                                            multi_strategy=None,\n",
       "                                            n_estimators=None, n_jobs=None,\n",
       "                                            num_parallel_tree=None,\n",
       "                                            random_state=None, ...)),\n",
       "                              ('gb', GradientBoostingRegressor()),\n",
       "                              ('ridge', Ridge())],\n",
       "                  final_estimator=RandomForestRegressor())"
      ]
     },
     "execution_count": 76,
     "metadata": {},
     "output_type": "execute_result"
    }
   ],
   "source": [
    "# fitting the regressor\n",
    "sr.fit(X_train_scaled,y_train)"
   ]
  },
  {
   "cell_type": "code",
   "execution_count": 77,
   "id": "8eebb4e3-6822-469e-948e-119a4b8a0651",
   "metadata": {},
   "outputs": [
    {
     "name": "stdout",
     "output_type": "stream",
     "text": [
      "Mean Absolute Error: 1.5152856296637907\n",
      "Mean Squared Error: 7.386237468720241\n",
      "Root Mean Squared Error: 2.717763320953508\n",
      "R2 Score: 0.9977009552841023\n"
     ]
    }
   ],
   "source": [
    "# Training Data\n",
    "predictions_sr1=sr.predict(X_train_scaled)\n",
    "print('Mean Absolute Error:', metrics.mean_absolute_error(y_train, predictions_sr1))\n",
    "print('Mean Squared Error:', metrics.mean_squared_error(y_train, predictions_sr1))\n",
    "print('Root Mean Squared Error:', np.sqrt(metrics.mean_squared_error(y_train, predictions_sr1)))\n",
    "print('R2 Score:', metrics.r2_score(y_train, predictions_sr1))\n",
    "sr_r2_train= round((metrics.r2_score(y_train, predictions_sr1)),4)\n",
    "sr_mse_train=round((metrics.mean_squared_error(y_train, predictions_sr1)),4)"
   ]
  },
  {
   "cell_type": "code",
   "execution_count": 78,
   "id": "ad15f20c-0ebd-4f16-8366-ac16dcf951f5",
   "metadata": {
    "tags": []
   },
   "outputs": [
    {
     "name": "stdout",
     "output_type": "stream",
     "text": [
      "Mean Absolute Error: 3.1090320360278256\n",
      "Mean Squared Error: 17.240146950947874\n",
      "Root Mean Squared Error: 4.152125594312855\n",
      "R2 Score: 0.950318998367467\n"
     ]
    }
   ],
   "source": [
    "# Testing Data\n",
    "predictions_sr=sr.predict(X_test_scaled)\n",
    "print('Mean Absolute Error:', metrics.mean_absolute_error(y_test, predictions_sr))\n",
    "print('Mean Squared Error:', metrics.mean_squared_error(y_test, predictions_sr))\n",
    "print('Root Mean Squared Error:', np.sqrt(metrics.mean_squared_error(y_test, predictions_sr)))\n",
    "print('R2 Score:', metrics.r2_score(y_test, predictions_sr))\n",
    "sr_r2_test= round((metrics.r2_score(y_test, predictions_sr)),4)\n",
    "sr_mse_test=round((metrics.mean_squared_error(y_test, predictions_sr)),4)"
   ]
  },
  {
   "cell_type": "code",
   "execution_count": 79,
   "id": "8c9b43e1-d61a-47d9-9144-4864c45edec3",
   "metadata": {
    "tags": []
   },
   "outputs": [
    {
     "data": {
      "text/plain": [
       "<Axes: xlabel='Date'>"
      ]
     },
     "execution_count": 79,
     "metadata": {},
     "output_type": "execute_result"
    },
    {
     "data": {
      "image/png": "[encoded data removed]",
      "text/plain": [
       "<Figure size 640x480 with 1 Axes>"
      ]
     },
     "metadata": {},
     "output_type": "display_data"
    }
   ],
   "source": [
    "df5=pd.DataFrame({\"Prediction\": predictions_sr, \"Actual\": y_test})\n",
    "df5.plot()"
   ]
  },
  {
   "cell_type": "markdown",
   "id": "7f3f01e2-5af3-4550-a654-8567837d3631",
   "metadata": {},
   "source": [
    "## Voting Classifier"
   ]
  },
  {
   "cell_type": "code",
   "execution_count": 80,
   "id": "0c71d48b-d0d2-43d8-8772-3bbf3e528c22",
   "metadata": {
    "tags": []
   },
   "outputs": [],
   "source": [
    "vc_estimator= [('rfr', rf),\n",
    "            ('lr',lr_model),\n",
    "            ('xgb',xgb_model),\n",
    "            ('gb',gb_model),\n",
    "            ('ridge', ridge_model)\n",
    "           ]\n",
    "            "
   ]
  },
  {
   "cell_type": "code",
   "execution_count": 81,
   "id": "60034d12-5f62-40c5-9e9b-fef83396dfc4",
   "metadata": {},
   "outputs": [],
   "source": [
    "vc= VotingRegressor(estimators=vc_estimator, n_jobs=5) #, flatten_transform=True, verbose=False)"
   ]
  },
  {
   "cell_type": "code",
   "execution_count": 82,
   "id": "3f866b58-b98c-40f8-a792-578a5f8fca36",
   "metadata": {},
   "outputs": [
    {
     "data": {
      "text/html": [
       "<style>#sk-container-id-7 {color: black;}#sk-container-id-7 pre{padding: 0;}#sk-container-id-7 div.sk-toggleable {background-color: white;}#sk-container-id-7 label.sk-toggleable__label {cursor: pointer;display: block;width: 100%;margin-bottom: 0;padding: 0.3em;box-sizing: border-box;text-align: center;}#sk-container-id-7 label.sk-toggleable__label-arrow:before {content: \"▸\";float: left;margin-right: 0.25em;color: #696969;}#sk-container-id-7 label.sk-toggleable__label-arrow:hover:before {color: black;}#sk-container-id-7 div.sk-estimator:hover label.sk-toggleable__label-arrow:before {color: black;}#sk-container-id-7 div.sk-toggleable__content {max-height: 0;max-width: 0;overflow: hidden;text-align: left;background-color: #f0f8ff;}#sk-container-id-7 div.sk-toggleable__content pre {margin: 0.2em;color: black;border-radius: 0.25em;background-color: #f0f8ff;}#sk-container-id-7 input.sk-toggleable__control:checked~div.sk-toggleable__content {max-height: 200px;max-width: 100%;overflow: auto;}#sk-container-id-7 input.sk-toggleable__control:checked~label.sk-toggleable__label-arrow:before {content: \"▾\";}#sk-container-id-7 div.sk-estimator input.sk-toggleable__control:checked~label.sk-toggleable__label {background-color: #d4ebff;}#sk-container-id-7 div.sk-label input.sk-toggleable__control:checked~label.sk-toggleable__label {background-color: #d4ebff;}#sk-container-id-7 input.sk-hidden--visually {border: 0;clip: rect(1px 1px 1px 1px);clip: rect(1px, 1px, 1px, 1px);height: 1px;margin: -1px;overflow: hidden;padding: 0;position: absolute;width: 1px;}#sk-container-id-7 div.sk-estimator {font-family: monospace;background-color: #f0f8ff;border: 1px dotted black;border-radius: 0.25em;box-sizing: border-box;margin-bottom: 0.5em;}#sk-container-id-7 div.sk-estimator:hover {background-color: #d4ebff;}#sk-container-id-7 div.sk-parallel-item::after {content: \"\";width: 100%;border-bottom: 1px solid gray;flex-grow: 1;}#sk-container-id-7 div.sk-label:hover label.sk-toggleable__label {background-color: #d4ebff;}#sk-container-id-7 div.sk-serial::before {content: \"\";position: absolute;border-left: 1px solid gray;box-sizing: border-box;top: 0;bottom: 0;left: 50%;z-index: 0;}#sk-container-id-7 div.sk-serial {display: flex;flex-direction: column;align-items: center;background-color: white;padding-right: 0.2em;padding-left: 0.2em;position: relative;}#sk-container-id-7 div.sk-item {position: relative;z-index: 1;}#sk-container-id-7 div.sk-parallel {display: flex;align-items: stretch;justify-content: center;background-color: white;position: relative;}#sk-container-id-7 div.sk-item::before, #sk-container-id-7 div.sk-parallel-item::before {content: \"\";position: absolute;border-left: 1px solid gray;box-sizing: border-box;top: 0;bottom: 0;left: 50%;z-index: -1;}#sk-container-id-7 div.sk-parallel-item {display: flex;flex-direction: column;z-index: 1;position: relative;background-color: white;}#sk-container-id-7 div.sk-parallel-item:first-child::after {align-self: flex-end;width: 50%;}#sk-container-id-7 div.sk-parallel-item:last-child::after {align-self: flex-start;width: 50%;}#sk-container-id-7 div.sk-parallel-item:only-child::after {width: 0;}#sk-container-id-7 div.sk-dashed-wrapped {border: 1px dashed gray;margin: 0 0.4em 0.5em 0.4em;box-sizing: border-box;padding-bottom: 0.4em;background-color: white;}#sk-container-id-7 div.sk-label label {font-family: monospace;font-weight: bold;display: inline-block;line-height: 1.2em;}#sk-container-id-7 div.sk-label-container {text-align: center;}#sk-container-id-7 div.sk-container {/* jupyter's `normalize.less` sets `[hidden] { display: none; }` but bootstrap.min.css set `[hidden] { display: none !important; }` so we also need the `!important` here to be able to override the default hidden behavior on the sphinx rendered scikit-learn.org. See: https://github.com/scikit-learn/scikit-learn/issues/21755 */display: inline-block !important;position: relative;}#sk-container-id-7 div.sk-text-repr-fallback {display: none;}</style><div id=\"sk-container-id-7\" class=\"sk-top-container\"><div class=\"sk-text-repr-fallback\"><pre>VotingRegressor(estimators=[(&#x27;rfr&#x27;, RandomForestRegressor()),\n",
       "                            (&#x27;lr&#x27;, LinearRegression()),\n",
       "                            (&#x27;xgb&#x27;,\n",
       "                             XGBRegressor(base_score=None, booster=None,\n",
       "                                          callbacks=None,\n",
       "                                          colsample_bylevel=None,\n",
       "                                          colsample_bynode=None,\n",
       "                                          colsample_bytree=None, device=None,\n",
       "                                          early_stopping_rounds=None,\n",
       "                                          enable_categorical=False,\n",
       "                                          eval_metric=None, feature_types=None,\n",
       "                                          gamma=None, grow_policy=None,\n",
       "                                          impor...\n",
       "                                          interaction_constraints=None,\n",
       "                                          learning_rate=None, max_bin=None,\n",
       "                                          max_cat_threshold=None,\n",
       "                                          max_cat_to_onehot=None,\n",
       "                                          max_delta_step=None, max_depth=None,\n",
       "                                          max_leaves=None,\n",
       "                                          min_child_weight=None, missing=nan,\n",
       "                                          monotone_constraints=None,\n",
       "                                          multi_strategy=None,\n",
       "                                          n_estimators=None, n_jobs=None,\n",
       "                                          num_parallel_tree=None,\n",
       "                                          random_state=None, ...)),\n",
       "                            (&#x27;gb&#x27;, GradientBoostingRegressor()),\n",
       "                            (&#x27;ridge&#x27;, Ridge())],\n",
       "                n_jobs=5)</pre><b>In a Jupyter environment, please rerun this cell to show the HTML representation or trust the notebook. <br />On GitHub, the HTML representation is unable to render, please try loading this page with nbviewer.org.</b></div><div class=\"sk-container\" hidden><div class=\"sk-item sk-dashed-wrapped\"><div class=\"sk-label-container\"><div class=\"sk-label sk-toggleable\"><input class=\"sk-toggleable__control sk-hidden--visually\" id=\"sk-estimator-id-23\" type=\"checkbox\" ><label for=\"sk-estimator-id-23\" class=\"sk-toggleable__label sk-toggleable__label-arrow\">VotingRegressor</label><div class=\"sk-toggleable__content\"><pre>VotingRegressor(estimators=[(&#x27;rfr&#x27;, RandomForestRegressor()),\n",
       "                            (&#x27;lr&#x27;, LinearRegression()),\n",
       "                            (&#x27;xgb&#x27;,\n",
       "                             XGBRegressor(base_score=None, booster=None,\n",
       "                                          callbacks=None,\n",
       "                                          colsample_bylevel=None,\n",
       "                                          colsample_bynode=None,\n",
       "                                          colsample_bytree=None, device=None,\n",
       "                                          early_stopping_rounds=None,\n",
       "                                          enable_categorical=False,\n",
       "                                          eval_metric=None, feature_types=None,\n",
       "                                          gamma=None, grow_policy=None,\n",
       "                                          impor...\n",
       "                                          interaction_constraints=None,\n",
       "                                          learning_rate=None, max_bin=None,\n",
       "                                          max_cat_threshold=None,\n",
       "                                          max_cat_to_onehot=None,\n",
       "                                          max_delta_step=None, max_depth=None,\n",
       "                                          max_leaves=None,\n",
       "                                          min_child_weight=None, missing=nan,\n",
       "                                          monotone_constraints=None,\n",
       "                                          multi_strategy=None,\n",
       "                                          n_estimators=None, n_jobs=None,\n",
       "                                          num_parallel_tree=None,\n",
       "                                          random_state=None, ...)),\n",
       "                            (&#x27;gb&#x27;, GradientBoostingRegressor()),\n",
       "                            (&#x27;ridge&#x27;, Ridge())],\n",
       "                n_jobs=5)</pre></div></div></div><div class=\"sk-parallel\"><div class=\"sk-parallel-item\"><div class=\"sk-item\"><div class=\"sk-label-container\"><div class=\"sk-label sk-toggleable\"><label>rfr</label></div></div><div class=\"sk-serial\"><div class=\"sk-item\"><div class=\"sk-estimator sk-toggleable\"><input class=\"sk-toggleable__control sk-hidden--visually\" id=\"sk-estimator-id-24\" type=\"checkbox\" ><label for=\"sk-estimator-id-24\" class=\"sk-toggleable__label sk-toggleable__label-arrow\">RandomForestRegressor</label><div class=\"sk-toggleable__content\"><pre>RandomForestRegressor()</pre></div></div></div></div></div></div><div class=\"sk-parallel-item\"><div class=\"sk-item\"><div class=\"sk-label-container\"><div class=\"sk-label sk-toggleable\"><label>lr</label></div></div><div class=\"sk-serial\"><div class=\"sk-item\"><div class=\"sk-estimator sk-toggleable\"><input class=\"sk-toggleable__control sk-hidden--visually\" id=\"sk-estimator-id-25\" type=\"checkbox\" ><label for=\"sk-estimator-id-25\" class=\"sk-toggleable__label sk-toggleable__label-arrow\">LinearRegression</label><div class=\"sk-toggleable__content\"><pre>LinearRegression()</pre></div></div></div></div></div></div><div class=\"sk-parallel-item\"><div class=\"sk-item\"><div class=\"sk-label-container\"><div class=\"sk-label sk-toggleable\"><label>xgb</label></div></div><div class=\"sk-serial\"><div class=\"sk-item\"><div class=\"sk-estimator sk-toggleable\"><input class=\"sk-toggleable__control sk-hidden--visually\" id=\"sk-estimator-id-26\" type=\"checkbox\" ><label for=\"sk-estimator-id-26\" class=\"sk-toggleable__label sk-toggleable__label-arrow\">XGBRegressor</label><div class=\"sk-toggleable__content\"><pre>XGBRegressor(base_score=None, booster=None, callbacks=None,\n",
       "             colsample_bylevel=None, colsample_bynode=None,\n",
       "             colsample_bytree=None, device=None, early_stopping_rounds=None,\n",
       "             enable_categorical=False, eval_metric=None, feature_types=None,\n",
       "             gamma=None, grow_policy=None, importance_type=None,\n",
       "             interaction_constraints=None, learning_rate=None, max_bin=None,\n",
       "             max_cat_threshold=None, max_cat_to_onehot=None,\n",
       "             max_delta_step=None, max_depth=None, max_leaves=None,\n",
       "             min_child_weight=None, missing=nan, monotone_constraints=None,\n",
       "             multi_strategy=None, n_estimators=None, n_jobs=None,\n",
       "             num_parallel_tree=None, random_state=None, ...)</pre></div></div></div></div></div></div><div class=\"sk-parallel-item\"><div class=\"sk-item\"><div class=\"sk-label-container\"><div class=\"sk-label sk-toggleable\"><label>gb</label></div></div><div class=\"sk-serial\"><div class=\"sk-item\"><div class=\"sk-estimator sk-toggleable\"><input class=\"sk-toggleable__control sk-hidden--visually\" id=\"sk-estimator-id-27\" type=\"checkbox\" ><label for=\"sk-estimator-id-27\" class=\"sk-toggleable__label sk-toggleable__label-arrow\">GradientBoostingRegressor</label><div class=\"sk-toggleable__content\"><pre>GradientBoostingRegressor()</pre></div></div></div></div></div></div><div class=\"sk-parallel-item\"><div class=\"sk-item\"><div class=\"sk-label-container\"><div class=\"sk-label sk-toggleable\"><label>ridge</label></div></div><div class=\"sk-serial\"><div class=\"sk-item\"><div class=\"sk-estimator sk-toggleable\"><input class=\"sk-toggleable__control sk-hidden--visually\" id=\"sk-estimator-id-28\" type=\"checkbox\" ><label for=\"sk-estimator-id-28\" class=\"sk-toggleable__label sk-toggleable__label-arrow\">Ridge</label><div class=\"sk-toggleable__content\"><pre>Ridge()</pre></div></div></div></div></div></div></div></div></div></div>"
      ],
      "text/plain": [
       "VotingRegressor(estimators=[('rfr', RandomForestRegressor()),\n",
       "                            ('lr', LinearRegression()),\n",
       "                            ('xgb',\n",
       "                             XGBRegressor(base_score=None, booster=None,\n",
       "                                          callbacks=None,\n",
       "                                          colsample_bylevel=None,\n",
       "                                          colsample_bynode=None,\n",
       "                                          colsample_bytree=None, device=None,\n",
       "                                          early_stopping_rounds=None,\n",
       "                                          enable_categorical=False,\n",
       "                                          eval_metric=None, feature_types=None,\n",
       "                                          gamma=None, grow_policy=None,\n",
       "                                          impor...\n",
       "                                          interaction_constraints=None,\n",
       "                                          learning_rate=None, max_bin=None,\n",
       "                                          max_cat_threshold=None,\n",
       "                                          max_cat_to_onehot=None,\n",
       "                                          max_delta_step=None, max_depth=None,\n",
       "                                          max_leaves=None,\n",
       "                                          min_child_weight=None, missing=nan,\n",
       "                                          monotone_constraints=None,\n",
       "                                          multi_strategy=None,\n",
       "                                          n_estimators=None, n_jobs=None,\n",
       "                                          num_parallel_tree=None,\n",
       "                                          random_state=None, ...)),\n",
       "                            ('gb', GradientBoostingRegressor()),\n",
       "                            ('ridge', Ridge())],\n",
       "                n_jobs=5)"
      ]
     },
     "execution_count": 82,
     "metadata": {},
     "output_type": "execute_result"
    }
   ],
   "source": [
    "# fitting the regressor\n",
    "vc.fit(X_train_scaled,y_train)"
   ]
  },
  {
   "cell_type": "code",
   "execution_count": 83,
   "id": "f6e1e557-7460-4e61-95d9-da40f3c507fb",
   "metadata": {},
   "outputs": [
    {
     "name": "stdout",
     "output_type": "stream",
     "text": [
      "Mean Absolute Error: 0.8570154083829594\n",
      "Mean Squared Error: 2.2043924738541594\n",
      "Root Mean Squared Error: 1.4847196617052525\n",
      "R2 Score: 0.9993138594730753\n"
     ]
    }
   ],
   "source": [
    "# prediction on Training Data\n",
    "predictions_vc1=vc.predict(X_train_scaled)\n",
    "print('Mean Absolute Error:', metrics.mean_absolute_error(y_train, predictions_vc1))\n",
    "print('Mean Squared Error:', metrics.mean_squared_error(y_train, predictions_vc1))\n",
    "print('Root Mean Squared Error:', np.sqrt(metrics.mean_squared_error(y_train, predictions_vc1)))\n",
    "print('R2 Score:', metrics.r2_score(y_train, predictions_vc1))\n",
    "vc_r2_training= round((metrics.r2_score(y_train, predictions_vc1)),4)\n",
    "vc_mse_training=round((metrics.mean_squared_error(y_train, predictions_vc1)),4)"
   ]
  },
  {
   "cell_type": "code",
   "execution_count": 84,
   "id": "a0e5a661-6066-4246-a0e8-52912318005f",
   "metadata": {
    "tags": []
   },
   "outputs": [
    {
     "name": "stdout",
     "output_type": "stream",
     "text": [
      "Mean Absolute Error: 3.179787329380558\n",
      "Mean Squared Error: 17.291227983124042\n",
      "Root Mean Squared Error: 4.158272235330925\n",
      "R2 Score: 0.9501717979491553\n"
     ]
    }
   ],
   "source": [
    "# prediction on Testing Data\n",
    "predictions_vc=vc.predict(X_test_scaled)\n",
    "print('Mean Absolute Error:', metrics.mean_absolute_error(y_test, predictions_vc))\n",
    "print('Mean Squared Error:', metrics.mean_squared_error(y_test, predictions_vc))\n",
    "print('Root Mean Squared Error:', np.sqrt(metrics.mean_squared_error(y_test, predictions_vc)))\n",
    "print('R2 Score:', metrics.r2_score(y_test, predictions_vc))\n",
    "vc_r2_testing= round((metrics.r2_score(y_test, predictions_vc)),4)\n",
    "vc_mse_testing=round((metrics.mean_squared_error(y_test, predictions_vc)),4)"
   ]
  },
  {
   "cell_type": "code",
   "execution_count": 85,
   "id": "c35f4fa7-df94-4ead-b1a8-26280c150003",
   "metadata": {
    "tags": []
   },
   "outputs": [
    {
     "data": {
      "text/plain": [
       "<Axes: xlabel='Date'>"
      ]
     },
     "execution_count": 85,
     "metadata": {},
     "output_type": "execute_result"
    },
    {
     "data": {
      "image/png": "[encoded data removed]",
      "text/plain": [
       "<Figure size 640x480 with 1 Axes>"
      ]
     },
     "metadata": {},
     "output_type": "display_data"
    }
   ],
   "source": [
    "df6=pd.DataFrame({\"Prediction\": predictions_vc, \"Actual\": y_test})\n",
    "df6.plot()"
   ]
  },
  {
   "cell_type": "markdown",
   "id": "175a23a9-4bb3-4ab6-bfe1-0e2b2277619c",
   "metadata": {
    "tags": []
   },
   "source": [
    "## Model Results"
   ]
  },
  {
   "cell_type": "code",
   "execution_count": 86,
   "id": "47a48400-5ffb-46e8-b48c-4cae54bbfdc4",
   "metadata": {},
   "outputs": [
    {
     "data": {
      "text/html": [
       "<div>\n",
       "<style scoped>\n",
       "    .dataframe tbody tr th:only-of-type {\n",
       "        vertical-align: middle;\n",
       "    }\n",
       "\n",
       "    .dataframe tbody tr th {\n",
       "        vertical-align: top;\n",
       "    }\n",
       "\n",
       "    .dataframe thead th {\n",
       "        text-align: right;\n",
       "    }\n",
       "</style>\n",
       "<table border=\"1\" class=\"dataframe\">\n",
       "  <thead>\n",
       "    <tr style=\"text-align: right;\">\n",
       "      <th></th>\n",
       "      <th>r^2</th>\n",
       "      <th>MAE</th>\n",
       "    </tr>\n",
       "    <tr>\n",
       "      <th>model</th>\n",
       "      <th></th>\n",
       "      <th></th>\n",
       "    </tr>\n",
       "  </thead>\n",
       "  <tbody>\n",
       "    <tr>\n",
       "      <th>Stacking_Model_Tr</th>\n",
       "      <td>0.9977</td>\n",
       "      <td>7.3862</td>\n",
       "    </tr>\n",
       "    <tr>\n",
       "      <th>Stacking_Model_Testing</th>\n",
       "      <td>0.9503</td>\n",
       "      <td>17.2401</td>\n",
       "    </tr>\n",
       "    <tr>\n",
       "      <th>VC_training</th>\n",
       "      <td>0.9993</td>\n",
       "      <td>2.2044</td>\n",
       "    </tr>\n",
       "    <tr>\n",
       "      <th>VC_testing</th>\n",
       "      <td>0.9502</td>\n",
       "      <td>17.2912</td>\n",
       "    </tr>\n",
       "  </tbody>\n",
       "</table>\n",
       "</div>"
      ],
      "text/plain": [
       "                           r^2      MAE\n",
       "model                                  \n",
       "Stacking_Model_Tr       0.9977   7.3862\n",
       "Stacking_Model_Testing  0.9503  17.2401\n",
       "VC_training             0.9993   2.2044\n",
       "VC_testing              0.9502  17.2912"
      ]
     },
     "execution_count": 86,
     "metadata": {},
     "output_type": "execute_result"
    }
   ],
   "source": [
    "model_performance={\"model\":['Stacking_Model_Tr','Stacking_Model_Testing','VC_training','VC_testing'],\n",
    "                   \"r^2\": [sr_r2_train, sr_r2_test,vc_r2_training,vc_r2_testing],\n",
    "                   \"MAE\":[sr_mse_train,sr_mse_test,vc_mse_training,vc_mse_testing]}\n",
    "model_performance_df=pd.DataFrame(model_performance)\n",
    "model_performance_df=model_performance_df.set_index(\"model\")\n",
    "model_performance_df"
   ]
  },
  {
   "cell_type": "code",
   "execution_count": 87,
   "id": "6f27b190-6d2f-4ae1-a640-183e484fc9cd",
   "metadata": {
    "tags": []
   },
   "outputs": [
    {
     "data": {
      "text/plain": [
       "<Axes: xlabel='index'>"
      ]
     },
     "execution_count": 87,
     "metadata": {},
     "output_type": "execute_result"
    },
    {
     "data": {
      "image/png": "[encoded data removed]",
      "text/plain": [
       "<Figure size 640x480 with 1 Axes>"
      ]
     },
     "metadata": {},
     "output_type": "display_data"
    }
   ],
   "source": [
    "\n",
    "dict_results={\"model\":['Random_Forest','Gradient_boost','XGradient_boost','Linear_Regression','Ridge','Stacking_Models','VotingClassifier'], \"r2\":\n",
    "              [rf_r2,gb_r2,xgb_r2,lrm_r2,ridge_r2,sr_r2_test,vc_r2_testing],\"mse\":\n",
    "              [rf_mse,gb_mse,xgb_mse,lrm_mse,ridge_mse,sr_mse_test,vc_mse_testing]}\n",
    "                                                                       \n",
    "                                                           \n",
    "result_df=pd.DataFrame(dict_results)\n",
    "result_df=result_df.set_index(\"model\")\n",
    "result_df[\"r2\"].plot(kind=\"bar\",xlabel=\"index\")"
   ]
  },
  {
   "cell_type": "code",
   "execution_count": 88,
   "id": "377d0a11-1252-47d8-aa91-a2383fd4f43c",
   "metadata": {
    "tags": []
   },
   "outputs": [
    {
     "data": {
      "text/plain": [
       "<Axes: xlabel='index'>"
      ]
     },
     "execution_count": 88,
     "metadata": {},
     "output_type": "execute_result"
    },
    {
     "data": {
      "image/png": "[encoded data removed]",
      "text/plain": [
       "<Figure size 640x480 with 1 Axes>"
      ]
     },
     "metadata": {},
     "output_type": "display_data"
    }
   ],
   "source": [
    "result_df[\"mse\"].plot(kind=\"bar\",xlabel=\"index\")"
   ]
  },
  {
   "cell_type": "code",
   "execution_count": 89,
   "id": "4c0f6484-1970-4be5-9f4d-0719e8167a9d",
   "metadata": {},
   "outputs": [],
   "source": [
    "# class RegressorModel(object):\n",
    "#     def __init__(self, clf, params=None):\n",
    "#         self.clf = clf(**params)\n",
    "# def train(self, x_train, y_train):\n",
    "#         self.clf.fit(x_train, y_train)\n",
    "    \n",
    "#     def fit(self,x,y):\n",
    "#         return self.clf.fit(x,y)\n",
    "    \n",
    "#     def feature_importances(self,x,y):\n",
    "#         return self.clf.fit(x,y).feature_importances_\n",
    "    \n",
    "#     def predict(self, x):\n",
    "#         return self.clf.predict(x)"
   ]
  },
  {
   "cell_type": "code",
   "execution_count": null,
   "id": "6b3edcd4-db4b-4f52-816d-c24b37e95d43",
   "metadata": {},
   "outputs": [],
   "source": []
  }
 ],
 "metadata": {
  "kernelspec": {
   "display_name": "Python 3 (ipykernel)",
   "language": "python",
   "name": "python3"
  },
  "language_info": {
   "codemirror_mode": {
    "name": "ipython",
    "version": 3
   },
   "file_extension": ".py",
   "mimetype": "text/x-python",
   "name": "python",
   "nbconvert_exporter": "python",
   "pygments_lexer": "ipython3",
   "version": "3.10.13"
  }
 },
 "nbformat": 4,
 "nbformat_minor": 5
}
